{
 "cells": [
  {
   "cell_type": "code",
   "execution_count": 1,
   "metadata": {},
   "outputs": [],
   "source": [
    "import numpy as np\n",
    "import matplotlib.pyplot as plt\n",
    "from mpl_toolkits.axes_grid1 import Grid"
   ]
  },
  {
   "cell_type": "code",
   "execution_count": 2,
   "metadata": {},
   "outputs": [],
   "source": [
    "def cm2inch(*tupl):\n",
    "    inch = 2.54\n",
    "    if isinstance(tupl[0], tuple):\n",
    "        return tuple(i/inch for i in tupl[0])\n",
    "    else:\n",
    "        return tuple(i/inch for i in tupl)\n",
    "plt.rcParams[\"figure.figsize\"] = cm2inch(32,12)\n",
    "plt.rcParams.update({'font.size':10})\n",
    "def running_mean(x, N):\n",
    "    cumsum = np.cumsum(np.insert(x, 0, 0)) \n",
    "    return (cumsum[N:] - cumsum[:-N]) / float(N)"
   ]
  },
  {
   "cell_type": "code",
   "execution_count": 3,
   "metadata": {},
   "outputs": [],
   "source": [
    "systems=[\"FA_G-prot\"]"
   ]
  },
  {
   "cell_type": "code",
   "execution_count": 4,
   "metadata": {},
   "outputs": [],
   "source": [
    "lipid_dir = {\"FA_G-prot\":\"POPC, POPS, POPA, POPG, POPE, CHOL, DPG3, DPSM, PAP6\"}"
   ]
  },
  {
   "cell_type": "code",
   "execution_count": 5,
   "metadata": {},
   "outputs": [],
   "source": [
    "def load_lipid_counts (lipid, cutoff=0.7):\n",
    "    '''Load lipid counts within a cutoff in nm, the default is 0.7 nm'''\n",
    "    #print ('Loading for cutoff:', cutoff)\n",
    "    data_dir =  {\"FA_G-prot\":\"\"}\n",
    "    for s in systems:\n",
    "        data_loc = []\n",
    "        for r in range(3):\n",
    "            try:\n",
    "                if cutoff==1.0:\n",
    "                    data_loc.append(np.loadtxt('COUNTS/{0:s}_{1:d}_number_of_{2:s}_within_{3:d}-nm.txt'.format(s,r,lipid,int(cutoff)), comments=('#', '@')))\n",
    "                else:\n",
    "                    data_loc.append(np.loadtxt('COUNTS/{0:s}_{1:d}_number_of_{2:s}_within_{3:2.1f}-nm.txt'.format(s,r,lipid,cutoff), comments=('#', '@')))\n",
    "            except OSError:\n",
    "                #print ('COUNTS/{0:s}_{1:d}_number_of_{2:s}_within_{3:2.1f}-nm.txt'.format(s,r,lipid,cutoff))\n",
    "                #print ('Does not exists!')\n",
    "                continue\n",
    "        data_dir[s]=data_loc\n",
    "    return data_dir"
   ]
  },
  {
   "cell_type": "code",
   "execution_count": 6,
   "metadata": {},
   "outputs": [],
   "source": [
    "def avgNestedLists(nested_vals):\n",
    "    \"\"\"\n",
    "    Averages a 2-D array and returns a 1-D array of all of the columns\n",
    "    averaged together, regardless of their dimensions.\n",
    "    \"\"\"\n",
    "    output = []\n",
    "    maximum = 0\n",
    "    for lst in nested_vals:\n",
    "        if len(lst) > maximum:\n",
    "            maximum = len(lst)\n",
    "    for index in range(maximum): # Go through each index of longest list\n",
    "        temp = []\n",
    "        for lst in nested_vals: # Go through each list\n",
    "            if index < len(lst): # If not an index error\n",
    "                temp.append(lst[index])\n",
    "        output.append(np.nanmean(temp))\n",
    "    return output\n",
    "\n",
    "def stdNestedLists(nested_vals):\n",
    "    \"\"\"\n",
    "    Averages a 2-D array and returns a 1-D array of all of the columns\n",
    "    averaged together, regardless of their dimensions.\n",
    "    \"\"\"\n",
    "    output = []\n",
    "    maximum = 0\n",
    "    for lst in nested_vals:\n",
    "        if len(lst) > maximum:\n",
    "            maximum = len(lst)\n",
    "    for index in range(maximum): # Go through each index of longest list\n",
    "        temp = []\n",
    "        for lst in nested_vals: # Go through each list\n",
    "            if index < len(lst): # If not an index error\n",
    "                temp.append(lst[index])\n",
    "        output.append(np.nanstd(temp))\n",
    "    return output"
   ]
  },
  {
   "cell_type": "code",
   "execution_count": 7,
   "metadata": {},
   "outputs": [],
   "source": [
    "def counts (systems):\n",
    "    ''''''\n",
    "    data_dir =  {\"FA_G-prot\":\"\"}\n",
    "    \n",
    "    std_dir =  {\"FA_G-prot\":\"\"}\n",
    "    \n",
    "    N=100\n",
    "    #color_list = ['#1b9e77','#d95f02','#7570b3','#e7298a','#66a61e','#e6ab02']\n",
    "    color_list = ['#1b9e77','#d95f02','#7570b3','#e7298a','#66a61e','#e6ab02','#a6761d','#666666']\n",
    "    fig, ax = plt.subplots(ncols=7, sharey=True, sharex=True, figsize=(cm2inch(40,6)))\n",
    "    A = []\n",
    "    \n",
    "    unique_lipids = ['POPC','POPS','POPE','POPA','POPG', 'CHOL', 'PAP6', 'DPSM', 'DPG3']\n",
    "\n",
    "    for idx, l in enumerate(unique_lipids):\n",
    "        dir_data = load_lipid_counts(l)\n",
    "\n",
    "        for ndx, s in enumerate(systems):\n",
    "            if len(dir_data[s])==0:\n",
    "                continue\n",
    "            else:\n",
    "                data = dir_data[s]\n",
    "                min_shape = np.min([ i.shape[0] for i in data ] ) - 1 \n",
    "                data_array = np.array([ i[:min_shape] for i in data ])\n",
    "            \n",
    "                Ava = np.average(data_array, axis=0)\n",
    "                Std = np.std(data_array, axis=0)\n",
    "                data_dir[s] = Ava\n",
    "                std_dir[s]  = Std\n",
    "                ax[idx].plot(running_mean(Ava, N=N), label=s, color=color_list[ndx])\n",
    "                #ax[idx].fill_between(Ava, Ava-Std, Ava+Std, alpha=0.7, edgecolor=color_list[ndx], facecolor=color_list[ndx])\n",
    "                ax[idx].set_title(l)\n",
    "                ax[idx].set_xlabel(r'$\\mu$s')\n",
    "                \n",
    "    ax[0].legend(loc='upper center', bbox_to_anchor=(3, -0.3),\n",
    "              fancybox=True, shadow=True, ncol=4, frameon=False)\n",
    "    #ax[0].set_xticks([0,5000,10000])\n",
    "    #ax[0].set_xticklabels([0,5,10])\n",
    "    ax[0].set_ylabel('counts')\n",
    "                \n",
    "    return data_dir, std_dir"
   ]
  },
  {
   "cell_type": "code",
   "execution_count": 50,
   "metadata": {},
   "outputs": [],
   "source": [
    "\n",
    "def counts_complex (systems, cutoff=0.7):\n",
    "    ''''''\n",
    "    N=5\n",
    "    color_list = ['#1b9e77','#d95f02','#7570b3','#e7298a','#66a61e','#e6ab02','#a6761d','#666666']\n",
    "    fig, ax = plt.subplots(ncols=9, sharey=True, sharex=True, figsize=(cm2inch(40,6)))\n",
    "    #fig, ax = plt.subplots(ncols=2, sharey=True, sharex=True, figsize=(cm2inch(40,6)))\n",
    "    \n",
    "    unique_lipids = ['POPC','POPS','POPE','POPA','POPG', 'CHOL', 'PAP6', 'DPSM', 'DPG3']\n",
    "    #unique_lipids = ['POPC','DPGM3']\n",
    "\n",
    "    for idx, l in enumerate(unique_lipids):\n",
    "        dir_data = load_lipid_counts(l, cutoff=cutoff)\n",
    "\n",
    "        for ndx, s in enumerate(systems):\n",
    "            if len(dir_data[s])==0:\n",
    "                continue\n",
    "            else:\n",
    "                data = dir_data[s]\n",
    "                Ava = avgNestedLists(data)\n",
    "                Std = stdNestedLists(data)\n",
    "                run_ava = running_mean(Ava, N=N)\n",
    "                run_std = running_mean(Std, N=N)\n",
    "                x = range(len(run_ava))\n",
    "                ax[idx].errorbar(x, run_ava, yerr=run_std, label=s, color=color_list[ndx], alpha=0.7,errorevery=500)\n",
    "                ax[idx].set_title(l)\n",
    "                ax[idx].set_xlabel(r'$\\mu$s')\n",
    "                \n",
    "    ax[0].legend(loc='upper center', bbox_to_anchor=(3, -0.3),\n",
    "              fancybox=True, shadow=True, ncol=4, frameon=False)\n",
    "\n",
    "    #ax[0].set_xticklabels([0,10,20])\n",
    "    #Each count equal 1 ns\n",
    "    ax[0].set_xlim(0,10000)\n",
    "    ax[0].set_xticks([0, 5000,10000])\n",
    "    ax[0].set_xticklabels([0, 5,10])\n",
    "    ax[0].set_ylabel('counts')\n",
    "    plt.tight_layout()\n",
    "\n",
    "    plt.savefig('Lipid_counts_{0:2.1f}nm_complex_frist10ms.png'.format(cutoff), dpi=300, bbox_inches='tight')\n",
    "    return "
   ]
  },
  {
   "cell_type": "code",
   "execution_count": 51,
   "metadata": {},
   "outputs": [
    {
     "data": {
      "image/png": "[encoded data removed]",
      "text/plain": [
       "<Figure size 1133.86x170.079 with 9 Axes>"
      ]
     },
     "metadata": {
      "needs_background": "light"
     },
     "output_type": "display_data"
    }
   ],
   "source": [
    "systems = [\"FA_G-prot\", \"FA_no_G-prot\"]\n",
    "counts_complex(systems)"
   ]
  },
  {
   "cell_type": "code",
   "execution_count": 32,
   "metadata": {},
   "outputs": [
    {
     "data": {
      "text/plain": [
       "10.0"
      ]
     },
     "execution_count": 32,
     "metadata": {},
     "output_type": "execute_result"
    }
   ],
   "source": [
    "10000/ 1000"
   ]
  },
  {
   "cell_type": "code",
   "execution_count": 33,
   "metadata": {},
   "outputs": [
    {
     "data": {
      "text/plain": [
       "5.0"
      ]
     },
     "execution_count": 33,
     "metadata": {},
     "output_type": "execute_result"
    }
   ],
   "source": [
    "5000 / 1000\n"
   ]
  },
  {
   "cell_type": "code",
   "execution_count": null,
   "metadata": {},
   "outputs": [],
   "source": [
    "dir_data = load_lipid_counts(\"POPC\", cutoff=0.7)"
   ]
  }
 ],
 "metadata": {
  "kernelspec": {
   "display_name": "Python 3",
   "language": "python",
   "name": "python3"
  },
  "language_info": {
   "codemirror_mode": {
    "name": "ipython",
    "version": 3
   },
   "file_extension": ".py",
   "mimetype": "text/x-python",
   "name": "python",
   "nbconvert_exporter": "python",
   "pygments_lexer": "ipython3",
   "version": "3.7.3"
  }
 },
 "nbformat": 4,
 "nbformat_minor": 4
}
