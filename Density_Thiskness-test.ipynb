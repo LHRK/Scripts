{
 "cells": [
  {
   "cell_type": "code",
   "execution_count": 1,
   "metadata": {},
   "outputs": [],
   "source": [
    "import numpy as np\n",
    "#import MDAnalysis as md\n",
    "#import os\n",
    "#import pylab as plb\n",
    "import matplotlib.pyplot as plt\n",
    "from scipy.optimize import curve_fit\n",
    "#from scipy import optimize\n",
    "#from scipy import asarray as ar,exp\n",
    "from matplotlib.ticker import FormatStrFormatter\n",
    "#%matplotlib inline"
   ]
  },
  {
   "cell_type": "code",
   "execution_count": 2,
   "metadata": {},
   "outputs": [],
   "source": [
    "V = np.loadtxt('1D1_60_v1_volume.xvg', skiprows=25)"
   ]
  },
  {
   "cell_type": "code",
   "execution_count": 3,
   "metadata": {},
   "outputs": [],
   "source": [
    "volume = V[:,1]\n",
    "density = V[:,2]\n",
    "time = V[:,0]"
   ]
  },
  {
   "cell_type": "code",
   "execution_count": 4,
   "metadata": {},
   "outputs": [],
   "source": [
    "D = np.loadtxt('1D1_60_v1_NC3_density.xvg', skiprows=24)"
   ]
  },
  {
   "cell_type": "code",
   "execution_count": 5,
   "metadata": {},
   "outputs": [
    {
     "name": "stdout",
     "output_type": "stream",
     "text": [
      "50\n",
      "25\n"
     ]
    }
   ],
   "source": [
    "nt = D.shape[0]\n",
    "print(nt)\n",
    "half = nt/2\n",
    "print(half)"
   ]
  },
  {
   "cell_type": "code",
   "execution_count": 6,
   "metadata": {},
   "outputs": [],
   "source": [
    "def moving_average (a, n=5):\n",
    "    ret = np.cumsum(a, dtype=float)\n",
    "    ret[n:] = ret[n:] - ret[:-n]\n",
    "    return ret[n - 1:] / n"
   ]
  },
  {
   "cell_type": "code",
   "execution_count": 7,
   "metadata": {},
   "outputs": [
    {
     "data": {
      "image/png": "[encoded data removed]",
      "text/plain": [
       "<Figure size 432x288 with 1 Axes>"
      ]
     },
     "metadata": {},
     "output_type": "display_data"
    }
   ],
   "source": [
    "x1 = D[half:,0]\n",
    "y1 = D[half:,1]\n",
    "\n",
    "x2 = D[:half,0]\n",
    "y2 = D[:half,1]\n",
    "\n",
    "n1 = len(x1)                          \n",
    "mean1 = sum(x1*y1)/n1                   \n",
    "sigma1 = sum(y1*(x1-mean1)**2)/n1        \n",
    "\n",
    "n2 = len(x2)                          \n",
    "mean2 = sum(x2*y2)/n2                   \n",
    "sigma2 = sum(y2*(x2-mean2)**2)/n2       \n",
    "\n",
    "def func(x, a, m, s):\n",
    "        return a*np.exp(-( (x-m)**2)/ s ** 2)\n",
    "\n",
    "popt1,pcov1 = curve_fit(func,x1,y1,p0=[1,mean1,sigma1])\n",
    "popt2,pcov2 = curve_fit(func,x2,y2,p0=[1,mean2,sigma2])\n",
    "\n",
    "\n",
    "plt.plot(x1,y1,'b+:',label='data')\n",
    "plt.plot(x2,y2,'b+:')\n",
    "plt.plot(x1,func(x1,*popt1),'ro:',label='fit1')\n",
    "plt.plot(x2,func(x2,*popt2),'ro:',label='fit2')\n",
    "plt.legend()\n",
    "plt.xlabel('Coordinates (nm)')\n",
    "plt.ylabel('Density ')\n",
    "plt.tight_layout()\n",
    "plt.grid(True)\n",
    "plt.savefig('fit.png', dpi=600)\n",
    "plt.show()"
   ]
  },
  {
   "cell_type": "code",
   "execution_count": 8,
   "metadata": {},
   "outputs": [
    {
     "data": {
      "text/plain": [
       "array([13.46147732, 11.74628507, -0.68136579])"
      ]
     },
     "execution_count": 8,
     "metadata": {},
     "output_type": "execute_result"
    }
   ],
   "source": [
    "popt1"
   ]
  },
  {
   "cell_type": "code",
   "execution_count": 9,
   "metadata": {},
   "outputs": [
    {
     "data": {
      "text/plain": [
       "array([12.82013924,  8.07068476, -0.81890512])"
      ]
     },
     "execution_count": 9,
     "metadata": {},
     "output_type": "execute_result"
    }
   ],
   "source": [
    "popt2"
   ]
  },
  {
   "cell_type": "code",
   "execution_count": 10,
   "metadata": {},
   "outputs": [],
   "source": [
    "height = abs(popt1[1] - popt2[1]) #in nm"
   ]
  },
  {
   "cell_type": "code",
   "execution_count": 11,
   "metadata": {},
   "outputs": [
    {
     "data": {
      "text/plain": [
       "3.67560030723258"
      ]
     },
     "execution_count": 11,
     "metadata": {},
     "output_type": "execute_result"
    }
   ],
   "source": [
    "height"
   ]
  },
  {
   "cell_type": "code",
   "execution_count": 12,
   "metadata": {},
   "outputs": [
    {
     "data": {
      "text/plain": [
       "140.15474402559744"
      ]
     },
     "execution_count": 12,
     "metadata": {},
     "output_type": "execute_result"
    }
   ],
   "source": [
    "np.mean(volume)"
   ]
  },
  {
   "cell_type": "code",
   "execution_count": 13,
   "metadata": {},
   "outputs": [],
   "source": [
    "radius = np.sqrt(volume / (np.pi * height))"
   ]
  },
  {
   "cell_type": "code",
   "execution_count": 14,
   "metadata": {},
   "outputs": [
    {
     "data": {
      "text/plain": [
       "3.483879932066586"
      ]
     },
     "execution_count": 14,
     "metadata": {},
     "output_type": "execute_result"
    }
   ],
   "source": [
    "np.mean(radius)"
   ]
  },
  {
   "cell_type": "code",
   "execution_count": 15,
   "metadata": {},
   "outputs": [],
   "source": [
    "no_lipids = 60"
   ]
  },
  {
   "cell_type": "code",
   "execution_count": 16,
   "metadata": {},
   "outputs": [
    {
     "name": "stdout",
     "output_type": "stream",
     "text": [
      "0.6355137926844131\n"
     ]
    }
   ],
   "source": [
    "APL_ava = (np.mean(radius)**2 * np.pi) / no_lipids\n",
    "print(APL_ava)"
   ]
  },
  {
   "cell_type": "code",
   "execution_count": 17,
   "metadata": {},
   "outputs": [],
   "source": [
    "APL = np.zeros(len(radius))\n",
    "for idx, r in enumerate(radius):\n",
    "    A = r**2 * np.pi\n",
    "    APL[idx] = A / no_lipids"
   ]
  },
  {
   "cell_type": "code",
   "execution_count": 18,
   "metadata": {},
   "outputs": [
    {
     "name": "stdout",
     "output_type": "stream",
     "text": [
      "0.0034997391181317747\n",
      "0.6355137926844131\n"
     ]
    }
   ],
   "source": [
    "APL_std = np.std(APL)\n",
    "radius_std = np.std(radius)\n",
    "print(APL_std)\n",
    "print(APL_ava)"
   ]
  },
  {
   "cell_type": "code",
   "execution_count": 19,
   "metadata": {},
   "outputs": [
    {
     "data": {
      "image/png": "[encoded data removed]",
      "text/plain": [
       "<Figure size 432x288 with 1 Axes>"
      ]
     },
     "metadata": {},
     "output_type": "display_data"
    }
   ],
   "source": [
    "nn = 1000\n",
    "system='1D1_60_v1'\n",
    "\n",
    "fig, ax = plt.subplots()\n",
    "ax.yaxis.set_major_formatter(FormatStrFormatter('%.4f'))\n",
    "#time = range(len(APL))\n",
    "#ax.errorbar(moving_average(time, n=nn), moving_average(APL, n=nn), yerr=APL_std)\n",
    "ax.plot(moving_average(APL, n=nn), label='{0:s}'.format(system))\n",
    "xtics_raw = np.arange(0, len(moving_average(APL, n=nn)),(len(moving_average(APL, n=nn))/5))\n",
    "xtics = np.arange(0, 6, 1)\n",
    "ax.set_xticks(xtics_raw)\n",
    "ax.set_xticklabels(xtics)\n",
    "ax.grid(True)\n",
    "ax.set_ylabel('APL (nm^2)')\n",
    "ax.set_xlabel('Time (ms)')\n",
    "plt.legend(loc='best', frameon=False)\n",
    "plt.tight_layout()\n",
    "plt.savefig('APL.png', dpi=600)"
   ]
  },
  {
   "cell_type": "code",
   "execution_count": 20,
   "metadata": {},
   "outputs": [
    {
     "data": {
      "text/plain": [
       "Text(0.5,0,'Time (ms)')"
      ]
     },
     "execution_count": 20,
     "metadata": {},
     "output_type": "execute_result"
    },
    {
     "data": {
      "image/png": "[encoded data removed]",
      "text/plain": [
       "<Figure size 432x288 with 1 Axes>"
      ]
     },
     "metadata": {},
     "output_type": "display_data"
    }
   ],
   "source": [
    "nn = 1000\n",
    "\n",
    "fig, ax = plt.subplots()\n",
    "ax.yaxis.set_major_formatter(FormatStrFormatter('%.4f'))\n",
    "ax.plot(moving_average(radius, n=nn))\n",
    "xtics_raw = np.arange(0, len(moving_average(radius, n=nn)),(len(moving_average(radius, n=nn))/5))\n",
    "xtics = np.arange(0, 6, 1)\n",
    "ax.set_xticks(xtics_raw)\n",
    "ax.set_xticklabels(xtics)\n",
    "ax.grid(True)\n",
    "ax.set_ylabel('Radius (nm)')\n",
    "ax.set_xlabel('Time (ms)')"
   ]
  },
  {
   "cell_type": "code",
   "execution_count": null,
   "metadata": {},
   "outputs": [],
   "source": []
  },
  {
   "cell_type": "code",
   "execution_count": null,
   "metadata": {},
   "outputs": [],
   "source": []
  },
  {
   "cell_type": "code",
   "execution_count": null,
   "metadata": {},
   "outputs": [],
   "source": []
  }
 ],
 "metadata": {
  "kernelspec": {
   "display_name": "Python 2",
   "language": "python",
   "name": "python2"
  },
  "language_info": {
   "codemirror_mode": {
    "name": "ipython",
    "version": 2
   },
   "file_extension": ".py",
   "mimetype": "text/x-python",
   "name": "python",
   "nbconvert_exporter": "python",
   "pygments_lexer": "ipython2",
   "version": "2.7.15"
  }
 },
 "nbformat": 4,
 "nbformat_minor": 2
}
