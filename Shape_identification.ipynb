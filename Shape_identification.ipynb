{
 "cells": [
  {
   "cell_type": "code",
   "execution_count": 9,
   "metadata": {},
   "outputs": [],
   "source": [
    "import numpy as np \n",
    "import MDAnalysis as md\n",
    "import matplotlib.pyplot as plt\n",
    "from numba import jit"
   ]
  },
  {
   "cell_type": "markdown",
   "metadata": {},
   "source": [
    "Functions"
   ]
  },
  {
   "cell_type": "code",
   "execution_count": 10,
   "metadata": {},
   "outputs": [],
   "source": [
    "def centeroidpython(data):\n",
    "    \"\"\"Returns the centroid of a set of points\"\"\"\n",
    "    x, y, z = zip(*data)\n",
    "    l = len(x)\n",
    "    return sum(x) / l, sum(y) / l, sum(z) / l\n",
    "\n",
    "def construct_covariance_matrix(pos, cen):\n",
    "    \"\"\"Constructs and returns the covariance matrix of points relative to an input centroid\"\"\"\n",
    "    #Construc the covariance matrix from the centroid\n",
    "    npoints = pos.shape[0]\n",
    "    xx = 0\n",
    "    xy = 0\n",
    "    xz = 0\n",
    "    yy = 0\n",
    "    yz = 0\n",
    "    zz = 0\n",
    "    for p in pos:\n",
    "        r = p - cen\n",
    "        xx += r[0]*r[0]\n",
    "        xy += r[0]*r[1]\n",
    "        xz += r[0]*r[2]\n",
    "        yy += r[1]*r[1]\n",
    "        yz += r[1]*r[2]\n",
    "        zz += r[2]*r[2]\n",
    "\n",
    "    xx /= npoints\n",
    "    xy /= npoints\n",
    "    xz /= npoints\n",
    "    yy /= npoints\n",
    "    yz /= npoints\n",
    "    zz /= npoints\n",
    "\n",
    "    cov = np.array([ [xx, xy, xz], [xy, yy, yz], [xz, yz, zz] ])\n",
    "    return cov\n"
   ]
  },
  {
   "cell_type": "code",
   "execution_count": 11,
   "metadata": {},
   "outputs": [],
   "source": [
    "@jit\n",
    "def gyration_tensor(pos):\n",
    "    \"\"\"Computes the gyration tensor from the postions\n",
    "    afterwards diagonalizes the 3x3 matrix and obtain the eigenvalues and eigenvectors\n",
    "    the two largeste eigenvalues (x and y) are then used for\n",
    "    calculating the acylindricity\"\"\"\n",
    "    npoints = pos.shape[0]\n",
    "    xx = 0\n",
    "    xy = 0\n",
    "    xz = 0\n",
    "    yx = 0\n",
    "    yy = 0\n",
    "    yz = 0\n",
    "    zx = 0\n",
    "    zy = 0\n",
    "    zz = 0\n",
    "    for idx, p in enumerate(pos):\n",
    "        for indx, pp in enumerate(pos):\n",
    "            xx += (p[0]-pp[0])**2\n",
    "            xy += (p[0]-pp[0])*(p[0]-pp[1])\n",
    "            xz += (p[0]-pp[0])*(p[2]-pp[2])\n",
    "            yx += (p[1]-pp[1])*(p[0]-pp[0])\n",
    "            yy += (p[1]-pp[1])**2\n",
    "            yz += (p[1]-pp[1])*(p[2]-pp[2])\n",
    "            zx += (p[2]-pp[2])*(p[0]-pp[0])\n",
    "            zy += (p[2]-pp[2])*(p[1]-pp[1])\n",
    "            zz += (p[2]-pp[2])**2\n",
    "\n",
    "    xx *= (1/(2*(npoints**2)))\n",
    "    xy *= (1/(2*(npoints**2)))\n",
    "    xz *= (1/(2*(npoints**2)))\n",
    "    yx *= (1/(2*(npoints**2)))\n",
    "    yy *= (1/(2*(npoints**2)))\n",
    "    yz *= (1/(2*(npoints**2)))\n",
    "    zx *= (1/(2*(npoints**2)))\n",
    "    zy *= (1/(2*(npoints**2)))\n",
    "    zz *= (1/(2*(npoints**2)))\n",
    "\n",
    "    cov = np.array([ [xx, xy, xz], [yx, yy, yz], [zx, zy, zz] ])\n",
    "    \n",
    "    eigenValues, eigenVectors = np.linalg.eigh(cov)\n",
    "    \n",
    "    eig_val_squared = eigenValues**2\n",
    "    eig_val_idx = eig_val_squared.argsort()[::-1]\n",
    "    eig_val_sorted  = eig_val_squared[eig_val_idx]\n",
    "    p1, p2, p3 = eig_val_sorted[:3]\n",
    "    \n",
    "    #c = p2 - p1 #This is what it says in wikipedia. It provides negative results\n",
    "    c = p1 - p2 #This is what they do in Kresten's paper\n",
    "    \n",
    "    return c"
   ]
  },
  {
   "cell_type": "code",
   "execution_count": 12,
   "metadata": {},
   "outputs": [],
   "source": [
    "def func_eigval (u):\n",
    "    coor = u.select_atoms('name BB').positions\n",
    "    centroid = centeroidpython(coor)    \n",
    "    C = construct_covariance_matrix(coor, centroid)\n",
    "\n",
    "    eigenValues, eigenVectors = np.linalg.eigh(C)\n",
    "\n",
    "    idx = eigenValues.argsort()[::-1]   \n",
    "    eigenValues = eigenValues[idx]\n",
    "    eigenVectors = eigenVectors[:,idx]\n",
    "    \n",
    "    a,b = np.real(eigenValues[:2])    \n",
    "    e = b / a\n",
    "    \n",
    "    return e"
   ]
  },
  {
   "cell_type": "code",
   "execution_count": 13,
   "metadata": {},
   "outputs": [],
   "source": [
    "def func_run_eig (u, stride=1000):\n",
    "    C = []\n",
    "    for ts in u.trajectory[::stride]:\n",
    "        c = func_eigval(u)\n",
    "        C.append(c)\n",
    "    return C"
   ]
  },
  {
   "cell_type": "code",
   "execution_count": 14,
   "metadata": {},
   "outputs": [],
   "source": [
    "def func_run_gyration (u, stride=1000):\n",
    "    E = []\n",
    "    for ts in u.trajectory[::stride]:\n",
    "        coor = u.select_atoms('name BB').positions\n",
    "        E.append(gyration_tensor(coor))\n",
    "    return E"
   ]
  },
  {
   "cell_type": "markdown",
   "metadata": {},
   "source": [
    "Systems "
   ]
  },
  {
   "cell_type": "code",
   "execution_count": 15,
   "metadata": {},
   "outputs": [],
   "source": [
    "systems_M2 = ['1D1_69','1E3D1_134','2N2_302','NW9_58','NW11_73','NW13_151']\n",
    "systems_M3 = ['1D1_69','1E3D1_134','2N2_302','NW9_57','NW11_72','NW13_150']"
   ]
  },
  {
   "cell_type": "markdown",
   "metadata": {},
   "source": [
    "Estimating the shape by calculating the acylindricity from the gyration tensor\n",
    "of the postions of the BackBone beads"
   ]
  },
  {
   "cell_type": "code",
   "execution_count": 16,
   "metadata": {},
   "outputs": [
    {
     "name": "stdout",
     "output_type": "stream",
     "text": [
      "Systems 1D1_69_v1_nowat_fit.xtc done!\n"
     ]
    },
    {
     "name": "stderr",
     "output_type": "stream",
     "text": [
      "/home/au447022/anaconda3/lib/python3.7/site-packages/MDAnalysis/topology/guessers.py:72: UserWarning: Failed to guess the mass for the following atom types: D\n",
      "  warnings.warn(\"Failed to guess the mass for the following atom types: {}\".format(atom_type))\n",
      "/home/au447022/anaconda3/lib/python3.7/site-packages/MDAnalysis/topology/guessers.py:72: UserWarning: Failed to guess the mass for the following atom types: G\n",
      "  warnings.warn(\"Failed to guess the mass for the following atom types: {}\".format(atom_type))\n"
     ]
    },
    {
     "name": "stdout",
     "output_type": "stream",
     "text": [
      "Systems 1D1_69_v2_nowat_fit.xtc done!\n",
      "Systems 1D1_69_v3_nowat_fit.xtc done!\n",
      "Systems 1E3D1_134_v1_nowat_fit.xtc done!\n",
      "Systems 1E3D1_134_v2_nowat_fit.xtc done!\n",
      "Systems 1E3D1_134_v3_nowat_fit.xtc done!\n",
      "Systems 2N2_302_v1_nowat_fit.xtc done!\n",
      "Systems 2N2_302_v2_nowat_fit.xtc done!\n",
      "Systems 2N2_302_v3_nowat_fit.xtc done!\n",
      "Systems NW9_57_v1_nowat_fit.xtc done!\n",
      "Systems NW9_57_v2_nowat_fit.xtc done!\n",
      "Systems NW9_57_v3_nowat_fit.xtc done!\n",
      "Systems NW11_72_v1_nowat_fit.xtc done!\n",
      "Systems NW11_72_v2_nowat_fit.xtc done!\n",
      "Systems NW11_72_v3_nowat_fit.xtc done!\n",
      "Systems NW13_150_v1_nowat_fit.xtc done!\n",
      "Systems NW13_150_v2_nowat_fit.xtc done!\n",
      "Systems NW13_150_v3_nowat_fit.xtc done!\n"
     ]
    }
   ],
   "source": [
    "M2_dataC = []\n",
    "#M3_dataC = []\n",
    "for i in range(6):\n",
    "    loc_m2 = []\n",
    "    #loc_m3 = []\n",
    "    for r in range(1,4):\n",
    "        C2 = []\n",
    "        #C3 = []\n",
    "        gro_m2 = 'ANALYSIS_Build_Martini2/GRO/{0:s}_v{1:d}_nowat.gro'.format(systems_M2[i], r)\n",
    "        #gro_m3 = 'ANALYSIS_Build_Martini3/GRO/{0:s}_v{1:d}_nowat.gro'.format(systems_M3[i], r)\n",
    "        xtc_m2 = 'ANALYSIS_Build_Martini2/XTC/{0:s}_v{1:d}_nowat_fit.xtc'.format(systems_M2[i], r)\n",
    "        #xtc_m3 = 'ANALYSIS_Build_Martini3/XTC/{0:s}_v{1:d}_nowat_fit.xtc'.format(systems_M3[i], r)\n",
    "                \n",
    "        u2 = md.Universe(gro_m2, xtc_m2)\n",
    "        #u3 = md.Universe(gro_m3, xtc_m3)\n",
    "        \n",
    "        C2 = func_run_gyration(u2, stride=1000)\n",
    "        #C3 = func_run_gyration(u3, stride=1000)\n",
    "        loc_m2.append(C2)\n",
    "        #loc_m3.append(C3)\n",
    "        \n",
    "        np.save('ANALYSIS_Build_Martini2/M2_Gyration_tensor_data_{0:s}_v{1:d}.npy'.format(systems_M2[i], r), np.array(C2))\n",
    "        #np.save('ANALYSIS_Build_Martini3/M3_Gyration_tensor_data_{0:s}_v{1:d}.npy'.format(systems_M3[i], r), np.array(C3))\n",
    "        print ('Systems {0:s}_v{1:d}_nowat_fit.xtc done!'.format(systems_M3[i], r))\n",
    "    M2_dataC.append(loc_m2)\n",
    "    #M3_dataC.append(loc_m3)"
   ]
  },
  {
   "cell_type": "code",
   "execution_count": 17,
   "metadata": {},
   "outputs": [
    {
     "data": {
      "text/plain": [
       "[1344585.3898865364,\n",
       " 1532956.1194408732,\n",
       " 809215.1492590739,\n",
       " 788306.4367628789,\n",
       " 692305.9966218851,\n",
       " 833048.9926680062,\n",
       " 755953.4160104458,\n",
       " 769702.614798269,\n",
       " 498466.09665285086,\n",
       " 270818.94881936954,\n",
       " 188760.05923616828,\n",
       " 253117.06782475894,\n",
       " 254219.18882557738,\n",
       " 410253.2400312177,\n",
       " 319827.9064347978,\n",
       " 238818.18734799803,\n",
       " 184676.89276550943,\n",
       " 493981.3609082982,\n",
       " 306247.2140171265,\n",
       " 164472.92964121944,\n",
       " 178152.4689715996,\n",
       " 237678.5023294806,\n",
       " 622372.1427555201,\n",
       " 76784.13239638228,\n",
       " 319395.03261161945,\n",
       " 685942.005066622,\n",
       " 647036.6280241997,\n",
       " 278491.2970041289,\n",
       " 281862.4681329087,\n",
       " 231804.27920441912,\n",
       " 411023.2308005531,\n",
       " 288231.67064927926,\n",
       " 423100.5305549499,\n",
       " 434426.7674138219,\n",
       " 273438.58477284526,\n",
       " 631397.3145504128,\n",
       " 725466.6616823302,\n",
       " 317033.32853292406,\n",
       " 322725.4002249751,\n",
       " 501276.00256325176,\n",
       " 212881.18829502235,\n",
       " 436625.64480824256,\n",
       " 152050.01520380634,\n",
       " 349313.28667558264,\n",
       " 360792.82640923397,\n",
       " 420340.3986464186,\n",
       " 449616.2126710849,\n",
       " 434701.80750941974,\n",
       " 79554.03519094619,\n",
       " 288807.58517169824,\n",
       " 387627.63124382147,\n",
       " 439711.12686067214,\n",
       " 268516.76102862076,\n",
       " 284552.12818613683,\n",
       " 378682.45153302327,\n",
       " 513279.8445897775]"
      ]
     },
     "execution_count": 17,
     "metadata": {},
     "output_type": "execute_result"
    }
   ],
   "source": [
    "M2_dataC[0][0]"
   ]
  },
  {
   "cell_type": "code",
   "execution_count": 12,
   "metadata": {},
   "outputs": [
    {
     "data": {
      "image/png": "[encoded data removed]",
      "text/plain": [
       "<Figure size 432x288 with 2 Axes>"
      ]
     },
     "metadata": {
      "needs_background": "light"
     },
     "output_type": "display_data"
    }
   ],
   "source": [
    "fig, ax = plt.subplots(nrows=1, ncols=2, sharey = True)\n",
    "\n",
    "ax[0].plot(np.sqrt([[np.average(i) for i in j ] for j in M2_dataC]), 'o')\n",
    "ax[1].plot(np.sqrt([[np.average(i) for i in j ] for j in M3_dataC]), 'o')\n",
    "\n",
    "#ax[0].plot(([[np.average(i) for i in j ] for j in M2_dataC]), 'o')\n",
    "#ax[1].plot(([[np.average(i) for i in j ] for j in M3_dataC]), 'o')\n",
    "\n",
    "ax[0].set_xticks([0,1,2,3,4,5])\n",
    "ax[0].set_xticklabels(systems_M2, rotation='vertical')\n",
    "\n",
    "ax[1].set_xticks([0,1,2,3,4,5])\n",
    "ax[1].set_xticklabels(systems_M3, rotation='vertical')\n",
    "\n",
    "ax[0].grid()\n",
    "ax[1].grid()"
   ]
  },
  {
   "cell_type": "code",
   "execution_count": 13,
   "metadata": {},
   "outputs": [
    {
     "data": {
      "image/png": "[encoded data removed]",
      "text/plain": [
       "<Figure size 432x288 with 2 Axes>"
      ]
     },
     "metadata": {
      "needs_background": "light"
     },
     "output_type": "display_data"
    }
   ],
   "source": [
    "fig, ax = plt.subplots(nrows=1, ncols=2, sharey = True)\n",
    "\n",
    "ax[0].plot(np.sqrt(np.average([[np.average(i) for i in j ] for j in M2_dataC], axis=1)), 'o')\n",
    "ax[1].plot(np.sqrt(np.average([[np.average(i) for i in j ] for j in M3_dataC], axis=1)), 'o')\n",
    "\n",
    "ax[0].set_xticks([0,1,2,3,4,5])\n",
    "ax[0].set_xticklabels(systems_M2, rotation='vertical')\n",
    "\n",
    "ax[1].set_xticks([0,1,2,3,4,5])\n",
    "ax[1].set_xticklabels(systems_M3, rotation='vertical')\n",
    "\n",
    "ax[0].grid()\n",
    "ax[1].grid()"
   ]
  },
  {
   "cell_type": "code",
   "execution_count": 14,
   "metadata": {},
   "outputs": [
    {
     "data": {
      "image/png": "[encoded data removed]",
      "text/plain": [
       "<Figure size 432x288 with 2 Axes>"
      ]
     },
     "metadata": {
      "needs_background": "light"
     },
     "output_type": "display_data"
    }
   ],
   "source": [
    "fig, ax = plt.subplots(nrows=1, ncols=2, sharey = True)\n",
    "\n",
    "x = [0,1,2,3,4,5]\n",
    "\n",
    "ax[0].errorbar(x, np.sqrt(np.average([[np.average(i) for i in j ] for j in M2_dataC], axis=1)),\n",
    "              yerr=np.sqrt(np.std([[np.average(i) for i in j ] for j in M2_dataC], axis=1)), fmt='o')\n",
    "ax[1].errorbar(x, np.sqrt(np.average([[np.average(i) for i in j ] for j in M3_dataC], axis=1)),\n",
    "              yerr=np.sqrt(np.std([[np.average(i) for i in j ] for j in M3_dataC], axis=1)), fmt='o')\n",
    "\n",
    "ax[0].set_xticks([0,1,2,3,4,5])\n",
    "ax[0].set_xticklabels(systems_M2, rotation='vertical')\n",
    "\n",
    "ax[1].set_xticks([0,1,2,3,4,5])\n",
    "ax[1].set_xticklabels(systems_M3, rotation='vertical')\n",
    "\n",
    "ax[0].grid(alpha=0.5)\n",
    "ax[1].grid(alpha=0.5)"
   ]
  },
  {
   "cell_type": "markdown",
   "metadata": {},
   "source": [
    "Estimating the shape by simply dividing the two largest egenvalues from the covariance matrix constructed \n",
    "from the points of the BackBone beads"
   ]
  },
  {
   "cell_type": "code",
   "execution_count": 12,
   "metadata": {},
   "outputs": [
    {
     "name": "stdout",
     "output_type": "stream",
     "text": [
      "Systems 1D1_69_v1_nowat_fit.xtc done!\n",
      "Systems 1D1_69_v2_nowat_fit.xtc done!\n",
      "Systems 1D1_69_v3_nowat_fit.xtc done!\n",
      "Systems 1E3D1_134_v1_nowat_fit.xtc done!\n",
      "Systems 1E3D1_134_v2_nowat_fit.xtc done!\n",
      "Systems 1E3D1_134_v3_nowat_fit.xtc done!\n",
      "Systems 2N2_302_v1_nowat_fit.xtc done!\n",
      "Systems 2N2_302_v2_nowat_fit.xtc done!\n",
      "Systems 2N2_302_v3_nowat_fit.xtc done!\n",
      "Systems NW9_57_v1_nowat_fit.xtc done!\n",
      "Systems NW9_57_v2_nowat_fit.xtc done!\n",
      "Systems NW9_57_v3_nowat_fit.xtc done!\n",
      "Systems NW11_72_v1_nowat_fit.xtc done!\n",
      "Systems NW11_72_v2_nowat_fit.xtc done!\n",
      "Systems NW11_72_v3_nowat_fit.xtc done!\n",
      "Systems NW13_150_v1_nowat_fit.xtc done!\n",
      "Systems NW13_150_v2_nowat_fit.xtc done!\n",
      "Systems NW13_150_v3_nowat_fit.xtc done!\n"
     ]
    }
   ],
   "source": [
    "M2_data = []\n",
    "M3_data = []\n",
    "for i in range(6):\n",
    "    loc_m2 = []\n",
    "    loc_m3 = []\n",
    "    for r in range(1,4):\n",
    "        C2 = []\n",
    "        C3 = []\n",
    "        gro_m2 = 'ANALYSIS_Build_Martini2/GRO/{0:s}_v{1:d}_nowat.gro'.format(systems_M2[i], r)\n",
    "        gro_m3 = 'ANALYSIS_Build_Martini3/GRO/{0:s}_v{1:d}_nowat.gro'.format(systems_M3[i], r)\n",
    "        xtc_m2 = 'ANALYSIS_Build_Martini2/XTC/{0:s}_v{1:d}_nowat_fit.xtc'.format(systems_M2[i], r)\n",
    "        xtc_m3 = 'ANALYSIS_Build_Martini3/XTC/{0:s}_v{1:d}_nowat_fit.xtc'.format(systems_M3[i], r)\n",
    "                \n",
    "        u2 = md.Universe(gro_m2, xtc_m2)\n",
    "        u3 = md.Universe(gro_m3, xtc_m3)\n",
    "        \n",
    "        C2 = func_run_eig(u2, stride=100)\n",
    "        C3 = func_run_eig(u3, stride=100)\n",
    "        loc_m2.append(C2)\n",
    "        loc_m3.append(C3)\n",
    "        \n",
    "        np.save('ANALYSIS_Build_Martini2/M2_shape_data_{0:s}_v{1:d}.npy'.format(systems_M2[i], r), np.array(C2))\n",
    "        np.save('ANALYSIS_Build_Martini3/M3_shape_data_{0:s}_v{1:d}.npy'.format(systems_M3[i], r), np.array(C3))\n",
    "        print ('Systems {0:s}_v{1:d}_nowat_fit.xtc done!'.format(systems_M3[i], r))\n",
    "    M2_data.append(loc_m2)\n",
    "    M3_data.append(loc_m3)"
   ]
  },
  {
   "cell_type": "code",
   "execution_count": 13,
   "metadata": {},
   "outputs": [
    {
     "data": {
      "image/png": "[encoded data removed]",
      "text/plain": [
       "<Figure size 432x288 with 2 Axes>"
      ]
     },
     "metadata": {
      "needs_background": "light"
     },
     "output_type": "display_data"
    }
   ],
   "source": [
    "fig, ax = plt.subplots(nrows=1, ncols=2, sharey = True)\n",
    "\n",
    "ax[0].plot(np.sqrt([[np.average(i) for i in j ] for j in M2_data]), 'o')\n",
    "ax[1].plot(np.sqrt([[np.average(i) for i in j ] for j in M3_data]), 'o')\n",
    "\n",
    "ax[0].set_xticks([0,1,2,3,4,5])\n",
    "ax[0].set_xticklabels(systems_M2, rotation='vertical')\n",
    "\n",
    "ax[1].set_xticks([0,1,2,3,4,5])\n",
    "ax[1].set_xticklabels(systems_M3, rotation='vertical')\n",
    "\n",
    "ax[0].grid()\n",
    "ax[1].grid()"
   ]
  },
  {
   "cell_type": "code",
   "execution_count": 14,
   "metadata": {},
   "outputs": [
    {
     "data": {
      "image/png": "[encoded data removed]",
      "text/plain": [
       "<Figure size 432x288 with 2 Axes>"
      ]
     },
     "metadata": {
      "needs_background": "light"
     },
     "output_type": "display_data"
    }
   ],
   "source": [
    "fig, ax = plt.subplots(nrows=1, ncols=2, sharey = True)\n",
    "\n",
    "x = [0,1,2,3,4,5]\n",
    "\n",
    "ax[0].errorbar(x, np.sqrt(np.average([[np.average(i) for i in j ] for j in M2_data], axis=1)),\n",
    "              yerr=np.sqrt(np.std([[np.average(i) for i in j ] for j in M2_data], axis=1)), fmt='o')\n",
    "ax[1].errorbar(x, np.sqrt(np.average([[np.average(i) for i in j ] for j in M3_data], axis=1)),\n",
    "              yerr=np.sqrt(np.std([[np.average(i) for i in j ] for j in M3_data], axis=1)), fmt='o')\n",
    "\n",
    "ax[0].set_xticks([0,1,2,3,4,5])\n",
    "ax[0].set_xticklabels(systems_M2, rotation='vertical')\n",
    "\n",
    "ax[1].set_xticks([0,1,2,3,4,5])\n",
    "ax[1].set_xticklabels(systems_M3, rotation='vertical')\n",
    "\n",
    "ax[0].grid(alpha=0.5)\n",
    "ax[1].grid(alpha=0.5)"
   ]
  },
  {
   "cell_type": "code",
   "execution_count": null,
   "metadata": {},
   "outputs": [],
   "source": []
  }
 ],
 "metadata": {
  "kernelspec": {
   "display_name": "Python 3",
   "language": "python",
   "name": "python3"
  },
  "language_info": {
   "codemirror_mode": {
    "name": "ipython",
    "version": 3
   },
   "file_extension": ".py",
   "mimetype": "text/x-python",
   "name": "python",
   "nbconvert_exporter": "python",
   "pygments_lexer": "ipython3",
   "version": "3.7.3"
  }
 },
 "nbformat": 4,
 "nbformat_minor": 2
}
