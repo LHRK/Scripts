{
 "cells": [
  {
   "cell_type": "code",
   "execution_count": 1,
   "metadata": {},
   "outputs": [],
   "source": [
    "import MDAnalysis as md\n",
    "import numpy as np\n",
    "import matplotlib.pyplot as plt\n",
    "from MDAnalysis.analysis.leaflet import LeafletFinder\n",
    "from scipy import optimize\n",
    "from MDAnalysis.transformations.fit import fit_rot_trans"
   ]
  },
  {
   "cell_type": "code",
   "execution_count": 2,
   "metadata": {},
   "outputs": [],
   "source": [
    "def rotation_matrix_from_vectors(vec1, vec2):\n",
    "    \"\"\" Find the rotation matrix that aligns vec1 to vec2\n",
    "    :param vec1: A 3d \"source\" vector\n",
    "    :param vec2: A 3d \"destination\" vector\n",
    "    :return mat: A transform matrix (3x3) which when applied to vec1, aligns it with vec2.\n",
    "    \"\"\"\n",
    "    a, b = (vec1 / np.linalg.norm(vec1)).reshape(3), (vec2 / np.linalg.norm(vec2)).reshape(3)\n",
    "    v = np.cross(a, b)\n",
    "    c = np.dot(a, b)\n",
    "    s = np.linalg.norm(v)\n",
    "    kmat = np.array([[0, -v[2], v[1]], [v[2], 0, -v[0]], [-v[1], v[0], 0]])\n",
    "    rotation_matrix = np.eye(3) + kmat + kmat.dot(kmat) * ((1 - c) / (s ** 2))\n",
    "    return rotation_matrix"
   ]
  },
  {
   "cell_type": "code",
   "execution_count": 3,
   "metadata": {},
   "outputs": [],
   "source": [
    "def get_princ (u):\n",
    "    ND = u.select_atoms('all')\n",
    "    I = ND.moment_of_inertia()\n",
    "    e1,e2,e3 = ND.principal_axes()\n",
    "    return e1,e2,e3"
   ]
  },
  {
   "cell_type": "code",
   "execution_count": 4,
   "metadata": {},
   "outputs": [],
   "source": [
    "def align (u):\n",
    "    e1,e2,e3 = get_princ(u)\n",
    "    R1 = rotation_matrix_from_vectors(e1, [1,0,0])\n",
    "    u.select_atoms('all').positions = np.dot(u.select_atoms('all').positions, R1) \n",
    "\n",
    "    e1,e2,e3 = get_princ(u)\n",
    "    R2 = rotation_matrix_from_vectors(e2, [0,1,0])\n",
    "    u.select_atoms('all').positions = np.dot(u.select_atoms('all').positions, R2) \n",
    "\n",
    "    e1,e2,e3 = get_princ(u)\n",
    "    R3 = rotation_matrix_from_vectors(e3, [0,0,1])\n",
    "    u.select_atoms('all').positions = np.dot(u.select_atoms('all').positions, R3) \n",
    "    return u"
   ]
  },
  {
   "cell_type": "code",
   "execution_count": 5,
   "metadata": {},
   "outputs": [
    {
     "name": "stderr",
     "output_type": "stream",
     "text": [
      "/home/au447022/anaconda3/lib/python3.7/site-packages/MDAnalysis/topology/guessers.py:80: UserWarning: Failed to guess the mass for the following atom types: D\n",
      "  warnings.warn(\"Failed to guess the mass for the following atom types: {}\".format(atom_type))\n",
      "/home/au447022/anaconda3/lib/python3.7/site-packages/MDAnalysis/topology/guessers.py:80: UserWarning: Failed to guess the mass for the following atom types: G\n",
      "  warnings.warn(\"Failed to guess the mass for the following atom types: {}\".format(atom_type))\n"
     ]
    }
   ],
   "source": [
    "ref1 = md.Universe('GRO/1D1_69_v1_nowat.gro')\n",
    "ref2 = md.Universe('GRO/1E3D1_134_v1_nowat.gro')\n",
    "ref3 = md.Universe('GRO/2N2_302_v1_nowat.gro')\n",
    "u1 = md.Universe('GRO/1D1_69_v1_nowat.gro', ('XTC/1D1_69_v1_nowat_fit.xtc', 'XTC/1D1_69_v2_nowat_fit.xtc', 'XTC/1D1_69_v3_nowat_fit.xtc'))\n",
    "u2 = md.Universe('GRO/1E3D1_134_v1_nowat.gro', ('XTC/1E3D1_134_v1_nowat_fit.xtc', 'XTC/1E3D1_134_v2_nowat_fit.xtc', 'XTC/1E3D1_134_v3_nowat_fit.xtc'))\n",
    "u3 = md.Universe('GRO/2N2_302_v1_nowat.gro', ('XTC/2N2_302_v1_nowat_fit.xtc', 'XTC/2N2_302_v2_nowat_fit.xtc', 'XTC/2N2_302_v3_nowat_fit.xtc'))"
   ]
  },
  {
   "cell_type": "code",
   "execution_count": 7,
   "metadata": {},
   "outputs": [],
   "source": [
    "U = [u1,u2,u3]\n",
    "N = [n1,n2,n3]"
   ]
  },
  {
   "cell_type": "code",
   "execution_count": 8,
   "metadata": {},
   "outputs": [],
   "source": [
    "def func (x, z0, a1, a2, b11, b12, b22):\n",
    "    return z0 + a1*x[:,0] + a2*x[:,1] + b11*x[:,0]**2 + b12*x[:,0]*x[:,1] + b22*x[:,1]**2"
   ]
  },
  {
   "cell_type": "code",
   "execution_count": 9,
   "metadata": {},
   "outputs": [],
   "source": [
    "systems = ['1D1_69','1E3D1_134','2N2_302']"
   ]
  },
  {
   "cell_type": "code",
   "execution_count": 10,
   "metadata": {},
   "outputs": [],
   "source": [
    "def get_kappas (u):\n",
    "    memb = u.select_atoms('name PO4')\n",
    "    coors = memb.positions\n",
    "\n",
    "    popt, pcov = optimize.curve_fit(func, coors[:,:2], coors[:,2], p0=[1,1,1,0,0,0])\n",
    "    z0, a1, a2, b11, b12, b22 = popt\n",
    "    B = np.zeros([2,2])\n",
    "    B[0,0] = b11*2\n",
    "    B[0,1] = b12\n",
    "    B[1,0] = b12\n",
    "    B[1,1] = b22*2\n",
    "\n",
    "    eig_val, eig_vec = np.linalg.eig(B)\n",
    "    return eig_val"
   ]
  },
  {
   "cell_type": "code",
   "execution_count": 11,
   "metadata": {},
   "outputs": [],
   "source": [
    "def get_kappa (u, stride=100):\n",
    "    nframes = len(u.trajectory[::stride])\n",
    "    kappas = np.zeros([2,nframes])\n",
    "\n",
    "    for idx, ts in enumerate(u.trajectory[::stride]):\n",
    "        kappas[:,idx] = get_kappas(u)\n",
    "    return kappas"
   ]
  },
  {
   "cell_type": "code",
   "execution_count": 12,
   "metadata": {},
   "outputs": [],
   "source": [
    "K = []\n",
    "for idx, u in enumerate(U):\n",
    "    u = align(u)\n",
    "    K.append(get_kappa(u))"
   ]
  },
  {
   "cell_type": "code",
   "execution_count": 13,
   "metadata": {},
   "outputs": [],
   "source": [
    "K_mean = [ np.average(i, axis=0) for i in K ]"
   ]
  },
  {
   "cell_type": "code",
   "execution_count": 14,
   "metadata": {},
   "outputs": [
    {
     "data": {
      "text/plain": [
       "([<matplotlib.axis.XTick at 0x7fe2295e49d0>,\n",
       "  <matplotlib.axis.XTick at 0x7fe2295b0290>,\n",
       "  <matplotlib.axis.XTick at 0x7fe2296506d0>],\n",
       " <a list of 3 Text xticklabel objects>)"
      ]
     },
     "execution_count": 14,
     "metadata": {},
     "output_type": "execute_result"
    },
    {
     "data": {
      "image/png": "[encoded data removed]",
      "text/plain": [
       "<Figure size 432x288 with 1 Axes>"
      ]
     },
     "metadata": {
      "needs_background": "light"
     },
     "output_type": "display_data"
    }
   ],
   "source": [
    "plt.boxplot(K_mean)\n",
    "plt.xticks([1,2,3], systems)"
   ]
  },
  {
   "cell_type": "code",
   "execution_count": 15,
   "metadata": {},
   "outputs": [],
   "source": [
    "K_gaus = [ k[0,:] * k[1,:] for k in K]"
   ]
  },
  {
   "cell_type": "code",
   "execution_count": 16,
   "metadata": {},
   "outputs": [
    {
     "data": {
      "text/plain": [
       "([<matplotlib.axis.XTick at 0x7fe229705e90>,\n",
       "  <matplotlib.axis.XTick at 0x7fe2296d9890>,\n",
       "  <matplotlib.axis.XTick at 0x7fe22608cf90>],\n",
       " <a list of 3 Text xticklabel objects>)"
      ]
     },
     "execution_count": 16,
     "metadata": {},
     "output_type": "execute_result"
    },
    {
     "data": {
      "image/png": "[encoded data removed]",
      "text/plain": [
       "<Figure size 432x288 with 1 Axes>"
      ]
     },
     "metadata": {
      "needs_background": "light"
     },
     "output_type": "display_data"
    }
   ],
   "source": [
    "plt.boxplot(K_gaus)\n",
    "plt.xticks([1,2,3], systems)"
   ]
  },
  {
   "cell_type": "code",
   "execution_count": 17,
   "metadata": {},
   "outputs": [],
   "source": [
    "systemsn = ['NW9_58', 'NW11_73', 'NW13_151']"
   ]
  },
  {
   "cell_type": "code",
   "execution_count": null,
   "metadata": {},
   "outputs": [],
   "source": [
    "Kn = []\n",
    "for idx, n in enumerate(N):\n",
    "    n = align(n)\n",
    "    Kn.append(get_kappa(n))"
   ]
  },
  {
   "cell_type": "code",
   "execution_count": null,
   "metadata": {},
   "outputs": [],
   "source": [
    "Kn_mean = [ np.average(i, axis=0) for i in Kn ]"
   ]
  },
  {
   "cell_type": "code",
   "execution_count": null,
   "metadata": {},
   "outputs": [],
   "source": [
    "plt.boxplot(Kn_mean)\n",
    "plt.xticks([1,2,3], systemsn)"
   ]
  },
  {
   "cell_type": "code",
   "execution_count": null,
   "metadata": {},
   "outputs": [],
   "source": [
    "Kn_gaus = [ k[0,:] * k[1,:] for k in Kn]"
   ]
  },
  {
   "cell_type": "code",
   "execution_count": null,
   "metadata": {},
   "outputs": [],
   "source": [
    "plt.boxplot(Kn_gaus)\n",
    "plt.xticks([1,2,3], systemsn)"
   ]
  },
  {
   "cell_type": "code",
   "execution_count": null,
   "metadata": {},
   "outputs": [],
   "source": [
    "for i in range(3):\n",
    "    np.savetxt('{0:s}_kappas.txt'.format(systemsn[i]), Kn[i])\n",
    "    np.savetxt('{0:s}_kappas.txt'.format(systems[i]), K[i])"
   ]
  },
  {
   "cell_type": "code",
   "execution_count": null,
   "metadata": {},
   "outputs": [],
   "source": []
  },
  {
   "cell_type": "code",
   "execution_count": null,
   "metadata": {},
   "outputs": [],
   "source": []
  }
 ],
 "metadata": {
  "kernelspec": {
   "display_name": "Python 3",
   "language": "python",
   "name": "python3"
  },
  "language_info": {
   "codemirror_mode": {
    "name": "ipython",
    "version": 3
   },
   "file_extension": ".py",
   "mimetype": "text/x-python",
   "name": "python",
   "nbconvert_exporter": "python",
   "pygments_lexer": "ipython3",
   "version": "3.7.6"
  }
 },
 "nbformat": 4,
 "nbformat_minor": 4
}
