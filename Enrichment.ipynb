{
 "cells": [
  {
   "cell_type": "code",
   "execution_count": 1,
   "metadata": {},
   "outputs": [],
   "source": [
    "import numpy as np\n",
    "import MDAnalysis as md \n",
    "import matplotlib.pyplot as plt\n",
    "import os\n",
    "from scipy.stats import ttest_1samp, ttest_ind\n",
    "import matplotlib.ticker as ticker\n"
   ]
  },
  {
   "cell_type": "code",
   "execution_count": 2,
   "metadata": {},
   "outputs": [],
   "source": [
    "def cm2inch(*tupl):\n",
    "    inch = 2.54\n",
    "    if isinstance(tupl[0], tuple):\n",
    "        return tuple(i/inch for i in tupl[0])\n",
    "    else:\n",
    "        return tuple(i/inch for i in tupl)\n",
    "plt.rcParams[\"figure.figsize\"] = cm2inch(15,10)\n",
    "plt.rcParams.update({'font.size':10})\n",
    "def running_mean(x, N):\n",
    "    cumsum = np.cumsum(np.insert(x, 0, 0)) \n",
    "    return (cumsum[N:] - cumsum[:-N]) / float(N)"
   ]
  },
  {
   "cell_type": "markdown",
   "metadata": {},
   "source": [
    "# Enrichment and deplemention "
   ]
  },
  {
   "cell_type": "markdown",
   "metadata": {},
   "source": [
    "#### The cutoff for the first lipid shell is set to 7 angstrom\n",
    "This is based on both visual inspections and RDF curves, where the two first shells lies between ~5 - 14 angstrom"
   ]
  },
  {
   "cell_type": "code",
   "execution_count": 3,
   "metadata": {},
   "outputs": [],
   "source": [
    "#systems=[\"FA_G-prot\"]\n",
    "#systems=[\"FA_G-prot\",\"FA_no_G-prot\",\"IA\",\"PA\"]\n",
    "systems=[\"IA\", \"PA\", \"FA_G-prot\", \"FA_no_G-prot\"]\n",
    "unique_lipids = ['POPC','POPS','POPE','POPA','POPG','CHOL','DPG3', 'DPSM', 'PAP6']\n",
    "all_lipids_sele = \" \".join(['{0:s}'.format(i) for i in unique_lipids ])\n",
    "#lipid_dir = {\"FA_G-prot\":\"POPC, POPS, POPA, POPG, POPE, CHOL, DPG3, DPSM, PAP6\"}\n",
    "lipid_dir = {\"FA_G-prot\":\"POPC, POPS, POPA, POPG, POPE, CHOL, DPG3, DPSM, PAP6\",\n",
    "            \"FA_no_G-prot\":\"POPC, POPS, POPA, POPG, POPE, CHOL, DPG3, DPSM, PAP6\",\n",
    "            \"IA\":\"POPC, POPS, POPA, POPG, POPE, CHOL, DPG3, DPSM, PAP6\",\n",
    "            \"PA\":\"POPC, POPS, POPA, POPG, POPE, CHOL, DPG3, DPSM, PAP6\"}\n"
   ]
  },
  {
   "cell_type": "code",
   "execution_count": 4,
   "metadata": {
    "jupyter": {
     "source_hidden": true
    }
   },
   "outputs": [],
   "source": [
    "def select_prio(resname,u, priority=[\"PO4\", \"GL1\", \"AM1\", \"GM1\"]):\n",
    "    \"\"\"Given a resname a priority selection is made only containing a single bead for the same lipid type\"\"\"\n",
    "    selection=u.select_atoms(\"resname %s and name PO4 GM1 AM1 ROH GL1\" %resname)\n",
    "    #print (selection)\n",
    "    if len(selection) != 0:\n",
    "        if len(selection)!=selection.n_residues:\n",
    "            beads=np.unique(selection.names)\n",
    "            #print(\"%s contains multiple of the listed bead types:\" %resname)\n",
    "            #print(\"The bead with the highest priority is selected\")\n",
    "            bead_type=priority[np.amin([priority.index(v) for v in beads])]\n",
    "            #print(\"Which is %s\" %bead_type)\n",
    "        else:\n",
    "            beads=np.unique(selection.names)\n",
    "            bead_type=beads[0]\n",
    "        new_selection=u.select_atoms(\"resname %s and name %s\" %(resname, bead_type))\n",
    "        return new_selection\n",
    "    else:\n",
    "        return 0\n"
   ]
  },
  {
   "cell_type": "code",
   "execution_count": 4,
   "metadata": {},
   "outputs": [],
   "source": [
    "def get_DE_index (s, r, stride):\n",
    "    \"\"\"\"\"\"\n",
    "    pdb = \"GRO/{0:s}_{1:d}_nowat_mda.pdb\".format(s,r) #Has Chain IDs, with R=protein, P=peptide, G=G-protein, S=bilayer\n",
    "    xtc = \"XTC/{0:s}_{1:d}_nowat_res_center_fit_last10ms.xtc\".format(s,r)\n",
    "    lipids = lipid_dir[s]\n",
    "    lipid_list = lipids.split(',')\n",
    "    u = md.Universe(pdb,xtc)\n",
    "    lipid_tot = np.unique(u.select_atoms('resname {0:s}'.format(all_lipids_sele)).resids).shape[0]\n",
    "    unique_lipids = 'POPC POPS POPA POPG POPE CHOL DPG3 DPSM PAP6'\n",
    "    #unique_lipid = ['POPC', 'POPS', 'POPA', 'POPG', 'POPE', 'CHOL', 'DPG3', 'DPSM']\n",
    "\n",
    "    # Select the protein zone\n",
    "    \n",
    "    prot = u.select_atoms('name BB SC1 SC2 SC3 SC4')[u.select_atoms('name BB SC1 SC2 SC3 SC4').chainIDs == 'R']\n",
    "    prot_sele = '(resname {0:s}) and global around 7 group protein'.format(unique_lipids)\n",
    "    protein_zone = u.select_atoms(prot_sele, protein=prot, updating=True )\n",
    "\n",
    "    #Select the bulk zone - not overlapping with the protein zone\n",
    "    bulk_sele = '(resname {0:s}) and not group protein and not group protein_zone'.format(unique_lipids)\n",
    "    bulk_selection = u.select_atoms(bulk_sele,protein=prot, protein_zone=protein_zone, updating=True)\n",
    "\n",
    "    P     = np.zeros([len(lipid_list), 3])\n",
    "    P_tot = np.zeros([len(lipid_list), 3])\n",
    "    B     = np.zeros([len(lipid_list), 3])\n",
    "\n",
    "    for ndx, lipid in enumerate(lipid_list):\n",
    "        print ('lipid:', lipid)\n",
    "        tot_frames = len(u.trajectory[::stride])\n",
    "\n",
    "        loc_p     = np.zeros([tot_frames])\n",
    "        loc_p_tot = np.zeros([tot_frames])\n",
    "        loc_b     = np.zeros([tot_frames])\n",
    "        for fdx, ts in enumerate(u.trajectory[::stride]):\n",
    "            #print(\"Frame: {0:5d}, Time: {1:8.3f} ps\".format(ts.frame, u.trajectory.time))\n",
    "            lipid_tot_loc = np.unique(protein_zone.resids).shape[0]\n",
    "            loc_p_tot[fdx] = lipid_tot_loc\n",
    "            lipid_circle = select_prio(lipid, protein_zone)\n",
    "            if type(lipid_circle) != int:\n",
    "                lipid_circle_num = np.unique(lipid_circle.resids).shape[0]\n",
    "            else:\n",
    "                lipid_circle_num = 0\n",
    "            loc_p[fdx] = lipid_circle_num\n",
    "\n",
    "            lipid_bulk = select_prio(lipid, bulk_selection)\n",
    "\n",
    "            if type(lipid_bulk) != int:\n",
    "                lipid_bulk_num = np.unique(lipid_bulk.resids).shape[0]\n",
    "            else:\n",
    "                lipid_bulk_num = 0 \n",
    "            loc_b[fdx] = lipid_bulk_num\n",
    "        P[ndx, r]     = np.average(loc_p)\n",
    "        P_tot[ndx, r] = np.average(loc_p_tot)\n",
    "        B[ndx, r]     = np.average(loc_b)\n",
    "        \n",
    "        \n",
    "\n",
    "    R_cir  = P[:,r] / P_tot[:,r]\n",
    "    R_bulk = B[:,r] / lipid_tot\n",
    "    E = R_cir/R_bulk\n",
    "    return E"
   ]
  },
  {
   "cell_type": "markdown",
   "metadata": {},
   "source": [
    "#### Testing"
   ]
  },
  {
   "cell_type": "markdown",
   "metadata": {},
   "source": [
    "r = 0\n",
    "s = systems[0]\n",
    "\n",
    "pdb = \"GRO/{0:s}_{1:d}_nowat_mda.pdb\".format(s,r)\n",
    "xtc = \"XTC/{0:s}_{1:d}_nowat_res_center.xtc\".format(s,r)\n",
    "lipids = lipid_dir[s]\n",
    "lipid_list = lipids.split(',')\n",
    "u = md.Universe(pdb,xtc)\n",
    "sel = u.select_atoms('name BB SC1 SC2 SC3 SC4')[u.select_atoms('name BB SC1 SC2 SC3 SC4').chainIDs == 'R']"
   ]
  },
  {
   "cell_type": "code",
   "execution_count": 127,
   "metadata": {
    "collapsed": true,
    "jupyter": {
     "outputs_hidden": true
    }
   },
   "outputs": [
    {
     "name": "stdout",
     "output_type": "stream",
     "text": [
      "Running system IA repeat 0\n"
     ]
    },
    {
     "name": "stderr",
     "output_type": "stream",
     "text": [
      "/home/au447022/anaconda3/lib/python3.7/site-packages/MDAnalysis/topology/guessers.py:80: UserWarning: Failed to guess the mass for the following atom types: A\n",
      "  warnings.warn(\"Failed to guess the mass for the following atom types: {}\".format(atom_type))\n",
      "/home/au447022/anaconda3/lib/python3.7/site-packages/MDAnalysis/topology/guessers.py:80: UserWarning: Failed to guess the mass for the following atom types: D\n",
      "  warnings.warn(\"Failed to guess the mass for the following atom types: {}\".format(atom_type))\n",
      "/home/au447022/anaconda3/lib/python3.7/site-packages/MDAnalysis/topology/guessers.py:80: UserWarning: Failed to guess the mass for the following atom types: G\n",
      "  warnings.warn(\"Failed to guess the mass for the following atom types: {}\".format(atom_type))\n",
      "/home/au447022/anaconda3/lib/python3.7/site-packages/MDAnalysis/topology/guessers.py:80: UserWarning: Failed to guess the mass for the following atom types: R\n",
      "  warnings.warn(\"Failed to guess the mass for the following atom types: {}\".format(atom_type))\n",
      "/home/au447022/anaconda3/lib/python3.7/site-packages/MDAnalysis/topology/guessers.py:80: UserWarning: Failed to guess the mass for the following atom types: T\n",
      "  warnings.warn(\"Failed to guess the mass for the following atom types: {}\".format(atom_type))\n"
     ]
    },
    {
     "name": "stdout",
     "output_type": "stream",
     "text": [
      "lipid: POPC\n",
      "lipid:  POPS\n",
      "lipid:  POPA\n",
      "lipid:  POPG\n",
      "lipid:  POPE\n",
      "lipid:  CHOL\n",
      "lipid:  DPG3\n",
      "lipid:  DPSM\n",
      "lipid:  PAP6\n",
      "(9,)\n",
      "Running system IA repeat 1\n",
      "lipid: POPC\n",
      "lipid:  POPS\n",
      "lipid:  POPA\n",
      "lipid:  POPG\n",
      "lipid:  POPE\n",
      "lipid:  CHOL\n",
      "lipid:  DPG3\n",
      "lipid:  DPSM\n",
      "lipid:  PAP6\n",
      "(9,)\n",
      "Running system IA repeat 2\n",
      "lipid: POPC\n",
      "lipid:  POPS\n",
      "lipid:  POPA\n",
      "lipid:  POPG\n",
      "lipid:  POPE\n",
      "lipid:  CHOL\n",
      "lipid:  DPG3\n",
      "lipid:  DPSM\n",
      "lipid:  PAP6\n",
      "(9,)\n",
      "Running system PA repeat 0\n",
      "lipid: POPC\n",
      "lipid:  POPS\n",
      "lipid:  POPA\n",
      "lipid:  POPG\n",
      "lipid:  POPE\n",
      "lipid:  CHOL\n",
      "lipid:  DPG3\n",
      "lipid:  DPSM\n",
      "lipid:  PAP6\n",
      "(9,)\n",
      "Running system PA repeat 1\n",
      "lipid: POPC\n",
      "lipid:  POPS\n",
      "lipid:  POPA\n",
      "lipid:  POPG\n",
      "lipid:  POPE\n",
      "lipid:  CHOL\n",
      "lipid:  DPG3\n",
      "lipid:  DPSM\n",
      "lipid:  PAP6\n",
      "(9,)\n",
      "Running system PA repeat 2\n",
      "lipid: POPC\n",
      "lipid:  POPS\n",
      "lipid:  POPA\n",
      "lipid:  POPG\n",
      "lipid:  POPE\n",
      "lipid:  CHOL\n",
      "lipid:  DPG3\n",
      "lipid:  DPSM\n",
      "lipid:  PAP6\n",
      "(9,)\n",
      "Running system FA_G-prot repeat 0\n",
      "lipid: POPC\n",
      "lipid:  POPS\n",
      "lipid:  POPA\n",
      "lipid:  POPG\n",
      "lipid:  POPE\n",
      "lipid:  CHOL\n",
      "lipid:  DPG3\n",
      "lipid:  DPSM\n",
      "lipid:  PAP6\n",
      "(9,)\n",
      "Running system FA_G-prot repeat 1\n",
      "lipid: POPC\n",
      "lipid:  POPS\n",
      "lipid:  POPA\n",
      "lipid:  POPG\n",
      "lipid:  POPE\n",
      "lipid:  CHOL\n",
      "lipid:  DPG3\n",
      "lipid:  DPSM\n",
      "lipid:  PAP6\n",
      "(9,)\n",
      "Running system FA_G-prot repeat 2\n",
      "lipid: POPC\n",
      "lipid:  POPS\n",
      "lipid:  POPA\n",
      "lipid:  POPG\n",
      "lipid:  POPE\n",
      "lipid:  CHOL\n",
      "lipid:  DPG3\n",
      "lipid:  DPSM\n",
      "lipid:  PAP6\n",
      "(9,)\n",
      "Running system FA_no_G-prot repeat 0\n",
      "lipid: POPC\n",
      "lipid:  POPS\n",
      "lipid:  POPA\n",
      "lipid:  POPG\n",
      "lipid:  POPE\n",
      "lipid:  CHOL\n",
      "lipid:  DPG3\n",
      "lipid:  DPSM\n",
      "lipid:  PAP6\n",
      "(9,)\n",
      "Running system FA_no_G-prot repeat 1\n",
      "lipid: POPC\n",
      "lipid:  POPS\n",
      "lipid:  POPA\n",
      "lipid:  POPG\n",
      "lipid:  POPE\n",
      "lipid:  CHOL\n",
      "lipid:  DPG3\n",
      "lipid:  DPSM\n",
      "lipid:  PAP6\n",
      "(9,)\n",
      "Running system FA_no_G-prot repeat 2\n",
      "lipid: POPC\n",
      "lipid:  POPS\n",
      "lipid:  POPA\n",
      "lipid:  POPG\n",
      "lipid:  POPE\n",
      "lipid:  CHOL\n",
      "lipid:  DPG3\n",
      "lipid:  DPSM\n",
      "lipid:  PAP6\n",
      "(9,)\n"
     ]
    }
   ],
   "source": [
    "DE_All = []\n",
    "for s in systems:\n",
    "    DE = []\n",
    "    for r in range(3):\n",
    "        print ('Running system {0:s} repeat {1:d}'.format(s,r))\n",
    "        DE_loc = get_DE_index(s, r, stride=2)\n",
    "        np.save('DE_index_{0:s}_{1:d}_last10µs.npy'.format(s,r), np.array(DE_loc))\n",
    "        DE.append(DE_loc)\n",
    "        print (np.array(DE_loc).shape)\n",
    "    np.save('DE_index_{0:s}_last10µs.npy'.format(s), np.array(DE))\n",
    "    DE_All.append(DE)"
   ]
  },
  {
   "cell_type": "code",
   "execution_count": 5,
   "metadata": {},
   "outputs": [],
   "source": [
    "#np.save('DE_index_all_last10µs.npy', np.array(DE_All))\n",
    "DE = np.load('DE_index_all_last10µs.npy')"
   ]
  },
  {
   "cell_type": "code",
   "execution_count": 6,
   "metadata": {},
   "outputs": [],
   "source": [
    "#DE = np.array(DE_All)"
   ]
  },
  {
   "cell_type": "code",
   "execution_count": 7,
   "metadata": {},
   "outputs": [
    {
     "data": {
      "text/plain": [
       "(4, 3, 9)"
      ]
     },
     "execution_count": 7,
     "metadata": {},
     "output_type": "execute_result"
    }
   ],
   "source": [
    "DE.shape"
   ]
  },
  {
   "cell_type": "code",
   "execution_count": 8,
   "metadata": {},
   "outputs": [],
   "source": [
    "import statsmodels.api as sm \n",
    "import pylab as py\n",
    "from scipy.stats import shapiro"
   ]
  },
  {
   "cell_type": "code",
   "execution_count": 9,
   "metadata": {},
   "outputs": [
    {
     "data": {
      "text/plain": [
       "ShapiroResult(statistic=0.5604251623153687, pvalue=7.337058605116908e-08)"
      ]
     },
     "execution_count": 9,
     "metadata": {},
     "output_type": "execute_result"
    }
   ],
   "source": [
    "shapiro(DE[0,:,:])"
   ]
  },
  {
   "cell_type": "code",
   "execution_count": 10,
   "metadata": {},
   "outputs": [
    {
     "data": {
      "image/png": "[encoded data removed]",
      "text/plain": [
       "<Figure size 425.197x283.465 with 1 Axes>"
      ]
     },
     "metadata": {
      "needs_background": "light"
     },
     "output_type": "display_data"
    }
   ],
   "source": [
    "sm.qqplot(DE[:,:,0], line ='45') \n",
    "py.show()"
   ]
  },
  {
   "cell_type": "code",
   "execution_count": null,
   "metadata": {},
   "outputs": [],
   "source": []
  },
  {
   "cell_type": "code",
   "execution_count": 11,
   "metadata": {},
   "outputs": [
    {
     "data": {
      "text/plain": [
       "['IA', 'PA', 'FA_G-prot', 'FA_no_G-prot']"
      ]
     },
     "execution_count": 11,
     "metadata": {},
     "output_type": "execute_result"
    }
   ],
   "source": [
    "systems\n",
    "#systems = ['IA','PA', 'FA_G-prot','FA_no_G-prot']"
   ]
  },
  {
   "cell_type": "code",
   "execution_count": 12,
   "metadata": {},
   "outputs": [],
   "source": [
    "DE_ava = np.average(DE, axis=1)\n",
    "DE_std = np.std(DE, axis=1)"
   ]
  },
  {
   "cell_type": "code",
   "execution_count": 13,
   "metadata": {},
   "outputs": [
    {
     "data": {
      "text/plain": [
       "(4, 9)"
      ]
     },
     "execution_count": 13,
     "metadata": {},
     "output_type": "execute_result"
    }
   ],
   "source": [
    "DE_ava.shape"
   ]
  },
  {
   "cell_type": "code",
   "execution_count": 14,
   "metadata": {},
   "outputs": [
    {
     "data": {
      "image/png": "[encoded data removed]",
      "text/plain": [
       "<Figure size 425.197x226.772 with 1 Axes>"
      ]
     },
     "metadata": {
      "needs_background": "light"
     },
     "output_type": "display_data"
    }
   ],
   "source": [
    "plt.rcParams[\"figure.figsize\"] = cm2inch(15,8)\n",
    "plt.rcParams.update({'font.size':10})\n",
    "\n",
    "\n",
    "lipid_list = ['POPC', 'POPS', 'POPA', 'POPG', 'POPE', 'CHOL', 'DPG3', 'DPSM', 'PAP6']\n",
    "lipid_list_translated = ['POPC', 'POPS', 'POPA', 'POPG', 'POPE', 'CHOL', 'GM3', 'SM', 'PIP2']\n",
    "#color_list = ['#e66101','#fdb863','#b2abd2','#5e3c99']\n",
    "#color_list = ['#7570b3','#e7298a','#1b9e77','#d95f02']\n",
    "color_list = ['#1b9e77','#d95f02','#7570b3','#e7298a','#66a61e','#e6ab02']\n",
    "for i in range(4):\n",
    "    plt.errorbar([0,1,2,3,4,5,6,7,8], DE_ava[i], yerr=DE_std[i], ecolor='grey', fmt='o', label=systems[i], color=color_list[i], alpha=0.8)\n",
    "\n",
    "\n",
    "plt.xticks([0,1,2,3,4,5,6,7,8], lipid_list_translated)\n",
    "plt.grid(alpha=0.6)\n",
    "plt.ylabel('DE index')\n",
    "plt.legend(loc='upper center', bbox_to_anchor=(0.5, -0.07), frameon=False, ncol=4)\n",
    "plt.tight_layout()\n",
    "#plt.savefig('DE_index_all_last10ms_ver2.png', dpi=300, bbox_inches='tight')"
   ]
  },
  {
   "cell_type": "code",
   "execution_count": 15,
   "metadata": {},
   "outputs": [
    {
     "data": {
      "text/plain": [
       "(4, 9)"
      ]
     },
     "execution_count": 15,
     "metadata": {},
     "output_type": "execute_result"
    }
   ],
   "source": [
    "DE_ava.shape"
   ]
  },
  {
   "cell_type": "code",
   "execution_count": 16,
   "metadata": {},
   "outputs": [
    {
     "data": {
      "text/plain": [
       "(2, 9)"
      ]
     },
     "execution_count": 16,
     "metadata": {},
     "output_type": "execute_result"
    }
   ],
   "source": [
    "DE_ava[:2].shape"
   ]
  },
  {
   "cell_type": "code",
   "execution_count": 17,
   "metadata": {},
   "outputs": [
    {
     "data": {
      "text/plain": [
       "['FA_G-prot', 'FA_no_G-prot']"
      ]
     },
     "execution_count": 17,
     "metadata": {},
     "output_type": "execute_result"
    }
   ],
   "source": [
    "systems[-2:]"
   ]
  },
  {
   "cell_type": "code",
   "execution_count": 18,
   "metadata": {},
   "outputs": [],
   "source": [
    "system_labels = ['Inactive', 'Partial active','Fully active w Gs', 'Fully active wo Gs']"
   ]
  },
  {
   "cell_type": "code",
   "execution_count": 20,
   "metadata": {},
   "outputs": [],
   "source": [
    "p_values =  np.array([ ttest_1samp(DE[i,:,j], popmean=1).pvalue for i in range(4) for j in range(9) ]).reshape([4,9])"
   ]
  },
  {
   "cell_type": "code",
   "execution_count": null,
   "metadata": {},
   "outputs": [],
   "source": [
    "plt.rcParams.update({'font.size':10})\n",
    "\n",
    "fig, ax = plt.subplots(nrows=2, ncols=2, sharey=True, figsize=cm2inch(16,10))\n",
    "\n",
    "lipid_list = ['POPC', 'POPS', 'POPA', 'POPG', 'POPE', 'CHOL', 'DPG3', 'DPSM', 'PAP6']\n",
    "lipid_list_translated = ['POPC', 'POPS', 'POPA', 'POPG', 'POPE', 'CHOL', 'GM3', 'SM', 'PIP2']\n",
    "color_list = ['#1b9e77','#d95f02','#7570b3','#e7298a','#66a61e','#e6ab02']\n",
    "colors_lipids = ['#a6cee3','#1f78b4','#b2df8a','#33a02c','#fb9a99','#e31a1c','#fdbf6f','#ff7f00','#cab2d6']\n",
    "\n",
    "for i in range(2):\n",
    "    bar = ax[0,i].bar([0,1,2,3,4,5,6,7,8], DE_ava[:2][i], yerr=DE_std[:2][i], ecolor='grey',\n",
    "                color=colors_lipids)\n",
    "    ax[0,i].set_title(system_labels[:2][i])\n",
    "    ax[0,i].hlines(1, 0,8, linestyle='dotted', color='black', alpha=0.6)\n",
    "    ax[0,i].set_xticks([0,1,2,3,4,5,6,7,8])\n",
    "    ax[0,i].set_xticklabels(lipid_list_translated, rotation='60')\n",
    "    ax[0,i].set_ylabel('DE index')\n",
    "    for l in range(9):\n",
    "        if p_values[2:][i][l] <= 0.05:\n",
    "            ax[0,i].text(l, 5, \"*\", fontsize=9)\n",
    "    \n",
    "    \n",
    "for j in range(2):\n",
    "    bar = ax[1,j].bar([0,1,2,3,4,5,6,7,8], DE_ava[-2:][j], yerr=DE_std[-2:][j], ecolor='grey', \n",
    "                color=colors_lipids, tick_label=p_values[:-2][j])\n",
    "    ax[1,j].set_title(system_labels[-2:][j])\n",
    "    ax[1,j].set_yticks([1,2,3,4,5,6])\n",
    "    ax[1,j].hlines(1, 0,8, linestyle='dotted', color='black', alpha=0.6)\n",
    "    ax[1,j].set_xticks([0,1,2,3,4,5,6,7,8])\n",
    "    ax[1,j].set_xticklabels(lipid_list_translated, rotation='60')\n",
    "    ax[1,j].set_ylabel('DE index')   \n",
    "    for l in range(9):\n",
    "        if p_values[:-2][j][l] <= 0.05:\n",
    "            ax[1,j].text(l, 5, \"*\", fontsize=9)\n",
    "    \n",
    "plt.subplots_adjust(hspace=0.8)\n",
    "plt.savefig('DE_index_bars_new.png', dpi=300, bbox_inches='tight')"
   ]
  },
  {
   "cell_type": "code",
   "execution_count": 139,
   "metadata": {},
   "outputs": [
    {
     "data": {
      "text/plain": [
       "(4, 9)"
      ]
     },
     "execution_count": 139,
     "metadata": {},
     "output_type": "execute_result"
    }
   ],
   "source": [
    "p_values.shape"
   ]
  },
  {
   "cell_type": "code",
   "execution_count": 140,
   "metadata": {},
   "outputs": [
    {
     "data": {
      "text/plain": [
       "(2, 9)"
      ]
     },
     "execution_count": 140,
     "metadata": {},
     "output_type": "execute_result"
    }
   ],
   "source": [
    "p_values[:-2].shape"
   ]
  },
  {
   "cell_type": "code",
   "execution_count": 152,
   "metadata": {},
   "outputs": [
    {
     "data": {
      "text/plain": [
       "array([0.01250074, 0.00501445, 0.00452322, 0.0046093 ])"
      ]
     },
     "execution_count": 152,
     "metadata": {},
     "output_type": "execute_result"
    }
   ],
   "source": [
    "p_values[:,-1]"
   ]
  },
  {
   "cell_type": "code",
   "execution_count": 153,
   "metadata": {},
   "outputs": [
    {
     "data": {
      "text/plain": [
       "['IA', 'PA', 'FA_G-prot', 'FA_no_G-prot']"
      ]
     },
     "execution_count": 153,
     "metadata": {},
     "output_type": "execute_result"
    }
   ],
   "source": [
    "systems"
   ]
  },
  {
   "cell_type": "code",
   "execution_count": 23,
   "metadata": {},
   "outputs": [],
   "source": [
    "np.savetxt('DE_index_p_values_last10ms.txt', p_values)"
   ]
  },
  {
   "cell_type": "code",
   "execution_count": 141,
   "metadata": {},
   "outputs": [
    {
     "data": {
      "image/png": "[encoded data removed]",
      "text/plain": [
       "<Figure size 425.197x226.772 with 1 Axes>"
      ]
     },
     "metadata": {
      "needs_background": "light"
     },
     "output_type": "display_data"
    }
   ],
   "source": [
    "#color_list = ['#e66101','#fdb863','#b2abd2','#5e3c99']\n",
    "color_list = ['#7570b3','#e7298a','#1b9e77','#d95f02']\n",
    "for i in range(4):\n",
    "    plt.plot(p_values[i], 'o', label=systems[i], alpha=0.5, color=color_list[i])\n",
    "plt.legend(loc='upper center', bbox_to_anchor=(0.5, -0.05), frameon=False, ncol=4)\n",
    "plt.xticks([0,1,2,3,4,5,6,7,8], lipid_list_translated)\n",
    "plt.hlines(0.05, 0, 8, linestyle='dotted')\n",
    "plt.ylabel('P-value')\n",
    "plt.savefig('p_values_DE_index_last10ms.png', dpi=300, bbox_inches='tight')\n",
    "\n",
    "##This is significance compare to bulk. Not between the conformations. "
   ]
  },
  {
   "cell_type": "code",
   "execution_count": 31,
   "metadata": {},
   "outputs": [
    {
     "data": {
      "text/plain": [
       "0.5501643226658957"
      ]
     },
     "execution_count": 31,
     "metadata": {},
     "output_type": "execute_result"
    }
   ],
   "source": [
    "ttest_ind(DE[0,:,0], DE[1,:,0]).pvalue"
   ]
  },
  {
   "cell_type": "code",
   "execution_count": 142,
   "metadata": {},
   "outputs": [
    {
     "data": {
      "text/plain": [
       "array([0.31683047, 0.8256031 , 0.55016432])"
      ]
     },
     "execution_count": 142,
     "metadata": {},
     "output_type": "execute_result"
    }
   ],
   "source": [
    "np.array([ ttest_ind(DE[i,:,0], DE[i+1, :, 0]).pvalue for i in range(3)])"
   ]
  },
  {
   "cell_type": "code",
   "execution_count": 143,
   "metadata": {},
   "outputs": [],
   "source": [
    "p_values_sys = np.zeros([9,4,4])\n",
    "for j in range(9):\n",
    "    for i in range(4):\n",
    "        for ii in range(4):\n",
    "            p_values_sys[j,i,ii] = ttest_ind(DE[i,:,j], DE[ii,:,j]).pvalue\n",
    "            #p_values_sys.append(ttest_ind(DE[i,:,j], DE[ii,:,j]).pvalue)\n",
    "            "
   ]
  },
  {
   "cell_type": "code",
   "execution_count": 144,
   "metadata": {},
   "outputs": [
    {
     "data": {
      "text/plain": [
       "['IA', 'PA', 'FA_G-prot', 'FA_no_G-prot']"
      ]
     },
     "execution_count": 144,
     "metadata": {},
     "output_type": "execute_result"
    }
   ],
   "source": [
    "systems"
   ]
  },
  {
   "cell_type": "code",
   "execution_count": 145,
   "metadata": {},
   "outputs": [
    {
     "name": "stdout",
     "output_type": "stream",
     "text": [
      "IA IA\n",
      "1.0\n",
      "IA PA\n",
      "0.19374858084115848\n",
      "IA FA_G-prot\n",
      "0.1788489414694853\n",
      "IA FA_no_G-prot\n",
      "0.35335445545318755\n",
      "PA IA\n",
      "0.19374858084115848\n",
      "PA PA\n",
      "1.0\n",
      "PA FA_G-prot\n",
      "0.017591710122613374\n",
      "PA FA_no_G-prot\n",
      "0.24129054184362525\n",
      "FA_G-prot IA\n",
      "0.1788489414694853\n",
      "FA_G-prot PA\n",
      "0.017591710122613374\n",
      "FA_G-prot FA_G-prot\n",
      "1.0\n",
      "FA_G-prot FA_no_G-prot\n",
      "0.031068930233968735\n",
      "FA_no_G-prot IA\n",
      "0.35335445545318755\n",
      "FA_no_G-prot PA\n",
      "0.24129054184362525\n",
      "FA_no_G-prot FA_G-prot\n",
      "0.031068930233968735\n",
      "FA_no_G-prot FA_no_G-prot\n",
      "1.0\n"
     ]
    }
   ],
   "source": [
    "for i in range(4):\n",
    "    for ii in range(4):\n",
    "        print (systems[i], systems[ii])\n",
    "        print(ttest_ind(DE[i,:,2], DE[ii,:,2]).pvalue)"
   ]
  },
  {
   "cell_type": "code",
   "execution_count": 146,
   "metadata": {},
   "outputs": [],
   "source": [
    "p_values_systems = np.array(p_values_sys).reshape([9,4,4])"
   ]
  },
  {
   "cell_type": "code",
   "execution_count": 39,
   "metadata": {},
   "outputs": [
    {
     "data": {
      "text/plain": [
       "['FA_G-prot', 'FA_no_G-prot', 'IA', 'PA']"
      ]
     },
     "execution_count": 39,
     "metadata": {},
     "output_type": "execute_result"
    }
   ],
   "source": [
    "systems"
   ]
  },
  {
   "cell_type": "code",
   "execution_count": null,
   "metadata": {},
   "outputs": [],
   "source": []
  },
  {
   "cell_type": "code",
   "execution_count": 147,
   "metadata": {},
   "outputs": [
    {
     "data": {
      "text/plain": [
       "(9, 4, 4)"
      ]
     },
     "execution_count": 147,
     "metadata": {},
     "output_type": "execute_result"
    }
   ],
   "source": [
    "p_values_systems.shape"
   ]
  },
  {
   "cell_type": "code",
   "execution_count": 14,
   "metadata": {},
   "outputs": [],
   "source": [
    "#np.save('P_values_10µs_acorss_systems.npy', p_values_systems)\n",
    "p_values_systems = np.load('P_values_10µs_acorss_systems.npy')"
   ]
  },
  {
   "cell_type": "markdown",
   "metadata": {},
   "source": [
    "## Saving p-values to an excel ark "
   ]
  },
  {
   "cell_type": "code",
   "execution_count": 106,
   "metadata": {},
   "outputs": [],
   "source": [
    "import pandas as pd"
   ]
  },
  {
   "cell_type": "code",
   "execution_count": 148,
   "metadata": {},
   "outputs": [],
   "source": [
    "writer = pd.ExcelWriter('p-values_across_systems.xlsx', engine='xlsxwriter')\n",
    "\n",
    "for i in range(9):\n",
    "    df = pd.DataFrame(data=p_values_systems[i], columns=systems, index=systems)\n",
    "    df.to_excel(writer, sheet_name=lipid_list_translated[i])\n",
    "writer.save()\n"
   ]
  },
  {
   "cell_type": "code",
   "execution_count": null,
   "metadata": {},
   "outputs": [],
   "source": []
  },
  {
   "cell_type": "code",
   "execution_count": 62,
   "metadata": {},
   "outputs": [
    {
     "data": {
      "text/plain": [
       "([<matplotlib.axis.YTick at 0x7f4a8584cc50>,\n",
       "  <matplotlib.axis.YTick at 0x7f4a85819490>,\n",
       "  <matplotlib.axis.YTick at 0x7f4a85842f90>,\n",
       "  <matplotlib.axis.YTick at 0x7f4a85c442d0>],\n",
       " <a list of 4 Text yticklabel objects>)"
      ]
     },
     "execution_count": 62,
     "metadata": {},
     "output_type": "execute_result"
    },
    {
     "data": {
      "image/png": "[encoded data removed]",
      "text/plain": [
       "<Figure size 425.197x283.465 with 1 Axes>"
      ]
     },
     "metadata": {
      "needs_background": "light"
     },
     "output_type": "display_data"
    }
   ],
   "source": [
    "plt.pcolormesh(p_values_systems[-1])\n",
    "plt.yticks([0,1,2,3], systems)"
   ]
  },
  {
   "cell_type": "code",
   "execution_count": 119,
   "metadata": {},
   "outputs": [
    {
     "data": {
      "image/png": "[encoded data removed]",
      "text/plain": [
       "<Figure size 340.157x283.465 with 2 Axes>"
      ]
     },
     "metadata": {
      "needs_background": "light"
     },
     "output_type": "display_data"
    },
    {
     "data": {
      "image/png": "[encoded data removed]",
      "text/plain": [
       "<Figure size 340.157x283.465 with 2 Axes>"
      ]
     },
     "metadata": {
      "needs_background": "light"
     },
     "output_type": "display_data"
    },
    {
     "data": {
      "image/png": "[encoded data removed]",
      "text/plain": [
       "<Figure size 340.157x283.465 with 2 Axes>"
      ]
     },
     "metadata": {
      "needs_background": "light"
     },
     "output_type": "display_data"
    },
    {
     "data": {
      "image/png": "[encoded data removed]",
      "text/plain": [
       "<Figure size 340.157x283.465 with 2 Axes>"
      ]
     },
     "metadata": {
      "needs_background": "light"
     },
     "output_type": "display_data"
    },
    {
     "data": {
      "image/png": "[encoded data removed]",
      "text/plain": [
       "<Figure size 340.157x283.465 with 2 Axes>"
      ]
     },
     "metadata": {
      "needs_background": "light"
     },
     "output_type": "display_data"
    },
    {
     "data": {
      "image/png": "[encoded data removed]",
      "text/plain": [
       "<Figure size 340.157x283.465 with 2 Axes>"
      ]
     },
     "metadata": {
      "needs_background": "light"
     },
     "output_type": "display_data"
    },
    {
     "data": {
      "image/png": "[encoded data removed]",
      "text/plain": [
       "<Figure size 340.157x283.465 with 2 Axes>"
      ]
     },
     "metadata": {
      "needs_background": "light"
     },
     "output_type": "display_data"
    },
    {
     "data": {
      "image/png": "[encoded data removed]",
      "text/plain": [
       "<Figure size 340.157x283.465 with 2 Axes>"
      ]
     },
     "metadata": {
      "needs_background": "light"
     },
     "output_type": "display_data"
    },
    {
     "data": {
      "image/png": "[encoded data removed]",
      "text/plain": [
       "<Figure size 340.157x283.465 with 2 Axes>"
      ]
     },
     "metadata": {
      "needs_background": "light"
     },
     "output_type": "display_data"
    }
   ],
   "source": [
    "#lipids = ['POPC', 'POPS', 'POPA', 'POPG', 'POPE', 'CHOL', 'GM3', 'SM', 'PIP2']\n",
    "lipids = lipid_list_translated\n",
    "for i in range(9):\n",
    "    \n",
    "    fig,ax = plt.subplots(figsize=cm2inch(12,10))\n",
    "    im = ax.pcolor(p_values_systems[i], vmin=0, vmax=0.06)\n",
    "    cb = fig.colorbar(im, ax=ax)\n",
    "    cb.ax.set_yticklabels([\"{:1.2f}\".format(i) for i in cb.get_ticks()])\n",
    "    cb.set_label('P value')\n",
    "    # Hide major tick labels\n",
    "    ax.xaxis.set_major_formatter(ticker.NullFormatter())\n",
    "    ax.yaxis.set_major_formatter(ticker.NullFormatter())\n",
    "\n",
    "    # Customize minor tick labels\n",
    "    ax.xaxis.set_minor_locator(ticker.FixedLocator([0.5, 1.5, 2.5, 3.5]))\n",
    "    ax.xaxis.set_minor_formatter(ticker.FixedFormatter(systems))\n",
    "    ax.yaxis.set_minor_locator(ticker.FixedLocator([0.5, 1.5, 2.5, 3.5]))\n",
    "    ax.yaxis.set_minor_formatter(ticker.FixedFormatter(systems))\n",
    "    \n",
    "    for tick in ax.xaxis.get_minor_ticks():\n",
    "        tick.label1.set_horizontalalignment('center')\n",
    "    for tick in ax.yaxis.get_minor_ticks():\n",
    "        tick.label1.set_horizontalalignment('center')\n",
    "    plt.setp(ax.xaxis.get_minorticklabels(), rotation=90)\n",
    "    ax.set_title(lipids[i])\n",
    "    #plt.savefig('DE_index_P_values_{0:s}_last10ms.png'.format(lipids[i]), dpi=300, bbox_inches='tight')\n",
    "    plt.show()\n",
    "    "
   ]
  },
  {
   "cell_type": "code",
   "execution_count": 45,
   "metadata": {},
   "outputs": [
    {
     "data": {
      "text/plain": [
       "'/home/au447022/Documents/GCGR_Complex_LB/LIVER/ALL'"
      ]
     },
     "execution_count": 45,
     "metadata": {},
     "output_type": "execute_result"
    }
   ],
   "source": [
    "pwd"
   ]
  },
  {
   "cell_type": "markdown",
   "metadata": {},
   "source": [
    "################################################################"
   ]
  },
  {
   "cell_type": "code",
   "execution_count": null,
   "metadata": {},
   "outputs": [],
   "source": []
  },
  {
   "cell_type": "code",
   "execution_count": null,
   "metadata": {},
   "outputs": [],
   "source": []
  },
  {
   "cell_type": "markdown",
   "metadata": {},
   "source": [
    "DE_G_prots = np.array(DE)[6:,:]\n",
    "DE_IA_PA = np.array(DE)[:6,:]\n",
    "\n",
    "DE_G_prot = DE_G_prots[3:,:]\n",
    "DE_no_G_prot = DE_G_prots[:-3,:]\n",
    "DE_IA  = DE_IA_PA[3:,:]\n",
    "DE_PA = DE_IA_PA[:-3,:]"
   ]
  },
  {
   "cell_type": "code",
   "execution_count": 12,
   "metadata": {},
   "outputs": [],
   "source": [
    "#DEs = [DE_G_prot, DE_no_G_prot, DE_IA, DE_PA]"
   ]
  },
  {
   "cell_type": "code",
   "execution_count": null,
   "metadata": {},
   "outputs": [],
   "source": []
  },
  {
   "cell_type": "code",
   "execution_count": 19,
   "metadata": {
    "collapsed": true,
    "jupyter": {
     "outputs_hidden": true,
     "source_hidden": true
    }
   },
   "outputs": [
    {
     "ename": "IndexError",
     "evalue": "index 0 is out of bounds for axis 1 with size 0",
     "output_type": "error",
     "traceback": [
      "\u001b[0;31m---------------------------------------------------------------------------\u001b[0m",
      "\u001b[0;31mIndexError\u001b[0m                                Traceback (most recent call last)",
      "\u001b[0;32m<ipython-input-19-e1f43b06a905>\u001b[0m in \u001b[0;36m<module>\u001b[0;34m\u001b[0m\n\u001b[1;32m      6\u001b[0m \u001b[0;32mfor\u001b[0m \u001b[0ms\u001b[0m \u001b[0;32min\u001b[0m \u001b[0mrange\u001b[0m\u001b[0;34m(\u001b[0m\u001b[0;36m4\u001b[0m\u001b[0;34m)\u001b[0m\u001b[0;34m:\u001b[0m\u001b[0;34m\u001b[0m\u001b[0;34m\u001b[0m\u001b[0m\n\u001b[1;32m      7\u001b[0m     \u001b[0;32mfor\u001b[0m \u001b[0mr\u001b[0m \u001b[0;32min\u001b[0m \u001b[0mrange\u001b[0m\u001b[0;34m(\u001b[0m\u001b[0;36m3\u001b[0m\u001b[0;34m)\u001b[0m\u001b[0;34m:\u001b[0m\u001b[0;34m\u001b[0m\u001b[0;34m\u001b[0m\u001b[0m\n\u001b[0;32m----> 8\u001b[0;31m         \u001b[0mplt\u001b[0m\u001b[0;34m.\u001b[0m\u001b[0mplot\u001b[0m\u001b[0;34m(\u001b[0m\u001b[0;34m[\u001b[0m\u001b[0;36m0\u001b[0m\u001b[0;34m,\u001b[0m\u001b[0;36m1\u001b[0m\u001b[0;34m,\u001b[0m\u001b[0;36m2\u001b[0m\u001b[0;34m,\u001b[0m\u001b[0;36m3\u001b[0m\u001b[0;34m,\u001b[0m\u001b[0;36m4\u001b[0m\u001b[0;34m,\u001b[0m\u001b[0;36m5\u001b[0m\u001b[0;34m,\u001b[0m\u001b[0;36m6\u001b[0m\u001b[0;34m,\u001b[0m\u001b[0;36m7\u001b[0m\u001b[0;34m,\u001b[0m\u001b[0;36m8\u001b[0m\u001b[0;34m]\u001b[0m\u001b[0;34m,\u001b[0m \u001b[0mnp\u001b[0m\u001b[0;34m.\u001b[0m\u001b[0mlog\u001b[0m\u001b[0;34m(\u001b[0m\u001b[0mnp\u001b[0m\u001b[0;34m.\u001b[0m\u001b[0marray\u001b[0m\u001b[0;34m(\u001b[0m\u001b[0mDEs\u001b[0m\u001b[0;34m)\u001b[0m\u001b[0;34m[\u001b[0m\u001b[0ms\u001b[0m\u001b[0;34m,\u001b[0m\u001b[0mr\u001b[0m\u001b[0;34m,\u001b[0m\u001b[0;34m:\u001b[0m\u001b[0;34m]\u001b[0m\u001b[0;34m)\u001b[0m\u001b[0;34m,\u001b[0m\u001b[0;34m'o'\u001b[0m\u001b[0;34m,\u001b[0m \u001b[0mcolor\u001b[0m\u001b[0;34m=\u001b[0m\u001b[0mcolor_list\u001b[0m\u001b[0;34m[\u001b[0m\u001b[0ms\u001b[0m\u001b[0;34m]\u001b[0m\u001b[0;34m,\u001b[0m \u001b[0malpha\u001b[0m\u001b[0;34m=\u001b[0m\u001b[0malpha_value\u001b[0m\u001b[0;34m[\u001b[0m\u001b[0mr\u001b[0m\u001b[0;34m]\u001b[0m\u001b[0;34m,\u001b[0m \u001b[0mlabel\u001b[0m\u001b[0;34m=\u001b[0m\u001b[0mlabel_list\u001b[0m\u001b[0;34m[\u001b[0m\u001b[0ms\u001b[0m\u001b[0;34m]\u001b[0m\u001b[0;34m)\u001b[0m\u001b[0;34m\u001b[0m\u001b[0;34m\u001b[0m\u001b[0m\n\u001b[0m\u001b[1;32m      9\u001b[0m \u001b[0;34m\u001b[0m\u001b[0m\n\u001b[1;32m     10\u001b[0m \u001b[0mplt\u001b[0m\u001b[0;34m.\u001b[0m\u001b[0mxticks\u001b[0m\u001b[0;34m(\u001b[0m\u001b[0;34m[\u001b[0m\u001b[0;36m0\u001b[0m\u001b[0;34m,\u001b[0m\u001b[0;36m1\u001b[0m\u001b[0;34m,\u001b[0m\u001b[0;36m2\u001b[0m\u001b[0;34m,\u001b[0m\u001b[0;36m3\u001b[0m\u001b[0;34m,\u001b[0m\u001b[0;36m4\u001b[0m\u001b[0;34m,\u001b[0m\u001b[0;36m5\u001b[0m\u001b[0;34m,\u001b[0m\u001b[0;36m6\u001b[0m\u001b[0;34m,\u001b[0m\u001b[0;36m7\u001b[0m\u001b[0;34m,\u001b[0m\u001b[0;36m8\u001b[0m\u001b[0;34m]\u001b[0m\u001b[0;34m,\u001b[0m \u001b[0mlipid_list_translated\u001b[0m\u001b[0;34m)\u001b[0m\u001b[0;34m\u001b[0m\u001b[0;34m\u001b[0m\u001b[0m\n",
      "\u001b[0;31mIndexError\u001b[0m: index 0 is out of bounds for axis 1 with size 0"
     ]
    }
   ],
   "source": [
    "color_list = ['#e41a1c','#377eb8','#4daf4a','#984ea3']\n",
    "lipid_list_translated = ['POPC', 'POPS', 'POPA', 'POPG', 'POPE', 'CHOL', 'GM3', 'SM', 'PIP2']\n",
    "alpha_value = [0.4, 0.6, 0.8]\n",
    "label_list = [\"FA_G-prot\",\"FA_no_G-prot\",\"IA\",\"PA\"]\n",
    "\n",
    "for s in range(4):\n",
    "    plt.plot([0,1,2,3,4,5,6,7,8], DEs[s,r,:]),'o', color=color_list[s], alpha=alpha_value[r], label=label_list[s])\n",
    "\n",
    "plt.xticks([0,1,2,3,4,5,6,7,8], lipid_list_translated)\n",
    "plt.grid(alpha=0.5)\n",
    "plt.legend(loc='center left', bbox_to_anchor=(1, 0.5), frameon=False)\n",
    "plt.ylabel('log(DE) index')\n",
    "plt.tight_layout()\n",
    "#plt.savefig('log(DE)_all_rep.png', dpi=300, bbox_inches='tight')"
   ]
  },
  {
   "cell_type": "code",
   "execution_count": 27,
   "metadata": {},
   "outputs": [
    {
     "data": {
      "image/png": "[encoded data removed]",
      "text/plain": [
       "<Figure size 432x288 with 1 Axes>"
      ]
     },
     "metadata": {
      "needs_background": "light"
     },
     "output_type": "display_data"
    }
   ],
   "source": [
    "color_list = ['#e41a1c','#377eb8','#4daf4a','#984ea3']\n",
    "lipid_list_translated = ['POPC', 'POPS', 'POPA', 'POPG', 'POPE', 'CHOL', 'GM3', 'SM', 'PIP2']\n",
    "alpha_value = [0.4, 0.6, 0.8]\n",
    "label_list = [\"FA_G-prot\",\"FA_no_G-prot\",\"IA\",\"PA\"]\n",
    "\n",
    "for s in range(4):\n",
    "    for r in range(3):\n",
    "        plt.plot([0,1,2,3,4,5,6,7,8], np.array(DEs)[s,r,:],'o', color=color_list[s], alpha=alpha_value[r], label=label_list[s])\n",
    "\n",
    "plt.xticks([0,1,2,3,4,5,6,7,8], lipid_list_translated)\n",
    "plt.grid(alpha=0.5)\n",
    "plt.legend(loc='center left', bbox_to_anchor=(1, 0.5), frameon=False)\n",
    "plt.ylabel('DE index')\n",
    "plt.tight_layout()\n",
    "plt.savefig('DE_all_rep.png', dpi=300, bbox_inches='tight')"
   ]
  },
  {
   "cell_type": "code",
   "execution_count": null,
   "metadata": {},
   "outputs": [],
   "source": []
  },
  {
   "cell_type": "code",
   "execution_count": 33,
   "metadata": {},
   "outputs": [],
   "source": [
    "def get_ava_std (DE):\n",
    "    DE_a = np.average(np.array(DE), axis=0)\n",
    "    DE_std = np.std(np.array(DE), axis=0)\n",
    "    return DE_a, DE_std"
   ]
  },
  {
   "cell_type": "code",
   "execution_count": 53,
   "metadata": {},
   "outputs": [
    {
     "data": {
      "image/png": "[encoded data removed]",
      "text/plain": [
       "<Figure size 432x288 with 1 Axes>"
      ]
     },
     "metadata": {
      "needs_background": "light"
     },
     "output_type": "display_data"
    }
   ],
   "source": [
    "lipid_list = ['POPC', 'POPS', 'POPA', 'POPG', 'POPE', 'CHOL', 'DPG3', 'DPSM', 'PAP6']\n",
    "lipid_list_translated = ['POPC', 'POPS', 'POPA', 'POPG', 'POPE', 'CHOL', 'GM3', 'SM', 'PIP2']\n",
    "color_list = ['#e66101','#fdb863','#b2abd2','#5e3c99']\n",
    "\n",
    "for idx, DE in enumerate(DEs):\n",
    "    ava, std = get_ava_std(DE)\n",
    "    plt.errorbar([0,1,2,3,4,5,6,7,8], ava, yerr=std, ecolor='grey', fmt='o', label=systems[idx], color=color_list[idx], alpha=0.8)\n",
    "\n",
    "\n",
    "plt.xticks([0,1,2,3,4,5,6,7,8], lipid_list_translated)\n",
    "plt.grid(alpha=0.6)\n",
    "plt.ylabel('DE index')\n",
    "plt.legend(loc='best')\n",
    "plt.tight_layout()\n",
    "plt.savefig('DE_index_all.png', dpi=300, bbox_inches='tight')"
   ]
  },
  {
   "cell_type": "code",
   "execution_count": 50,
   "metadata": {},
   "outputs": [
    {
     "data": {
      "image/png": "[encoded data removed]",
      "text/plain": [
       "<Figure size 432x288 with 1 Axes>"
      ]
     },
     "metadata": {
      "needs_background": "light"
     },
     "output_type": "display_data"
    }
   ],
   "source": [
    "lipid_list = ['POPC', 'POPS', 'POPA', 'POPG', 'POPE', 'CHOL', 'DPG3', 'DPSM', 'PAP6']\n",
    "lipid_list_translated = ['POPC', 'POPS', 'POPA', 'POPG', 'POPE', 'CHOL', 'GM3', 'SM', 'PIP2']\n",
    "color_list = ['#e66101','#fdb863','#b2abd2','#5e3c99']\n",
    "\n",
    "for idx, DE in enumerate(DEs):\n",
    "    ava, std = get_ava_std(DE)\n",
    "    plt.errorbar([0,1,2,3,4,5,6,7,8], -1*np.log(ava), yerr=np.log(std), ecolor=color_list[idx], fmt='o', label=systems[idx], color=color_list[idx], alpha=0.7)\n",
    "\n",
    "\n",
    "plt.xticks([0,1,2,3,4,5,6,7,8], lipid_list_translated)\n",
    "plt.grid(alpha=0.6)\n",
    "plt.ylabel('-log(DE) index')\n",
    "plt.legend(loc='best')\n",
    "plt.tight_layout()\n",
    "plt.savefig('log_DE_index_all.png', dpi=300, bbox_inches='tight')"
   ]
  },
  {
   "cell_type": "code",
   "execution_count": 45,
   "metadata": {},
   "outputs": [
    {
     "data": {
      "image/png": "[encoded data removed]",
      "text/plain": [
       "<Figure size 432x288 with 1 Axes>"
      ]
     },
     "metadata": {
      "needs_background": "light"
     },
     "output_type": "display_data"
    }
   ],
   "source": [
    "lipid_list = ['POPC', 'POPS', 'POPA', 'POPG', 'POPE', 'CHOL', 'DPG3', 'DPSM', 'PAP6']\n",
    "lipid_list_translated = ['POPC', 'POPS', 'POPA', 'POPG', 'POPE', 'CHOL', 'GM3', 'SM', 'PIP2']\n",
    "color_list = ['#e66101','#fdb863','#b2abd2','#5e3c99']\n",
    "\n",
    "for idx, DE in enumerate(DEs):\n",
    "    ava, std = get_ava_std(DE)\n",
    "    plt.scatter([0,1,2,3,4,5,6,7,8], -1*np.log(ava), marker='o', label=systems[idx], color=color_list[idx])\n",
    "\n",
    "\n",
    "plt.xticks([0,1,2,3,4,5,6,7,8], lipid_list_translated)\n",
    "plt.grid(alpha=0.6)\n",
    "plt.ylabel('-log(DE) index')\n",
    "plt.legend(loc='best')\n",
    "plt.tight_layout()\n",
    "plt.savefig('log_DE_index_all_no_std.png', dpi=300, bbox_inches='tight')"
   ]
  },
  {
   "cell_type": "code",
   "execution_count": null,
   "metadata": {},
   "outputs": [],
   "source": []
  },
  {
   "cell_type": "code",
   "execution_count": null,
   "metadata": {},
   "outputs": [],
   "source": []
  },
  {
   "cell_type": "code",
   "execution_count": null,
   "metadata": {},
   "outputs": [],
   "source": []
  },
  {
   "cell_type": "code",
   "execution_count": null,
   "metadata": {},
   "outputs": [],
   "source": []
  },
  {
   "cell_type": "code",
   "execution_count": null,
   "metadata": {},
   "outputs": [],
   "source": []
  },
  {
   "cell_type": "code",
   "execution_count": null,
   "metadata": {},
   "outputs": [],
   "source": []
  },
  {
   "cell_type": "code",
   "execution_count": null,
   "metadata": {},
   "outputs": [],
   "source": []
  },
  {
   "cell_type": "code",
   "execution_count": null,
   "metadata": {},
   "outputs": [],
   "source": []
  },
  {
   "cell_type": "code",
   "execution_count": null,
   "metadata": {},
   "outputs": [],
   "source": []
  },
  {
   "cell_type": "code",
   "execution_count": 9,
   "metadata": {},
   "outputs": [
    {
     "ename": "FileNotFoundError",
     "evalue": "[Errno 2] No such file or directory: '/home/au447022/Documents/GCGR_Complex_LB/LIVER/FA/GCGR_GCG/DE_index_all_new_only_GCGR_whole_sim.npy'",
     "output_type": "error",
     "traceback": [
      "\u001b[0;31m---------------------------------------------------------------------------\u001b[0m",
      "\u001b[0;31mFileNotFoundError\u001b[0m                         Traceback (most recent call last)",
      "\u001b[0;32m<ipython-input-9-02d3819da815>\u001b[0m in \u001b[0;36m<module>\u001b[0;34m\u001b[0m\n\u001b[1;32m      1\u001b[0m \u001b[0mDE\u001b[0m \u001b[0;34m=\u001b[0m \u001b[0mnp\u001b[0m\u001b[0;34m.\u001b[0m\u001b[0mload\u001b[0m\u001b[0;34m(\u001b[0m\u001b[0;34m'DE_index_all_new_only_GCGR_whole_sim.npy'\u001b[0m\u001b[0;34m)\u001b[0m\u001b[0;34m\u001b[0m\u001b[0;34m\u001b[0m\u001b[0m\n\u001b[1;32m      2\u001b[0m \u001b[0mdirr\u001b[0m \u001b[0;34m=\u001b[0m \u001b[0;34m\"/home/au447022/Documents/GCGR_Complex_LB/LIVER/FA/GCGR_GCG/\"\u001b[0m\u001b[0;34m\u001b[0m\u001b[0;34m\u001b[0m\u001b[0m\n\u001b[0;32m----> 3\u001b[0;31m \u001b[0mDE_no_G\u001b[0m \u001b[0;34m=\u001b[0m \u001b[0mnp\u001b[0m\u001b[0;34m.\u001b[0m\u001b[0mload\u001b[0m\u001b[0;34m(\u001b[0m\u001b[0mdirr\u001b[0m\u001b[0;34m+\u001b[0m\u001b[0;34m'DE_index_all_new_only_GCGR_whole_sim.npy'\u001b[0m\u001b[0;34m)\u001b[0m\u001b[0;34m\u001b[0m\u001b[0;34m\u001b[0m\u001b[0m\n\u001b[0m",
      "\u001b[0;32m~/anaconda3/lib/python3.7/site-packages/numpy/lib/npyio.py\u001b[0m in \u001b[0;36mload\u001b[0;34m(file, mmap_mode, allow_pickle, fix_imports, encoding)\u001b[0m\n\u001b[1;32m    413\u001b[0m         \u001b[0mown_fid\u001b[0m \u001b[0;34m=\u001b[0m \u001b[0;32mFalse\u001b[0m\u001b[0;34m\u001b[0m\u001b[0;34m\u001b[0m\u001b[0m\n\u001b[1;32m    414\u001b[0m     \u001b[0;32melse\u001b[0m\u001b[0;34m:\u001b[0m\u001b[0;34m\u001b[0m\u001b[0;34m\u001b[0m\u001b[0m\n\u001b[0;32m--> 415\u001b[0;31m         \u001b[0mfid\u001b[0m \u001b[0;34m=\u001b[0m \u001b[0mopen\u001b[0m\u001b[0;34m(\u001b[0m\u001b[0mos_fspath\u001b[0m\u001b[0;34m(\u001b[0m\u001b[0mfile\u001b[0m\u001b[0;34m)\u001b[0m\u001b[0;34m,\u001b[0m \u001b[0;34m\"rb\"\u001b[0m\u001b[0;34m)\u001b[0m\u001b[0;34m\u001b[0m\u001b[0;34m\u001b[0m\u001b[0m\n\u001b[0m\u001b[1;32m    416\u001b[0m         \u001b[0mown_fid\u001b[0m \u001b[0;34m=\u001b[0m \u001b[0;32mTrue\u001b[0m\u001b[0;34m\u001b[0m\u001b[0;34m\u001b[0m\u001b[0m\n\u001b[1;32m    417\u001b[0m \u001b[0;34m\u001b[0m\u001b[0m\n",
      "\u001b[0;31mFileNotFoundError\u001b[0m: [Errno 2] No such file or directory: '/home/au447022/Documents/GCGR_Complex_LB/LIVER/FA/GCGR_GCG/DE_index_all_new_only_GCGR_whole_sim.npy'"
     ]
    }
   ],
   "source": [
    "DE = np.load('DE_index_all_new_only_GCGR_whole_sim.npy')\n",
    "dirr = \"/home/au447022/Documents/GCGR_Complex_LB/LIVER/FA/GCGR_GCG/\"\n",
    "DE_no_G = np.load(dirr+'DE_index_all_new_only_GCGR_whole_sim.npy')"
   ]
  },
  {
   "cell_type": "code",
   "execution_count": 58,
   "metadata": {},
   "outputs": [],
   "source": [
    "DE_a = np.average(np.array(DE), axis=0)\n",
    "DE_std = np.std(np.array(DE), axis=0)\n",
    "\n",
    "DE_no_G_a = np.average(np.array(DE_no_G), axis=0)\n",
    "DE_no_G_std = np.std(np.array(DE_no_G), axis=0)"
   ]
  },
  {
   "cell_type": "code",
   "execution_count": 60,
   "metadata": {},
   "outputs": [
    {
     "data": {
      "image/png": "[encoded data removed]",
      "text/plain": [
       "<Figure size 432x288 with 1 Axes>"
      ]
     },
     "metadata": {
      "needs_background": "light"
     },
     "output_type": "display_data"
    }
   ],
   "source": [
    "lipid_list = ['POPC', 'POPS', 'POPA', 'POPG', 'POPE', 'CHOL', 'DPG3', 'DPSM', 'PAP6']\n",
    "lipid_list_translated = ['POPC', 'POPS', 'POPA', 'POPG', 'POPE', 'CHOL', 'GM3', 'SM', 'PIP2']\n",
    "plt.errorbar([0,1,2,3,4,5,6,7,8], DE_a, yerr=DE_std, ecolor='grey', fmt='.', label='With G-protein')\n",
    "plt.errorbar([0,1,2,3,4,5,6,7,8], DE_no_G_a, yerr=DE_no_G_std, ecolor='grey', fmt='.', color='red', label='No G-protein')\n",
    "plt.xticks([0,1,2,3,4,5,6,7,8], lipid_list_translated)\n",
    "plt.grid(alpha=0.6)\n",
    "plt.ylabel('DE index')\n",
    "plt.legend(loc='best')\n",
    "plt.tight_layout()\n",
    "plt.savefig('DE_index_W_Wo_G-prot.png', dpi=300)"
   ]
  },
  {
   "cell_type": "code",
   "execution_count": 50,
   "metadata": {},
   "outputs": [],
   "source": [
    "DE_a[np.where(DE_a < 1 )]  = 1 / DE_a[np.where(DE_a < 1 )] "
   ]
  },
  {
   "cell_type": "code",
   "execution_count": 51,
   "metadata": {},
   "outputs": [],
   "source": [
    "DE_no_G_a[np.where(DE_no_G_a < 1 )]  = 1 / DE_no_G_a[np.where(DE_no_G_a < 1 )] "
   ]
  },
  {
   "cell_type": "code",
   "execution_count": 56,
   "metadata": {},
   "outputs": [
    {
     "data": {
      "text/plain": [
       "<matplotlib.legend.Legend at 0x7f47bdad9358>"
      ]
     },
     "execution_count": 56,
     "metadata": {},
     "output_type": "execute_result"
    },
    {
     "data": {
      "image/png": "[encoded data removed]",
      "text/plain": [
       "<Figure size 432x288 with 1 Axes>"
      ]
     },
     "metadata": {
      "needs_background": "light"
     },
     "output_type": "display_data"
    }
   ],
   "source": [
    "plt.scatter([0,1,2,3,4,5,6,7,8], DE_a, label='With G-protein')\n",
    "plt.scatter([0,1,2,3,4,5,6,7,8], DE_no_G_a,  label='no G-protein')\n",
    "plt.xticks([0,1,2,3,4,5,6,7,8], lipid_list_translated)\n",
    "plt.grid(alpha=0.6)\n",
    "plt.ylabel('DE index')\n",
    "plt.legend(loc='best')"
   ]
  },
  {
   "cell_type": "code",
   "execution_count": null,
   "metadata": {},
   "outputs": [],
   "source": []
  },
  {
   "cell_type": "code",
   "execution_count": null,
   "metadata": {},
   "outputs": [],
   "source": []
  },
  {
   "cell_type": "code",
   "execution_count": 37,
   "metadata": {},
   "outputs": [],
   "source": [
    "d = [0.009  , 0.613 , -0.233 ,  0.551   ,0.487  , 0.318 ,  0.265  , 0.545   ,0.565,   0.465,0.281]"
   ]
  },
  {
   "cell_type": "code",
   "execution_count": 38,
   "metadata": {},
   "outputs": [
    {
     "data": {
      "text/plain": [
       "0.35145454545454546"
      ]
     },
     "execution_count": 38,
     "metadata": {},
     "output_type": "execute_result"
    }
   ],
   "source": [
    "np.average(d)"
   ]
  },
  {
   "cell_type": "code",
   "execution_count": null,
   "metadata": {},
   "outputs": [],
   "source": []
  }
 ],
 "metadata": {
  "kernelspec": {
   "display_name": "Python 3 (ipykernel)",
   "language": "python",
   "name": "python3"
  },
  "language_info": {
   "codemirror_mode": {
    "name": "ipython",
    "version": 3
   },
   "file_extension": ".py",
   "mimetype": "text/x-python",
   "name": "python",
   "nbconvert_exporter": "python",
   "pygments_lexer": "ipython3",
   "version": "3.7.12"
  }
 },
 "nbformat": 4,
 "nbformat_minor": 4
}
