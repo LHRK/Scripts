{
 "cells": [
  {
   "cell_type": "code",
   "execution_count": 1,
   "metadata": {},
   "outputs": [],
   "source": [
    "import numpy as np\n",
    "import MDAnalysis as md\n",
    "from tqdm import tqdm_notebook as tqdm"
   ]
  },
  {
   "cell_type": "markdown",
   "metadata": {},
   "source": [
    "Compute (second rank) order parameter, defined as:\n",
    "\n",
    "\\begin{equation*}\n",
    "P2 = 0.5*(3*<cos²(\\theta)> - 1)\n",
    "\\end{equation*}\n",
    "\n",
    "where \"theta\" is the angle between the bond and the bilayer normal.\n",
    "P2 = 1      perfect alignement with the bilayer normal\n",
    "P2 = -0.5   anti-alignement\n",
    "P2 = 0      random orientation\n",
    "By default P2 will be calculated relative to the z-axis (the vector 0 0 1)\n",
    "This can be changed, by simply changing the vector reffered to as normal\n",
    "\n",
    "There are two functions to calculate the ordere parameter.\n",
    "One for calcualting it for all the lipids in the universe, and another for calculating it for a selection of lipids.\n",
    "For the selection of lipids; They are split up in two group based on a cutoff value in angstrom from the scaffold proteins. This is for the Nanodiscs. "
   ]
  },
  {
   "cell_type": "code",
   "execution_count": 2,
   "metadata": {},
   "outputs": [],
   "source": [
    "name = '1D1_60_v1_nowat'\n",
    "\n",
    "\n",
    "u = md.Universe('TPR/{0:s}.tpr'.format(name), 'XTC/{0:s}_fit.xtc'.format(name))\n",
    "lipid_type =  'POPC' # the lipid type\n",
    "cutoff = 15 # cutoff for selection of lipids - center vs edge\n",
    "normal = np.array([0, 0, 1]) #normal vector\n",
    "dt = 1 #stride\n"
   ]
  },
  {
   "cell_type": "code",
   "execution_count": 3,
   "metadata": {},
   "outputs": [
    {
     "data": {
      "text/plain": [
       "array([0., 0., 1.])"
      ]
     },
     "execution_count": 3,
     "metadata": {},
     "output_type": "execute_result"
    }
   ],
   "source": [
    "number_of_lipids =  np.unique(u.select_atoms('resname {0:s}'.format(lipid_type)).resids).shape[0]\n",
    "orientation_of_bilayer_normal = normal\n",
    "norm = np.linalg.norm(orientation_of_bilayer_normal)\n",
    "orientation_of_bilayer_normal / norm"
   ]
  },
  {
   "cell_type": "code",
   "execution_count": 4,
   "metadata": {},
   "outputs": [],
   "source": [
    "phosphatidylcholine_bond_names = \" NC3-PO4 PO4-GL1 GL1-GL2 \"\n",
    "phosphatidylethanolamine_bond_names = \" NH3-PO4 PO4-GL1 GL1-GL2 \"\n",
    "# PCs\n",
    "if   lipid_type == \"DAPC\": bond_names = phosphatidylcholine_bond_names + \"GL1-D1A GL2-D1B D1A-D2A D2A-D3A D3A-D4A D4A-C5A D1B-D2B D2B-D3B D3B-D4B D4B-C5B\\n\"\n",
    "elif lipid_type == \"DLPC\": bond_names = phosphatidylcholine_bond_names + \"GL1-C1A GL2-C1B C1A-C2A C2A-C3A C1B-C2B C2B-C3B\\n\"\n",
    "elif lipid_type == \"DOPC\": bond_names = phosphatidylcholine_bond_names + \"GL1-C1A GL2-C1B C1A-D2A D2A-C3A C3A-C4A C1B-D2B D2B-C3B C3B-C4B\\n\"\n",
    "elif lipid_type == \"DPPC\": bond_names = phosphatidylcholine_bond_names + \"GL1-C1A GL2-C1B C1A-C2A C2A-C3A C3A-C4A C1B-C2B C2B-C3B C3B-C4B\\n\"\n",
    "elif lipid_type == \"POPC\": bond_names = phosphatidylcholine_bond_names + \"GL1-C1A GL2-C1B C1A-D2A D2A-C3A C3A-C4A C1B-C2B C2B-C3B C3B-C4B\\n\"\n",
    "elif lipid_type == \"POPC_Martini3\" : bond_names = phosphatidylcholine_bond_names + \"GL2-C1B C1B-C2B C2B-C3B C3B-C4B GL1-C1A C1A-D2A D2A-C3A C3A-C4A\\n\"\n",
    "# PEs\n",
    "elif lipid_type == \"DLPE\": bond_names = phosphatidylethanolamine_bond_names + \"GL1-C1A GL2-C1B C1A-C2A C2A-C3A C1B-C2B C2B-C3B\\n\"\n",
    "elif lipid_type == \"DOPE\": bond_names = phosphatidylethanolamine_bond_names + \"GL1-C1A GL2-C1B C1A-D2A D2A-C3A C3A-C4A C1B-D2B D2B-C3B C3B-C4B\\n\"\n",
    "elif lipid_type == \"DPPE\": bond_names = phosphatidylethanolamine_bond_names + \"GL1-C1A GL2-C1B C1A-C2A C2A-C3A C3A-C4A C1B-C2B C2B-C3B C3B-C4B\\n\"\n",
    "elif lipid_type == \"POPE\": bond_names = phosphatidylethanolamine_bond_names + \"GL1-C1B GL2-C1A C1A-C2A C2A-C3A C3A-C4A C1B-D2B D2B-C3B C3B-C4B\\n\"\n"
   ]
  },
  {
   "cell_type": "code",
   "execution_count": 5,
   "metadata": {},
   "outputs": [],
   "source": [
    "def calc_order_ver1 (u, lipid_type, bond_names, orientation_of_bilayer_normal):\n",
    "    \"\"\"Outputs an array with an order parameter for each bond in the lipid averaged\n",
    "    over the number of lipids - does it for all the lipids in the universe\"\"\"\n",
    "    \n",
    "    order_parameters = []\n",
    "    bonds = []\n",
    "    current_order_parameters = []\n",
    "    \n",
    "    number_of_lipids =  np.unique(u.select_atoms('resname {0:s}'.format(lipid_type)).resids).shape[0]\n",
    "    \n",
    "    for bond_name in bond_names.split():\n",
    "        bonds.append(bond_name.split(\"-\"))\n",
    "    \n",
    "    for bond in bonds:\n",
    "        print bond\n",
    "        first = u.select_atoms('resname {0:s} and name {1:s}'.format(lipid_type, bond[0])).positions\n",
    "        second = u.select_atoms('resname {0:s} and name {1:s}'.format(lipid_type, bond[1])).positions\n",
    "        order_parameter = 0.0\n",
    "        for i in range(number_of_lipids):\n",
    "            vector = first[i] - second[i]\n",
    "            norm2 = vector[0]**2 + vector[1]**2 + vector[2]**2\n",
    "            projection = vector[0]*orientation_of_bilayer_normal[0] + vector[1]*orientation_of_bilayer_normal[1] + vector[2]*orientation_of_bilayer_normal[2]\n",
    "            order_parameter += projection**2/norm2\n",
    "        current_order_parameters.append(0.5*(3.0*(order_parameter/number_of_lipids) - 1.0))\n",
    "    order_parameters.append(current_order_parameters)\n",
    "\n",
    "    return np.array(order_parameters)"
   ]
  },
  {
   "cell_type": "code",
   "execution_count": 6,
   "metadata": {},
   "outputs": [],
   "source": [
    "def calc_order_ver2 (sel, bond_names, orientation_of_bilayer_normal):\n",
    "    \"\"\"Outputs an array with an order parameter for each bond in the lipid averaged\n",
    "    over the number of lipids - does it for a selection of lipids in the universe\"\"\"\n",
    "    \n",
    "    order_parameters = []\n",
    "    bonds = []\n",
    "    current_order_parameters = []\n",
    "    \n",
    "    number_of_lipids =  np.unique(sel.resids).shape[0]\n",
    "    \n",
    "    for bond_name in bond_names.split():\n",
    "        bonds.append(bond_name.split(\"-\"))\n",
    "    \n",
    "    for bond in bonds:\n",
    "        first = sel.select_atoms('name {0:s}'.format(bond[0])).positions\n",
    "        second = sel.select_atoms('name {0:s}'.format(bond[1])).positions\n",
    "        order_parameter = 0.0\n",
    "        for i in range(number_of_lipids):\n",
    "            vector = first[i] - second[i]\n",
    "            norm = vector[0]**2 + vector[1]**2 + vector[2]**2\n",
    "            projection = vector[0]*orientation_of_bilayer_normal[0] + vector[1]*orientation_of_bilayer_normal[1] + vector[2]*orientation_of_bilayer_normal[2]\n",
    "            order_parameter += projection**2/norm\n",
    "        current_order_parameters.append(0.5*(3.0*(order_parameter/number_of_lipids) - 1.0))\n",
    "    order_parameters.append(current_order_parameters)\n",
    "\n",
    "    return np.array(order_parameters)"
   ]
  },
  {
   "cell_type": "code",
   "execution_count": 7,
   "metadata": {},
   "outputs": [],
   "source": [
    "def get_whole_lipids_sel (sel, u, cutoff):\n",
    "    \"\"\"A function to get an atomselect, such that the lipids are whole\"\"\"\n",
    "    #print sel\n",
    "    sele = u.select_atoms(sel)\n",
    "    r1 = np.unique(sele.resids)\n",
    "    if r1.shape[0] == 0:\n",
    "        print 'Cutoff value to big, all lipids are within {0:d} of protein'.format(cutoff)\n",
    "    r2 = [ \"{0:d}\".format(i) for i in r1 ]\n",
    "    resids = \" \".join(r2)\n",
    "    whole_sel = u.select_atoms('resid {0:s}'.format(resids))\n",
    "    return whole_sel"
   ]
  },
  {
   "cell_type": "code",
   "execution_count": 8,
   "metadata": {},
   "outputs": [],
   "source": [
    "bonds = []\n",
    "\n",
    "for bond_name in bond_names.split():\n",
    "    bonds.append(bond_name.split(\"-\"))\n"
   ]
  },
  {
   "cell_type": "code",
   "execution_count": 9,
   "metadata": {},
   "outputs": [],
   "source": [
    "nframes = u.trajectory.n_frames\n",
    "nframes = nframes / dt "
   ]
  },
  {
   "cell_type": "code",
   "execution_count": 10,
   "metadata": {},
   "outputs": [],
   "source": [
    "n_order = len(bonds)"
   ]
  },
  {
   "cell_type": "code",
   "execution_count": 11,
   "metadata": {},
   "outputs": [],
   "source": [
    "order_traj_edge = np.zeros([nframes, n_order])\n",
    "order_traj_cent = np.zeros([nframes, n_order])"
   ]
  },
  {
   "cell_type": "code",
   "execution_count": 12,
   "metadata": {},
   "outputs": [
    {
     "data": {
      "text/plain": [
       "23"
      ]
     },
     "execution_count": 12,
     "metadata": {},
     "output_type": "execute_result"
    }
   ],
   "source": [
    "s = u.select_atoms('resname POPC and not (resname POPC and around 30 protein)')\n",
    "np.unique(s.resids).shape[0]"
   ]
  },
  {
   "cell_type": "code",
   "execution_count": 13,
   "metadata": {},
   "outputs": [
    {
     "data": {
      "text/plain": [
       "<AtomGroup with 107 atoms>"
      ]
     },
     "execution_count": 13,
     "metadata": {},
     "output_type": "execute_result"
    }
   ],
   "source": [
    "u.select_atoms('resname POPC and name PO4 and around 30 protein')"
   ]
  },
  {
   "cell_type": "code",
   "execution_count": 14,
   "metadata": {},
   "outputs": [],
   "source": [
    "    for ts in u.trajectory[1::dt]:\n",
    "        number_of_lipids_edge = np.unique(u.select_atoms('resname {0:s} and around {1:d} protein'.format(lipid_type, cutoff)).resids).shape[0]\n",
    "        number_of_lipids_cent = np.unique(u.select_atoms('resname {0:s} and not (resname {0:s} and around {1:d} protein)'.format(lipid_type, cutoff)).resids).shape[0]\n",
    "\n",
    "        frame = u.trajectory.frame/ dt\n",
    "        #print frame\n",
    "\n",
    "        edge = 'resname {0:s} and global around {1:d} protein'.format(lipid_type, cutoff)\n",
    "        #print edge\n",
    "        cent = 'resname {0:s} and not (resname {0:s} and around {1:d} protein)'.format(lipid_type, cutoff)\n",
    "        #print cent\n",
    "\n",
    "        edge_sel = get_whole_lipids_sel(edge, u, cutoff)\n",
    "        cent_sel = get_whole_lipids_sel(cent, u, cutoff)\n",
    "\n",
    "        order_traj_edge[frame] = calc_order_ver2(edge_sel, bond_names, orientation_of_bilayer_normal)\n",
    "        order_traj_cent[frame] = calc_order_ver2(cent_sel, bond_names, orientation_of_bilayer_normal)"
   ]
  },
  {
   "cell_type": "code",
   "execution_count": 15,
   "metadata": {},
   "outputs": [
    {
     "data": {
      "text/plain": [
       "0.18648776194458105"
      ]
     },
     "execution_count": 15,
     "metadata": {},
     "output_type": "execute_result"
    }
   ],
   "source": [
    "np.mean(order_traj_cent)"
   ]
  },
  {
   "cell_type": "code",
   "execution_count": 16,
   "metadata": {},
   "outputs": [
    {
     "data": {
      "text/plain": [
       "0.11785539555736892"
      ]
     },
     "execution_count": 16,
     "metadata": {},
     "output_type": "execute_result"
    }
   ],
   "source": [
    "np.mean(order_traj_edge)"
   ]
  },
  {
   "cell_type": "code",
   "execution_count": 17,
   "metadata": {},
   "outputs": [],
   "source": [
    "file_out  = open('ORDER/{0:s}_Average_OrderP2_edge_cent.dat'.format(name), 'w')\n",
    "file_out.write('{0:s}, used cutoff of {1:d} Angstrom\\n'.format(name, cutoff))\n",
    "file_out.write('{0:s}\\n'.format(bond_names))\n",
    "file_out.write('Average order parameter for Edge\\n')\n",
    "file_out.write('{0:s}\\n'.format(\" \".join([\"{0:3.2f}\".format(i) for i in np.mean(order_traj_edge, axis=0)])))\n",
    "file_out.write('Average order parameter for Cent\\n')\n",
    "file_out.write('{0:s}\\n'.format(\" \".join([\"{0:3.2f}\".format(i) for i in np.mean(order_traj_cent, axis=0)])))\n"
   ]
  },
  {
   "cell_type": "code",
   "execution_count": 18,
   "metadata": {},
   "outputs": [],
   "source": [
    "file_out.close()"
   ]
  },
  {
   "cell_type": "code",
   "execution_count": null,
   "metadata": {},
   "outputs": [],
   "source": []
  }
 ],
 "metadata": {
  "kernelspec": {
   "display_name": "py2.7",
   "language": "python",
   "name": "py2.7"
  },
  "language_info": {
   "codemirror_mode": {
    "name": "ipython",
    "version": 2
   },
   "file_extension": ".py",
   "mimetype": "text/x-python",
   "name": "python",
   "nbconvert_exporter": "python",
   "pygments_lexer": "ipython2",
   "version": "2.7.15"
  }
 },
 "nbformat": 4,
 "nbformat_minor": 2
}
