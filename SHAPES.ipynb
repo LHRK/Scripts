{
 "cells": [
  {
   "cell_type": "code",
   "execution_count": 1,
   "metadata": {},
   "outputs": [],
   "source": [
    "import numpy as np\n",
    "import matplotlib.pyplot as plt\n",
    "import MDAnalysis as md\n",
    "from scipy.spatial import ConvexHull, convex_hull_plot_2d\n",
    "from matplotlib.ticker import FormatStrFormatter\n",
    "from numpy.linalg import eig"
   ]
  },
  {
   "cell_type": "code",
   "execution_count": null,
   "metadata": {
    "jupyter": {
     "source_hidden": true
    }
   },
   "outputs": [],
   "source": [
    "def get_ratio (VAL):\n",
    "    idx = np.where(VAL!= np.min(VAL))\n",
    "    vala = VAL[idx]\n",
    "    return np.max(vala) / np.min(vala)\n",
    "\n",
    "def cm2inch(*tupl):\n",
    "    inch = 2.54\n",
    "    if isinstance(tupl[0], tuple):\n",
    "        return tuple(i/inch for i in tupl[0])\n",
    "    else:\n",
    "        return tuple(i/inch for i in tupl)\n",
    "plt.rcParams[\"figure.figsize\"] = cm2inch(16,8)\n",
    "plt.rcParams.update({'font.size':13})\n",
    "def running_mean(x, N):\n",
    "    cumsum = np.cumsum(np.insert(x, 0, 0)) \n",
    "    return (cumsum[N:] - cumsum[:-N]) / float(N)\n",
    "\n",
    "def inertia (u, stride=100):\n",
    "    D = []\n",
    "    for ts in u.trajectory[::stride]:\n",
    "        sel = u.select_atoms('name BB')\n",
    "        pos = sel.positions\n",
    "        COM = sel.center_of_mass()\n",
    "        sel.positions = pos-COM \n",
    "        n_beads = sel.n_atoms\n",
    "        I = sel.positions.T @ sel.positions.T.T\n",
    "        val, vec = eig(I/n_beads)\n",
    "        diff = get_ratio (val)\n",
    "        D.append(diff)\n",
    "    return D"
   ]
  },
  {
   "cell_type": "code",
   "execution_count": 4,
   "metadata": {},
   "outputs": [],
   "source": [
    "M2_dir = '/home/au447022/Documents/GU/ND/ANALYSIS_Build_Martini2/'\n",
    "M3_dir = '/home/au447022/Documents/GU/ND/ANALYSIS_Build_Martini3/'"
   ]
  },
  {
   "cell_type": "code",
   "execution_count": 5,
   "metadata": {},
   "outputs": [],
   "source": [
    "def load_uni (sys, dirr):\n",
    "    u = md.Universe(dirr+'GRO/{0:s}_v1_nowat.gro'.format(sys),\n",
    "                    (dirr+'XTC/{0:s}_v1_nowat_fit.xtc'.format(sys),dirr+'XTC/{0:s}_v2_nowat_fit.xtc'.format(sys),\n",
    "                     dirr+'XTC/{0:s}_v3_nowat_fit.xtc'.format(sys)))\n",
    "    return u"
   ]
  },
  {
   "cell_type": "code",
   "execution_count": 6,
   "metadata": {},
   "outputs": [],
   "source": [
    "systems_dir2 = {'1D1':'1D1_69', '1E3D1':'1E3D1_134', '2N2':'2N2_302',\n",
    "               'NW9':'NW9_58', 'NW11':'NW11_73', 'NW13':'NW13_151'}\n",
    "systems_dir3 = {'1D1':'1D1_69', '1E3D1':'1E3D1_134', '2N2':'2N2_302',\n",
    "               'NW9':'NW9_57', 'NW11':'NW11_72', 'NW13':'NW13_150'}"
   ]
  },
  {
   "cell_type": "code",
   "execution_count": 7,
   "metadata": {},
   "outputs": [],
   "source": [
    "system_labels = ['1D1', '1E3D1', '2N2', 'NW9', 'NW11', 'NW13']"
   ]
  },
  {
   "cell_type": "code",
   "execution_count": 10,
   "metadata": {},
   "outputs": [
    {
     "name": "stderr",
     "output_type": "stream",
     "text": [
      "/home/au447022/anaconda3/envs/lipyphilic/lib/python3.8/site-packages/MDAnalysis/topology/guessers.py:80: UserWarning: Failed to guess the mass for the following atom types: D\n",
      "  warnings.warn(\"Failed to guess the mass for the following atom types: {}\".format(atom_type))\n",
      "/home/au447022/anaconda3/envs/lipyphilic/lib/python3.8/site-packages/MDAnalysis/topology/guessers.py:80: UserWarning: Failed to guess the mass for the following atom types: G\n",
      "  warnings.warn(\"Failed to guess the mass for the following atom types: {}\".format(atom_type))\n"
     ]
    }
   ],
   "source": [
    "U2 = []\n",
    "for sys in system_labels:\n",
    "    s = systems_dir2[sys]\n",
    "    U2.append(load_uni(s, M2_dir))"
   ]
  },
  {
   "cell_type": "code",
   "execution_count": 11,
   "metadata": {},
   "outputs": [],
   "source": [
    "U3 = []\n",
    "for sys in system_labels:\n",
    "    s = systems_dir3[sys]\n",
    "    U3.append(load_uni(s, M3_dir))"
   ]
  },
  {
   "cell_type": "code",
   "execution_count": 12,
   "metadata": {},
   "outputs": [
    {
     "name": "stdout",
     "output_type": "stream",
     "text": [
      "1.271541\n",
      "2.0907454\n",
      "1.8959831\n",
      "1.2477702\n",
      "2.005546\n",
      "1.9093176\n"
     ]
    }
   ],
   "source": [
    "A2 = []\n",
    "for u in U2:\n",
    "    A2.append(inertia(u))\n",
    "    print (np.average(inertia(u)))"
   ]
  },
  {
   "cell_type": "code",
   "execution_count": 13,
   "metadata": {},
   "outputs": [
    {
     "name": "stdout",
     "output_type": "stream",
     "text": [
      "1.2145382\n",
      "2.4951725\n",
      "1.6856077\n",
      "1.1834345\n",
      "1.4357874\n",
      "1.4098079\n"
     ]
    }
   ],
   "source": [
    "A3 = []\n",
    "for u in U3:\n",
    "    A3.append(inertia(u))\n",
    "    print (np.average(inertia(u)))"
   ]
  },
  {
   "cell_type": "code",
   "execution_count": 19,
   "metadata": {},
   "outputs": [
    {
     "data": {
      "image/png": "[encoded data removed]",
      "text/plain": [
       "<Figure size 453.543x226.772 with 1 Axes>"
      ]
     },
     "metadata": {
      "needs_background": "light"
     },
     "output_type": "display_data"
    }
   ],
   "source": [
    "fig, ax = plt.subplots()\n",
    "\n",
    "ava2 = [np.average(i) for i in A2]\n",
    "std2 = [np.std(i) for i in A2]\n",
    "ava3 = [np.average(i) for i in A3]\n",
    "std3 = [np.std(i) for i in A3]\n",
    "\n",
    "\n",
    "ax.errorbar([0,1,2,3,4,5], ava2, yerr=std2, fmt='o', ecolor='red', label='M2')\n",
    "ax.errorbar([0,1,2,3,4,5], ava3, yerr=std3, fmt='^', ecolor='orange', color='black', label='M3')\n",
    "\n",
    "ax.grid(alpha=0.5)\n",
    "ax.set_ylabel('Shape factor')\n",
    "ax.set_xticks([0,1,2,3,4,5])\n",
    "ax.set_xticklabels(system_labels)\n",
    "\n",
    "\n",
    "ax.axvline(2.5, color='black', alpha=0.7)\n",
    "\n",
    "ax.legend(loc='best', frameon=False)\n",
    "\n",
    "plt.savefig('Shapes_M2_M3.png', dpi=300, bbox_inches='tight')"
   ]
  },
  {
   "cell_type": "code",
   "execution_count": null,
   "metadata": {},
   "outputs": [],
   "source": []
  }
 ],
 "metadata": {
  "kernelspec": {
   "display_name": "Python 3",
   "language": "python",
   "name": "python3"
  },
  "language_info": {
   "codemirror_mode": {
    "name": "ipython",
    "version": 3
   },
   "file_extension": ".py",
   "mimetype": "text/x-python",
   "name": "python",
   "nbconvert_exporter": "python",
   "pygments_lexer": "ipython3",
   "version": "3.8.8"
  }
 },
 "nbformat": 4,
 "nbformat_minor": 4
}
