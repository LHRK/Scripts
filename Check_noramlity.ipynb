{
 "cells": [
  {
   "cell_type": "code",
   "execution_count": 1,
   "metadata": {},
   "outputs": [],
   "source": [
    "import numpy as np\n",
    "import MDAnalysis as md \n",
    "import matplotlib.pyplot as plt\n",
    "import os\n",
    "from scipy.stats import ttest_1samp, ttest_ind\n",
    "import matplotlib.ticker as ticker\n",
    "import statsmodels.api as sm \n",
    "import pylab as py\n",
    "from scipy.stats import shapiro"
   ]
  },
  {
   "cell_type": "code",
   "execution_count": 2,
   "metadata": {},
   "outputs": [],
   "source": [
    "def cm2inch(*tupl):\n",
    "    inch = 2.54\n",
    "    if isinstance(tupl[0], tuple):\n",
    "        return tuple(i/inch for i in tupl[0])\n",
    "    else:\n",
    "        return tuple(i/inch for i in tupl)\n",
    "plt.rcParams[\"figure.figsize\"] = cm2inch(15,10)\n",
    "plt.rcParams.update({'font.size':10})\n",
    "def running_mean(x, N):\n",
    "    cumsum = np.cumsum(np.insert(x, 0, 0)) \n",
    "    return (cumsum[N:] - cumsum[:-N]) / float(N)"
   ]
  },
  {
   "cell_type": "code",
   "execution_count": 3,
   "metadata": {},
   "outputs": [],
   "source": [
    "#systems=[\"IA\",\"PA\",\"FA_G-prot\",\"FA_no_G-prot\"]\n",
    "systems=[\"IA\",\"PA\"]\n",
    "lipid_dir = {\"FA_G-prot\":\"POPC, POPS, POPA, POPG, POPE, CHOL, DPG3, DPSM, PAP6\",\n",
    "            \"FA_no_G-prot\":\"POPC, POPS, POPA, POPG, POPE, CHOL, DPG3, DPSM, PAP6\",\n",
    "            \"IA\":\"POPC, POPS, POPA, POPG, POPE, CHOL, DPG3, DPSM, PAP6\",\n",
    "            \"PA\":\"POPC, POPS, POPA, POPG, POPE, CHOL, DPG3, DPSM, PAP6\"}\n",
    "\n",
    "unique_lipids = [\"POPC\", \"POPS\", \"POPA\", \"POPG\", \"POPE\", \"CHOL\", \"DPG3\", \"DPSM\", \"PAP6\"]\n",
    "color_systems = [\"#66c2a5\",\"#fc8d62\",\"#8da0cb\",\"#e78ac3\"]\n",
    "line_style = [\"solid\", \"dotted\", \"dashed\"]\n",
    "color_rep = [\"#1b9e77\",\"#d95f02\",\"#7570b3\"]"
   ]
  },
  {
   "cell_type": "code",
   "execution_count": 4,
   "metadata": {},
   "outputs": [],
   "source": [
    "data_dir_rim = {\"IA\":\"\",\n",
    "           \"PA\":\"\",\n",
    "           \"FA_no_G-prot\":\"\",\n",
    "           \"FA_G-prot\":\"\"}\n",
    "\n",
    "data_dir_tot = {\"IA\":\"\",\n",
    "           \"PA\":\"\",\n",
    "           \"FA_no_G-prot\":\"\",\n",
    "           \"FA_G-prot\":\"\"}"
   ]
  },
  {
   "cell_type": "code",
   "execution_count": 5,
   "metadata": {},
   "outputs": [],
   "source": [
    "for s in systems:\n",
    "    for lipid in unique_lipids:\n",
    "        D_rim = [ np.loadtxt(\"SELECTION/{0:s}_{1:d}_{2:s}_0.7nm_size.xvg\".format(s,r,lipid), \n",
    "                        comments=('#','@')) for r in range(3) ]\n",
    "        D_tot = [ np.loadtxt(\"SELECTION/{0:s}_{1:d}_{2:s}_total_size.xvg\".format(s,r,lipid), \n",
    "                        comments=('#','@')) for r in range(3) ]\n",
    "        data_dir_rim[s] = D_rim\n",
    "        data_dir_tot[s] = D_tot"
   ]
  },
  {
   "cell_type": "code",
   "execution_count": 6,
   "metadata": {},
   "outputs": [],
   "source": [
    "d = data_dir_rim['IA']"
   ]
  },
  {
   "cell_type": "code",
   "execution_count": 7,
   "metadata": {},
   "outputs": [],
   "source": [
    "def half_data (d):\n",
    "    shapes = [ i.shape[0] for i in d]\n",
    "    halfs = [ int(i/2) for i in shapes]\n",
    "    data_half = [ d[i][halfs[i]:,1] for i in range(3)]\n",
    "    return data_half"
   ]
  },
  {
   "cell_type": "code",
   "execution_count": 8,
   "metadata": {},
   "outputs": [],
   "source": [
    "d_h = half_data(d)"
   ]
  },
  {
   "cell_type": "code",
   "execution_count": 9,
   "metadata": {},
   "outputs": [],
   "source": [
    "from scipy.stats import probplot\n",
    "from scipy.stats import normaltest"
   ]
  },
  {
   "cell_type": "code",
   "execution_count": 10,
   "metadata": {},
   "outputs": [
    {
     "data": {
      "text/plain": [
       "NormaltestResult(statistic=159.20189709611017, pvalue=2.6899691004776994e-35)"
      ]
     },
     "execution_count": 10,
     "metadata": {},
     "output_type": "execute_result"
    }
   ],
   "source": [
    "normaltest(d_h[0])"
   ]
  },
  {
   "cell_type": "code",
   "execution_count": 11,
   "metadata": {},
   "outputs": [
    {
     "data": {
      "text/plain": [
       "((array([-3.97674353, -3.76048147, -3.64213988, ...,  3.64213988,\n",
       "          3.76048147,  3.97674353]),\n",
       "  array([108., 115., 117., ..., 205., 207., 207.])),\n",
       " (13.92922789495849, 160.5232839431509, 0.9986294003582719))"
      ]
     },
     "execution_count": 11,
     "metadata": {},
     "output_type": "execute_result"
    },
    {
     "data": {
      "image/png": "[encoded data removed]",
      "text/plain": [
       "<Figure size 425.197x283.465 with 1 Axes>"
      ]
     },
     "metadata": {
      "needs_background": "light"
     },
     "output_type": "display_data"
    }
   ],
   "source": [
    "probplot(d_h[0], plot=plt)"
   ]
  },
  {
   "cell_type": "code",
   "execution_count": 12,
   "metadata": {},
   "outputs": [
    {
     "name": "stderr",
     "output_type": "stream",
     "text": [
      "/home/au447022/anaconda3/lib/python3.7/site-packages/scipy/stats/morestats.py:1676: UserWarning: p-value may not be accurate for N > 5000.\n",
      "  warnings.warn(\"p-value may not be accurate for N > 5000.\")\n"
     ]
    },
    {
     "data": {
      "text/plain": [
       "(0.9982922673225403, 8.208243582028232e-17)"
      ]
     },
     "execution_count": 12,
     "metadata": {},
     "output_type": "execute_result"
    }
   ],
   "source": [
    "shapiro(d_h[2])"
   ]
  },
  {
   "cell_type": "code",
   "execution_count": 13,
   "metadata": {},
   "outputs": [
    {
     "data": {
      "image/png": "[encoded data removed]",
      "text/plain": [
       "<Figure size 425.197x283.465 with 1 Axes>"
      ]
     },
     "metadata": {
      "needs_background": "light"
     },
     "output_type": "display_data"
    }
   ],
   "source": [
    "sm.qqplot(d_h[1], line ='45') \n",
    "py.show()"
   ]
  },
  {
   "cell_type": "code",
   "execution_count": 16,
   "metadata": {},
   "outputs": [
    {
     "data": {
      "text/plain": [
       "162.42062572421784"
      ]
     },
     "execution_count": 16,
     "metadata": {},
     "output_type": "execute_result"
    }
   ],
   "source": [
    "np.mean(d_h[1])"
   ]
  },
  {
   "cell_type": "code",
   "execution_count": 17,
   "metadata": {},
   "outputs": [
    {
     "data": {
      "text/plain": [
       "193.5676874468148"
      ]
     },
     "execution_count": 17,
     "metadata": {},
     "output_type": "execute_result"
    }
   ],
   "source": [
    "np.var(d_h[2])"
   ]
  },
  {
   "cell_type": "code",
   "execution_count": null,
   "metadata": {},
   "outputs": [],
   "source": []
  }
 ],
 "metadata": {
  "kernelspec": {
   "display_name": "Python 3",
   "language": "python",
   "name": "python3"
  },
  "language_info": {
   "codemirror_mode": {
    "name": "ipython",
    "version": 3
   },
   "file_extension": ".py",
   "mimetype": "text/x-python",
   "name": "python",
   "nbconvert_exporter": "python",
   "pygments_lexer": "ipython3",
   "version": "3.7.6"
  }
 },
 "nbformat": 4,
 "nbformat_minor": 4
}
