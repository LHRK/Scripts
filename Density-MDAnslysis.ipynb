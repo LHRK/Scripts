{
 "cells": [
  {
   "cell_type": "code",
   "execution_count": 36,
   "metadata": {},
   "outputs": [],
   "source": [
    "import MDAnalysis as md\n",
    "from MDAnalysis.analysis import align\n",
    "from MDAnalysis.analysis.density import density_from_Universe\n",
    "import numpy as np\n",
    "import matplotlib.pyplot as plt"
   ]
  },
  {
   "cell_type": "code",
   "execution_count": 2,
   "metadata": {},
   "outputs": [],
   "source": [
    "def cm2inch(*tupl):\n",
    "    inch = 2.54\n",
    "    if isinstance(tupl[0], tuple):\n",
    "        return tuple(i/inch for i in tupl[0])\n",
    "    else:\n",
    "        return tuple(i/inch for i in tupl)\n",
    "plt.rcParams[\"figure.figsize\"] = cm2inch(16,16)\n",
    "plt.rcParams.update({'font.size':8})\n",
    "def running_mean(x, N):\n",
    "    cumsum = np.cumsum(np.insert(x, 0, 0)) \n",
    "    return (cumsum[N:] - cumsum[:-N]) / float(N)"
   ]
  },
  {
   "cell_type": "code",
   "execution_count": 24,
   "metadata": {},
   "outputs": [],
   "source": [
    "def calculate_density(universe, selection, delta=1.0, gridcenter=None, xdim=None, ydim=None, zdim=None):\n",
    "    \"\"\"The density is calculated for a selection. The MDAnalysis density function returns a 3D tensor,\n",
    "    which is subsequently flatterned. Only the 2D grid is returned\"\"\"\n",
    "    site_density = density_from_Universe(universe, delta=delta,\n",
    "                atomselection=selection, update_selection=True, gridcenter=gridcenter,xdim=xdim, ydim=ydim, zdim=zdim)\n",
    "    arr=site_density.grid\n",
    "    flatten=np.zeros([np.shape(arr)[0],np.shape(arr)[1]])\n",
    "    for k, i in enumerate(range(np.shape(arr)[0])):\n",
    "        for v,j in enumerate(range(np.shape(arr)[1])):\n",
    "                   flatten[k,v]=np.sum(arr[i,j,:])\n",
    "    return flatten"
   ]
  },
  {
   "cell_type": "code",
   "execution_count": 25,
   "metadata": {},
   "outputs": [],
   "source": [
    "def select_prio(resname,u,priority=[\"PO4\", \"GL1\", \"AM1\"]):\n",
    "    \"\"\"Given a resname a priority selection is made only containing a single bead for the same lipid type\"\"\"\n",
    "    selection=u.select_atoms(\"resname %s and name PO4 GM1 AM1 ROH GL1\" %resname)\n",
    "    if len(selection)!=selection.n_residues:\n",
    "        beads=np.unique(selection.names)\n",
    "        print(\"%s contains multiple of the listed bead types:\" %resname)\n",
    "        print(\"The bead with the highest priority is selected\")\n",
    "        bead_type=priority[np.amin([priority.index(v) for v in beads])]\n",
    "        print(\"Which is %s\" %bead_type)\n",
    "    else:\n",
    "        beads=np.unique(selection.names)\n",
    "        bead_type=beads[0]\n",
    "    new_selection=u.select_atoms(\"resname %s and name %s\" %(resname, bead_type))\n",
    "    return new_selection, bead_type\n"
   ]
  },
  {
   "cell_type": "code",
   "execution_count": 4,
   "metadata": {},
   "outputs": [],
   "source": [
    "systems=[\"IA\",\"PA\",\"FA_G-prot\",\"FA_no_G-prot\"]\n",
    "lipid_dir = {\"FA_G-prot\":\"POPC, POPS, POPA, POPG, POPE, CHOL, DPGM3, DPSM, PAP6\",\n",
    "            \"FA_no_G-prot\":\"POPC, POPS, POPA, POPG, POPE, CHOL, DPGM3, DPSM, PAP6\",\n",
    "            \"IA\":\"POPC, POPS, POPA, POPG, POPE, CHOL, DPGM3, DPSM, PAP6\",\n",
    "            \"PA\":\"POPC, POPS, POPA, POPG, POPE, CHOL, DPGM3, DPSM, PAP6\"}\n",
    "unique_lipids = ['POPC','POPS', 'POPA', 'POPG', 'POPE', 'CHOL', 'DPGM3', 'DPSM', 'PAP6']\n",
    "unique_lipid_labels = ['POPC', 'POPS', 'POPA', 'POPG', 'POPE', 'CHOL', 'GM3', 'SM', 'PIP2']"
   ]
  },
  {
   "cell_type": "code",
   "execution_count": 22,
   "metadata": {},
   "outputs": [
    {
     "name": "stderr",
     "output_type": "stream",
     "text": [
      "/home/au447022/anaconda3/lib/python3.7/site-packages/MDAnalysis/topology/guessers.py:80: UserWarning: Failed to guess the mass for the following atom types: A\n",
      "  warnings.warn(\"Failed to guess the mass for the following atom types: {}\".format(atom_type))\n",
      "/home/au447022/anaconda3/lib/python3.7/site-packages/MDAnalysis/topology/guessers.py:80: UserWarning: Failed to guess the mass for the following atom types: D\n",
      "  warnings.warn(\"Failed to guess the mass for the following atom types: {}\".format(atom_type))\n",
      "/home/au447022/anaconda3/lib/python3.7/site-packages/MDAnalysis/topology/guessers.py:80: UserWarning: Failed to guess the mass for the following atom types: G\n",
      "  warnings.warn(\"Failed to guess the mass for the following atom types: {}\".format(atom_type))\n",
      "/home/au447022/anaconda3/lib/python3.7/site-packages/MDAnalysis/topology/guessers.py:80: UserWarning: Failed to guess the mass for the following atom types: R\n",
      "  warnings.warn(\"Failed to guess the mass for the following atom types: {}\".format(atom_type))\n",
      "/home/au447022/anaconda3/lib/python3.7/site-packages/MDAnalysis/topology/guessers.py:80: UserWarning: Failed to guess the mass for the following atom types: T\n",
      "  warnings.warn(\"Failed to guess the mass for the following atom types: {}\".format(atom_type))\n"
     ]
    }
   ],
   "source": [
    "ref = md.Universe('GRO/IA_0_nowat_renumbered.gro')\n",
    "TM123 = \"resid 133-166 171-199 219-255 and name BB\""
   ]
  },
  {
   "cell_type": "code",
   "execution_count": 31,
   "metadata": {},
   "outputs": [],
   "source": [
    "for s in systems:\n",
    "    u = md.Universe('GRO/{0:s}_0_nowat_renumbered.gro'.format(s), 'XTC/{0:s}_all_nowat_res_center_fit_last5.xtc'.format(s))\n",
    "    alignment = align.AlignTraj(u, ref, filename='XTC/{0:s}_all_nowat_res_center_fit_last5_DENSMAP.xtc'.format(s), select=TM123)\n",
    "    alignment.run()"
   ]
  },
  {
   "cell_type": "code",
   "execution_count": 37,
   "metadata": {},
   "outputs": [],
   "source": [
    "density = {\"FA_G-prot\":\"\",\n",
    "            \"FA_no_G-prot\":\"\",\n",
    "            \"IA\":\"\",\n",
    "            \"PA\":\"\"}"
   ]
  },
  {
   "cell_type": "code",
   "execution_count": 38,
   "metadata": {},
   "outputs": [
    {
     "name": "stdout",
     "output_type": "stream",
     "text": [
      "POPC contains multiple of the listed bead types:\n",
      "The bead with the highest priority is selected\n",
      "Which is PO4\n"
     ]
    },
    {
     "ename": "AttributeError",
     "evalue": "'tuple' object has no attribute 'replace'",
     "output_type": "error",
     "traceback": [
      "\u001b[0;31m---------------------------------------------------------------------------\u001b[0m",
      "\u001b[0;31mAttributeError\u001b[0m                            Traceback (most recent call last)",
      "\u001b[0;32m<ipython-input-38-bfe9a2ebebf3>\u001b[0m in \u001b[0;36m<module>\u001b[0;34m\u001b[0m\n\u001b[1;32m      4\u001b[0m     \u001b[0;32mfor\u001b[0m \u001b[0ml\u001b[0m \u001b[0;32min\u001b[0m \u001b[0munique_lipids\u001b[0m\u001b[0;34m:\u001b[0m\u001b[0;34m\u001b[0m\u001b[0;34m\u001b[0m\u001b[0m\n\u001b[1;32m      5\u001b[0m         \u001b[0msele\u001b[0m \u001b[0;34m=\u001b[0m  \u001b[0mselect_prio\u001b[0m\u001b[0;34m(\u001b[0m\u001b[0ml\u001b[0m\u001b[0;34m,\u001b[0m\u001b[0mu\u001b[0m\u001b[0;34m)\u001b[0m\u001b[0;34m\u001b[0m\u001b[0;34m\u001b[0m\u001b[0m\n\u001b[0;32m----> 6\u001b[0;31m         \u001b[0mdens\u001b[0m \u001b[0;34m=\u001b[0m  \u001b[0mcalculate_density\u001b[0m\u001b[0;34m(\u001b[0m\u001b[0mu\u001b[0m\u001b[0;34m,\u001b[0m \u001b[0msele\u001b[0m\u001b[0;34m,\u001b[0m \u001b[0mdelta\u001b[0m\u001b[0;34m=\u001b[0m\u001b[0;36m1.0\u001b[0m\u001b[0;34m)\u001b[0m\u001b[0;34m\u001b[0m\u001b[0;34m\u001b[0m\u001b[0m\n\u001b[0m\u001b[1;32m      7\u001b[0m         \u001b[0mnp\u001b[0m\u001b[0;34m.\u001b[0m\u001b[0msave\u001b[0m\u001b[0;34m(\u001b[0m\u001b[0;34m'{0:s}_{1:s}_Density_mda.npy'\u001b[0m\u001b[0;34m.\u001b[0m\u001b[0mformat\u001b[0m\u001b[0;34m(\u001b[0m\u001b[0ms\u001b[0m\u001b[0;34m,\u001b[0m\u001b[0ml\u001b[0m\u001b[0;34m)\u001b[0m\u001b[0;34m,\u001b[0m \u001b[0mdens\u001b[0m\u001b[0;34m)\u001b[0m\u001b[0;34m\u001b[0m\u001b[0;34m\u001b[0m\u001b[0m\n\u001b[1;32m      8\u001b[0m         \u001b[0mdens_loc\u001b[0m\u001b[0;34m.\u001b[0m\u001b[0mappend\u001b[0m\u001b[0;34m(\u001b[0m\u001b[0mdens\u001b[0m\u001b[0;34m)\u001b[0m\u001b[0;34m\u001b[0m\u001b[0;34m\u001b[0m\u001b[0m\n",
      "\u001b[0;32m<ipython-input-24-c88bb8aac7d0>\u001b[0m in \u001b[0;36mcalculate_density\u001b[0;34m(universe, selection, delta, gridcenter, xdim, ydim, zdim)\u001b[0m\n\u001b[1;32m      3\u001b[0m     which is subsequently flatterned. Only the 2D grid is returned\"\"\"\n\u001b[1;32m      4\u001b[0m     site_density = density_from_Universe(universe, delta=delta,\n\u001b[0;32m----> 5\u001b[0;31m                 atomselection=selection, update_selection=True, gridcenter=gridcenter,xdim=xdim, ydim=ydim, zdim=zdim)\n\u001b[0m\u001b[1;32m      6\u001b[0m     \u001b[0marr\u001b[0m\u001b[0;34m=\u001b[0m\u001b[0msite_density\u001b[0m\u001b[0;34m.\u001b[0m\u001b[0mgrid\u001b[0m\u001b[0;34m\u001b[0m\u001b[0;34m\u001b[0m\u001b[0m\n\u001b[1;32m      7\u001b[0m     \u001b[0mflatten\u001b[0m\u001b[0;34m=\u001b[0m\u001b[0mnp\u001b[0m\u001b[0;34m.\u001b[0m\u001b[0mzeros\u001b[0m\u001b[0;34m(\u001b[0m\u001b[0;34m[\u001b[0m\u001b[0mnp\u001b[0m\u001b[0;34m.\u001b[0m\u001b[0mshape\u001b[0m\u001b[0;34m(\u001b[0m\u001b[0marr\u001b[0m\u001b[0;34m)\u001b[0m\u001b[0;34m[\u001b[0m\u001b[0;36m0\u001b[0m\u001b[0;34m]\u001b[0m\u001b[0;34m,\u001b[0m\u001b[0mnp\u001b[0m\u001b[0;34m.\u001b[0m\u001b[0mshape\u001b[0m\u001b[0;34m(\u001b[0m\u001b[0marr\u001b[0m\u001b[0;34m)\u001b[0m\u001b[0;34m[\u001b[0m\u001b[0;36m1\u001b[0m\u001b[0;34m]\u001b[0m\u001b[0;34m]\u001b[0m\u001b[0;34m)\u001b[0m\u001b[0;34m\u001b[0m\u001b[0;34m\u001b[0m\u001b[0m\n",
      "\u001b[0;32m~/anaconda3/lib/python3.7/site-packages/MDAnalysis/analysis/density.py\u001b[0m in \u001b[0;36mdensity_from_Universe\u001b[0;34m(universe, delta, atomselection, start, stop, step, metadata, padding, cutoff, soluteselection, use_kdtree, update_selection, verbose, interval, quiet, parameters, gridcenter, xdim, ydim, zdim)\u001b[0m\n\u001b[1;32m    706\u001b[0m             \u001b[0;32mreturn\u001b[0m \u001b[0mnotwithin_coordinates\u001b[0m\u001b[0;34m(\u001b[0m\u001b[0;34m)\u001b[0m\u001b[0;34m\u001b[0m\u001b[0;34m\u001b[0m\u001b[0m\n\u001b[1;32m    707\u001b[0m     \u001b[0;32melse\u001b[0m\u001b[0;34m:\u001b[0m\u001b[0;34m\u001b[0m\u001b[0;34m\u001b[0m\u001b[0m\n\u001b[0;32m--> 708\u001b[0;31m         \u001b[0mgroup\u001b[0m \u001b[0;34m=\u001b[0m \u001b[0mu\u001b[0m\u001b[0;34m.\u001b[0m\u001b[0mselect_atoms\u001b[0m\u001b[0;34m(\u001b[0m\u001b[0matomselection\u001b[0m\u001b[0;34m,\u001b[0m \u001b[0mupdating\u001b[0m\u001b[0;34m=\u001b[0m\u001b[0mupdate_selection\u001b[0m\u001b[0;34m)\u001b[0m\u001b[0;34m\u001b[0m\u001b[0;34m\u001b[0m\u001b[0m\n\u001b[0m\u001b[1;32m    709\u001b[0m \u001b[0;34m\u001b[0m\u001b[0m\n\u001b[1;32m    710\u001b[0m         \u001b[0;32mdef\u001b[0m \u001b[0mcurrent_coordinates\u001b[0m\u001b[0;34m(\u001b[0m\u001b[0;34m)\u001b[0m\u001b[0;34m:\u001b[0m\u001b[0;34m\u001b[0m\u001b[0;34m\u001b[0m\u001b[0m\n",
      "\u001b[0;32m~/anaconda3/lib/python3.7/site-packages/MDAnalysis/core/universe.py\u001b[0m in \u001b[0;36mselect_atoms\u001b[0;34m(self, *args, **kwargs)\u001b[0m\n\u001b[1;32m    697\u001b[0m         \u001b[0;34m:\u001b[0m\u001b[0mmeth\u001b[0m\u001b[0;34m:\u001b[0m\u001b[0;31m`\u001b[0m\u001b[0mMDAnalysis\u001b[0m\u001b[0;34m.\u001b[0m\u001b[0mcore\u001b[0m\u001b[0;34m.\u001b[0m\u001b[0mgroups\u001b[0m\u001b[0;34m.\u001b[0m\u001b[0mAtomGroup\u001b[0m\u001b[0;34m.\u001b[0m\u001b[0mselect_atoms\u001b[0m\u001b[0;31m`\u001b[0m\u001b[0;34m\u001b[0m\u001b[0;34m\u001b[0m\u001b[0m\n\u001b[1;32m    698\u001b[0m         \"\"\"\n\u001b[0;32m--> 699\u001b[0;31m         \u001b[0;32mreturn\u001b[0m \u001b[0mself\u001b[0m\u001b[0;34m.\u001b[0m\u001b[0matoms\u001b[0m\u001b[0;34m.\u001b[0m\u001b[0mselect_atoms\u001b[0m\u001b[0;34m(\u001b[0m\u001b[0;34m*\u001b[0m\u001b[0margs\u001b[0m\u001b[0;34m,\u001b[0m \u001b[0;34m**\u001b[0m\u001b[0mkwargs\u001b[0m\u001b[0;34m)\u001b[0m\u001b[0;34m\u001b[0m\u001b[0;34m\u001b[0m\u001b[0m\n\u001b[0m\u001b[1;32m    700\u001b[0m \u001b[0;34m\u001b[0m\u001b[0m\n\u001b[1;32m    701\u001b[0m     \u001b[0;34m@\u001b[0m\u001b[0mproperty\u001b[0m\u001b[0;34m\u001b[0m\u001b[0;34m\u001b[0m\u001b[0m\n",
      "\u001b[0;32m~/anaconda3/lib/python3.7/site-packages/MDAnalysis/core/groups.py\u001b[0m in \u001b[0;36mselect_atoms\u001b[0;34m(self, sel, *othersel, **selgroups)\u001b[0m\n\u001b[1;32m   2852\u001b[0m \u001b[0;34m\u001b[0m\u001b[0m\n\u001b[1;32m   2853\u001b[0m         selections = tuple((selection.Parser.parse(s, selgroups, periodic=periodic)\n\u001b[0;32m-> 2854\u001b[0;31m                             for s in sel_strs))\n\u001b[0m\u001b[1;32m   2855\u001b[0m         \u001b[0;32mif\u001b[0m \u001b[0mupdating\u001b[0m\u001b[0;34m:\u001b[0m\u001b[0;34m\u001b[0m\u001b[0;34m\u001b[0m\u001b[0m\n\u001b[1;32m   2856\u001b[0m             \u001b[0matomgrp\u001b[0m \u001b[0;34m=\u001b[0m \u001b[0mUpdatingAtomGroup\u001b[0m\u001b[0;34m(\u001b[0m\u001b[0mself\u001b[0m\u001b[0;34m,\u001b[0m \u001b[0mselections\u001b[0m\u001b[0;34m,\u001b[0m \u001b[0msel_strs\u001b[0m\u001b[0;34m)\u001b[0m\u001b[0;34m\u001b[0m\u001b[0;34m\u001b[0m\u001b[0m\n",
      "\u001b[0;32m~/anaconda3/lib/python3.7/site-packages/MDAnalysis/core/groups.py\u001b[0m in \u001b[0;36m<genexpr>\u001b[0;34m(.0)\u001b[0m\n\u001b[1;32m   2852\u001b[0m \u001b[0;34m\u001b[0m\u001b[0m\n\u001b[1;32m   2853\u001b[0m         selections = tuple((selection.Parser.parse(s, selgroups, periodic=periodic)\n\u001b[0;32m-> 2854\u001b[0;31m                             for s in sel_strs))\n\u001b[0m\u001b[1;32m   2855\u001b[0m         \u001b[0;32mif\u001b[0m \u001b[0mupdating\u001b[0m\u001b[0;34m:\u001b[0m\u001b[0;34m\u001b[0m\u001b[0;34m\u001b[0m\u001b[0m\n\u001b[1;32m   2856\u001b[0m             \u001b[0matomgrp\u001b[0m \u001b[0;34m=\u001b[0m \u001b[0mUpdatingAtomGroup\u001b[0m\u001b[0;34m(\u001b[0m\u001b[0mself\u001b[0m\u001b[0;34m,\u001b[0m \u001b[0mselections\u001b[0m\u001b[0;34m,\u001b[0m \u001b[0msel_strs\u001b[0m\u001b[0;34m)\u001b[0m\u001b[0;34m\u001b[0m\u001b[0;34m\u001b[0m\u001b[0m\n",
      "\u001b[0;32m~/anaconda3/lib/python3.7/site-packages/MDAnalysis/core/selection.py\u001b[0m in \u001b[0;36mparse\u001b[0;34m(self, selectstr, selgroups, periodic)\u001b[0m\n\u001b[1;32m   1157\u001b[0m         \u001b[0mself\u001b[0m\u001b[0;34m.\u001b[0m\u001b[0mselectstr\u001b[0m \u001b[0;34m=\u001b[0m \u001b[0mselectstr\u001b[0m\u001b[0;34m\u001b[0m\u001b[0;34m\u001b[0m\u001b[0m\n\u001b[1;32m   1158\u001b[0m         \u001b[0mself\u001b[0m\u001b[0;34m.\u001b[0m\u001b[0mselgroups\u001b[0m \u001b[0;34m=\u001b[0m \u001b[0mselgroups\u001b[0m\u001b[0;34m\u001b[0m\u001b[0;34m\u001b[0m\u001b[0m\n\u001b[0;32m-> 1159\u001b[0;31m         \u001b[0mtokens\u001b[0m \u001b[0;34m=\u001b[0m \u001b[0mselectstr\u001b[0m\u001b[0;34m.\u001b[0m\u001b[0mreplace\u001b[0m\u001b[0;34m(\u001b[0m\u001b[0;34m'('\u001b[0m\u001b[0;34m,\u001b[0m \u001b[0;34m' ( '\u001b[0m\u001b[0;34m)\u001b[0m\u001b[0;34m.\u001b[0m\u001b[0mreplace\u001b[0m\u001b[0;34m(\u001b[0m\u001b[0;34m')'\u001b[0m\u001b[0;34m,\u001b[0m \u001b[0;34m' ) '\u001b[0m\u001b[0;34m)\u001b[0m\u001b[0;34m\u001b[0m\u001b[0;34m\u001b[0m\u001b[0m\n\u001b[0m\u001b[1;32m   1160\u001b[0m         \u001b[0mself\u001b[0m\u001b[0;34m.\u001b[0m\u001b[0mtokens\u001b[0m \u001b[0;34m=\u001b[0m \u001b[0mcollections\u001b[0m\u001b[0;34m.\u001b[0m\u001b[0mdeque\u001b[0m\u001b[0;34m(\u001b[0m\u001b[0mtokens\u001b[0m\u001b[0;34m.\u001b[0m\u001b[0msplit\u001b[0m\u001b[0;34m(\u001b[0m\u001b[0;34m)\u001b[0m \u001b[0;34m+\u001b[0m \u001b[0;34m[\u001b[0m\u001b[0;32mNone\u001b[0m\u001b[0;34m]\u001b[0m\u001b[0;34m)\u001b[0m\u001b[0;34m\u001b[0m\u001b[0;34m\u001b[0m\u001b[0m\n\u001b[1;32m   1161\u001b[0m         \u001b[0mparsetree\u001b[0m \u001b[0;34m=\u001b[0m \u001b[0mself\u001b[0m\u001b[0;34m.\u001b[0m\u001b[0mparse_expression\u001b[0m\u001b[0;34m(\u001b[0m\u001b[0;36m0\u001b[0m\u001b[0;34m)\u001b[0m\u001b[0;34m\u001b[0m\u001b[0;34m\u001b[0m\u001b[0m\n",
      "\u001b[0;31mAttributeError\u001b[0m: 'tuple' object has no attribute 'replace'"
     ]
    }
   ],
   "source": [
    "for s in systems:\n",
    "    u = md.Universe('GRO/{0:s}_0_nowat_renumbered.gro'.format(s), 'XTC/{0:s}_all_nowat_res_center_fit_last5_DENSMAP.xtc'.format(s))\n",
    "    dens_loc = [] \n",
    "    for l in unique_lipids:\n",
    "        sele =  select_prio(l,u)\n",
    "        dens =  calculate_density(u, sele, delta=1.0)\n",
    "        np.save('{0:s}_{1:s}_Density_mda.npy'.format(s,l), dens)\n",
    "        dens_loc.append(dens)\n",
    "    density[s] = dens_loc"
   ]
  },
  {
   "cell_type": "code",
   "execution_count": null,
   "metadata": {},
   "outputs": [],
   "source": []
  },
  {
   "cell_type": "code",
   "execution_count": null,
   "metadata": {},
   "outputs": [],
   "source": []
  }
 ],
 "metadata": {
  "kernelspec": {
   "display_name": "Python 3",
   "language": "python",
   "name": "python3"
  },
  "language_info": {
   "codemirror_mode": {
    "name": "ipython",
    "version": 3
   },
   "file_extension": ".py",
   "mimetype": "text/x-python",
   "name": "python",
   "nbconvert_exporter": "python",
   "pygments_lexer": "ipython3",
   "version": "3.7.6"
  }
 },
 "nbformat": 4,
 "nbformat_minor": 4
}
