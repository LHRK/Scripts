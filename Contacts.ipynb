{
 "cells": [
  {
   "cell_type": "code",
   "execution_count": 1,
   "metadata": {},
   "outputs": [],
   "source": [
    "from numba import jit\n",
    "import MDAnalysis as md\n",
    "import numpy as np\n",
    "import matplotlib.pyplot as plt\n",
    "import string\n",
    "import os"
   ]
  },
  {
   "cell_type": "code",
   "execution_count": 8,
   "metadata": {},
   "outputs": [],
   "source": [
    "def extract_contacts (u, lipid, stride=2):\n",
    "    \"\"\"Timestep = 500 ps, so striding every 2 frame,\n",
    "    means taking every 1 ns\"\"\"\n",
    "    GCGR = u.select_atoms('resid 26-421')\n",
    "    GCGR_BB = GCGR.select_atoms('name BB')\n",
    "    GCGR_resid = np.unique(GCGR.resids)\n",
    "    tot_frames = len(u.trajectory[::stride])\n",
    "    num_resids = GCGR_resid.shape[0]    \n",
    "    GCGR_resid = np.unique(GCGR.resids)\n",
    "\n",
    "    C = np.zeros([num_resids, tot_frames])\n",
    "    for idx, ts in enumerate(u.trajectory[::stride]):\n",
    "        for indx, r in enumerate(GCGR_resid):\n",
    "            sel = u.select_atoms('resname {0:s} and global around 7 resid {1:d}'.format(lipid, r))\n",
    "            num_contacts = np.unique(sel.resids).shape[0]\n",
    "            C[indx, idx] = num_contacts\n",
    "    sel = u.select_atoms('resname {0:s}'.format(lipid))\n",
    "    num_lipids_total = np.unique(sel.resids).shape[0]\n",
    "    ava_con = (np.average(C, axis=1) / num_lipids_total)\n",
    "    tot_con = (np.sum(C, axis=1) / num_lipids_total)\n",
    "    return C, ava_con, tot_con"
   ]
  },
  {
   "cell_type": "code",
   "execution_count": 9,
   "metadata": {},
   "outputs": [],
   "source": [
    "def residence_time (u, lipid, stride=2):\n",
    "    GCGR = u.select_atoms('resid 26-421')\n",
    "    GCGR_BB = GCGR.select_atoms('name BB')\n",
    "    GCGR_resid = np.unique(GCGR.resids)\n",
    "    num_resids = GCGR_resid.shape[0]    \n",
    "    GCGR_resid = np.unique(GCGR.resids)\n",
    "\n",
    "    C = np.zeros([num_resids])\n",
    "    for rdx, r in enumerate(GCGR_resid):\n",
    "        C_res = []\n",
    "        count = 0\n",
    "        for fdx, ts in enumerate(u.trajectory[::stride]):\n",
    "            sel = u.select_atoms('resname {0:s} and global around 7 resid {1:d}'.format(lipid, r))\n",
    "            num_contacts = np.unique(sel.resids).shape[0]\n",
    "            if num_contacts > 0 :\n",
    "                count = count +1\n",
    "            else:\n",
    "                C_res.append(count)\n",
    "                count = 0\n",
    "        C[rdx] = (np.average(C_res))        \n",
    "    return C\n"
   ]
  },
  {
   "cell_type": "code",
   "execution_count": 4,
   "metadata": {},
   "outputs": [
    {
     "name": "stderr",
     "output_type": "stream",
     "text": [
      "/home/au447022/anaconda3/lib/python3.7/site-packages/MDAnalysis/topology/guessers.py:72: UserWarning: Failed to guess the mass for the following atom types: A\n",
      "  warnings.warn(\"Failed to guess the mass for the following atom types: {}\".format(atom_type))\n",
      "/home/au447022/anaconda3/lib/python3.7/site-packages/MDAnalysis/topology/guessers.py:72: UserWarning: Failed to guess the mass for the following atom types: D\n",
      "  warnings.warn(\"Failed to guess the mass for the following atom types: {}\".format(atom_type))\n",
      "/home/au447022/anaconda3/lib/python3.7/site-packages/MDAnalysis/topology/guessers.py:72: UserWarning: Failed to guess the mass for the following atom types: G\n",
      "  warnings.warn(\"Failed to guess the mass for the following atom types: {}\".format(atom_type))\n",
      "/home/au447022/anaconda3/lib/python3.7/site-packages/MDAnalysis/topology/guessers.py:72: UserWarning: Failed to guess the mass for the following atom types: R\n",
      "  warnings.warn(\"Failed to guess the mass for the following atom types: {}\".format(atom_type))\n",
      "/home/au447022/anaconda3/lib/python3.7/site-packages/MDAnalysis/topology/guessers.py:72: UserWarning: Failed to guess the mass for the following atom types: T\n",
      "  warnings.warn(\"Failed to guess the mass for the following atom types: {}\".format(atom_type))\n"
     ]
    }
   ],
   "source": [
    "u = md.Universe('GRO/FA_G-prot_0_nowat_renumbered.gro', 'XTC/FA_G-prot_0_nowat_res_center_fit.xtc')"
   ]
  },
  {
   "cell_type": "code",
   "execution_count": 5,
   "metadata": {},
   "outputs": [],
   "source": [
    "res_time = residence_time(u, 'CHOL', stride=1000)"
   ]
  },
  {
   "cell_type": "code",
   "execution_count": 7,
   "metadata": {},
   "outputs": [
    {
     "data": {
      "text/plain": [
       "(396,)"
      ]
     },
     "execution_count": 7,
     "metadata": {},
     "output_type": "execute_result"
    }
   ],
   "source": [
    "res_time.shape"
   ]
  },
  {
   "cell_type": "code",
   "execution_count": null,
   "metadata": {},
   "outputs": [],
   "source": [
    "C, ava_Con, tot_con = extract_contacts(u, 'CHOL', stride=5000)"
   ]
  },
  {
   "cell_type": "code",
   "execution_count": null,
   "metadata": {},
   "outputs": [],
   "source": [
    "plt.plot(np.arange(26,422), ava_Con)"
   ]
  },
  {
   "cell_type": "code",
   "execution_count": null,
   "metadata": {},
   "outputs": [],
   "source": [
    "plt.plot(np.arange(26,422), tot_con)"
   ]
  },
  {
   "cell_type": "code",
   "execution_count": null,
   "metadata": {},
   "outputs": [],
   "source": [
    "C.shape"
   ]
  },
  {
   "cell_type": "code",
   "execution_count": null,
   "metadata": {},
   "outputs": [],
   "source": [
    "plt.plot(np.sum(C, axis=1))"
   ]
  },
  {
   "cell_type": "code",
   "execution_count": null,
   "metadata": {},
   "outputs": [],
   "source": []
  }
 ],
 "metadata": {
  "kernelspec": {
   "display_name": "Python 3",
   "language": "python",
   "name": "python3"
  },
  "language_info": {
   "codemirror_mode": {
    "name": "ipython",
    "version": 3
   },
   "file_extension": ".py",
   "mimetype": "text/x-python",
   "name": "python",
   "nbconvert_exporter": "python",
   "pygments_lexer": "ipython3",
   "version": "3.7.6"
  }
 },
 "nbformat": 4,
 "nbformat_minor": 4
}
