{
 "cells": [
  {
   "cell_type": "code",
   "execution_count": 1,
   "metadata": {},
   "outputs": [],
   "source": [
    "import MDAnalysis as md\n",
    "import numpy as np\n",
    "import matplotlib.pyplot as plt\n",
    "import string\n",
    "import os\n",
    "import argparse\n"
   ]
  },
  {
   "cell_type": "code",
   "execution_count": 15,
   "metadata": {},
   "outputs": [],
   "source": [
    "def extract_no_beads_bulk (u):\n",
    "    \"\"\"Function to count the number of beads of the different lipid types for a random binding site in the bulk.\n",
    "    The volume around the BS is approximated by a cylinder with radius = 7 Å and height = 14 Å\"\"\"\n",
    "    prot = u.select_atoms('name BB SC1 SC2 SC3 SC4')\n",
    "    prot_rdf = prot.radius_of_gyration()+20\n",
    "    prot_com = prot.center_of_mass()\n",
    "\n",
    "    # Select the protein zone\n",
    "    prot = u.select_atoms('name BB SC1 SC2 SC3 SC4')\n",
    "    protein_zone = u.select_atoms('cyzone {0:f} {1:f} {2:f} group protein'\n",
    "                  .format(prot_rdf, 60, -60), protein=prot, updating=True)\n",
    "\n",
    "    #Select the bulk zone - not overlapping with the protein zone\n",
    "    bulk_selection = u.select_atoms('all and not protein and not group protein_zone'\n",
    "                                    .format(prot_rdf, 60, -60), protein=prot, protein_zone=protein_zone, updating=True)\n",
    "\n",
    "    # Select a random bead in the bulk selection, as a virtual binding site\n",
    "    idx_random = np.random.randint(0,bulk_selection.positions.shape[0])\n",
    "    ran_bs = bulk_selection.indices[idx_random]\n",
    "    x_ran, y_ran, z_ran = bulk_selection.positions[idx_random]\n",
    "\n",
    "    # Extract the number of beads around the site\n",
    "    atom_sel = bulk_selection.select_atoms('prop x == {0:f} and prop y == {1:f} and prop z == {2:f}'.format(x_ran, y_ran, z_ran))\n",
    "    try:\n",
    "        no_beads_bs_all = u.select_atoms('(cyzone {0:f} {1:f} {2:f} group atom_sel) and not group protein'.format(7, 7, -7), atom_sel=atom_sel, protein=prot)\n",
    "    except ValueError:\n",
    "        print (no_beads_bs_all)\n",
    "        print (\"(cyzone {0:f} {1:f} {2:f} group atom_sel) and not group protein\".format(7, 7, -7))\n",
    "\n",
    "    res = no_beads_bs_all.resnames\n",
    "    unique, counts = np.unique(res, return_counts=True)\n",
    "\n",
    "    #Returns the unique lipids found around the BS along with the number of beads for each\n",
    "    return unique, counts\n"
   ]
  },
  {
   "cell_type": "code",
   "execution_count": 3,
   "metadata": {},
   "outputs": [],
   "source": [
    "def assign_counts (u, unique, counts):\n",
    "    \"\"\"Function for assigning the counts (of beads) for each\n",
    "    lipid type to an array.\"\"\"\n",
    "    memb = u.select_atoms('all and not (name BB SC1 SC2 SC3 SC4)').resnames\n",
    "    unique_lipid, counts_lipid = np.unique(memb, return_counts=True)\n",
    "    zeros = np.zeros([unique_lipid.shape[0]])\n",
    "    counts_out = np.vstack((unique_lipid, zeros))\n",
    "\n",
    "    if len(counts) != 0:\n",
    "        idxs = [ np.where(counts_out[0,:] == i)[0] for i in unique ]\n",
    "        shape = len(idxs)\n",
    "        try:\n",
    "            counts_out[1,idxs] = counts.reshape([shape,1])\n",
    "        except IndexError:\n",
    "            print ('############')\n",
    "            print (counts)\n",
    "            print (unique)\n",
    "            print (idxs)\n",
    "            print('#############')\n",
    "            raise\n",
    "    return counts_out\n"
   ]
  },
  {
   "cell_type": "code",
   "execution_count": 4,
   "metadata": {},
   "outputs": [],
   "source": [
    "def main_func (u, stride=10):\n",
    "    \"\"\"Main function\n",
    "    Iterative over the systems, calling only this function.\"\"\"\n",
    "    ### MAIN ###\n",
    "\n",
    "    #Set selections\n",
    "    prot = u.select_atoms('name BB SC1 SC2 SC3 SC4')\n",
    "    print (\"protein selected\")\n",
    "    prot_rdf = prot.radius_of_gyration()+20\n",
    "    prot_com = prot.center_of_mass()\n",
    "    membrane = u.select_atoms('all and not (name BB SC1 SC2 SC3 SC4)')\n",
    "    print (\"membrane selected\")\n",
    "    protein_zone = u.select_atoms('cyzone {0:f} {1:f} {2:f} group protein'.format(prot_rdf, 60, -60), protein=prot, updating=True)\n",
    "    print (\"protein zone selected\")\n",
    "    memb_prot_zone = protein_zone.select_atoms('all and not group protein', protein=prot, updating=True)\n",
    "    print (\"membrane zone selected\")\n",
    "    bulk_selection = u.select_atoms('all and not group protein and not group protein_zone'\n",
    "                                    .format(prot_rdf, 60, -60), protein=prot, protein_zone=protein_zone, updating=True)\n",
    "    print (\"Bulk selected\")\n",
    "    TMD = u.select_atoms('group protein and resid 111-394', protein=prot) #### UPDATE THIS\n",
    "    print (\"TMD selected as group protein and resid 111-394\")\n",
    "    TMD_resid = np.unique(TMD.resids)\n",
    "    print ('Selections set')\n",
    "\n",
    "    output_counts_all = []\n",
    "    output_counts_all_bulk = []\n",
    "\n",
    "    for idx, ts in enumerate(u.trajectory[::stride]):\n",
    "        counts_TMD_local = []\n",
    "        unique_bulk, counts_bulk = extract_no_beads_bulk (u)\n",
    "        print (\"Counts extracted for bulk\")\n",
    "        out_bulk_local = assign_counts(u, unique_bulk, counts_bulk)\n",
    "        output_counts_all_bulk.append(out_bulk_local)\n",
    "        for indx, r in enumerate(TMD_resid):\n",
    "            sel = u.select_atoms('(cyzone {0:f} {1:f} {2:f} resid {3:d}) and not group protein'\n",
    "                                                .format(7, 7,-7, r), protein=prot)\n",
    "            sel_res = sel.resnames\n",
    "            unique, counts = np.unique(sel_res, return_counts=True)\n",
    "            out_local = assign_counts(u, unique, counts)\n",
    "\n",
    "            counts_TMD_local.append(out_local)\n",
    "        output_counts_all.append(np.array(counts_TMD_local))\n",
    "\n",
    "    COUNTS_PROT = np.array(output_counts_all) # [nframes, nresids, 2, nlipid_types]\n",
    "    COUNTS_VIRTUAL_BS = np.array(output_counts_all_bulk) # [nframes, 2, nlipid_types]\n",
    "    return COUNTS_PROT, COUNTS_VIRTUAL_BS\n"
   ]
  },
  {
   "cell_type": "code",
   "execution_count": 5,
   "metadata": {},
   "outputs": [],
   "source": [
    "system=['IA']"
   ]
  },
  {
   "cell_type": "code",
   "execution_count": null,
   "metadata": {},
   "outputs": [],
   "source": [
    "for idx, s in enumerate(system):\n",
    "    for r in range(1):\n",
    "        gro = 'GRO/{0:s}_{1:d}_nowat.gro'.format(s,r)\n",
    "        xtc = 'XTC/{0:s}_{1:d}_nowat_res_center_fit_last5.xtc'.format(s,r)\n",
    "        print (\"Loaded Universe with: GRO/{0:s}_{1:d}_nowat.gro XTC/{0:s}_{1:d}_nowat_res_center_last5.xtc\".format(s,r))\n",
    "        u = md.Universe(gro,xtc)\n",
    "        print (\"Universe loaded with GRO/{0:s}_{1:d}_nowat.gro XTC/{0:s}_{1:d}_nowat_res_center_last5.xtc\".format(s,r))\n",
    "        if os.path.isdir(\"CONTACT_NO_BEADS\") == False:\n",
    "                os.system(\"mkdir CONTACT_NO_BEADS\")\n",
    "                print (\"Output will be saved in the directory called CONTACT_NO_BEADS\")\n",
    "        else:\n",
    "                print (\"Output will be saved in the directory called CONTACT_NO_BEADS\")\n",
    "        output_dat1 = 'CONTACT_NO_BEADS/{0:s}_{1:d}_number_of_beads_protein.npy'.format(s,r)\n",
    "        output_dat2 = 'CONTACT_NO_BEADS/{0:s}_{1:d}_number_of_beads_bulk.npy'.format(s,r)\n",
    "        if os.path.exists(output_dat1):\n",
    "            print (\"{0:s} exists\".format(output_dat1))\n",
    "            continue\n",
    "        else:\n",
    "            print (\"Performing calculation\")\n",
    "            COUNTS_PROT, COUNTS_VIRTUAL_BS = main_func (u)\n",
    "            np.save(output_dat1, COUNTS_PROT)\n",
    "            np.save(output_dat2, COUNTS_VIRTUAL_BS)\n",
    "\n"
   ]
  },
  {
   "cell_type": "code",
   "execution_count": null,
   "metadata": {},
   "outputs": [],
   "source": []
  },
  {
   "cell_type": "markdown",
   "metadata": {},
   "source": [
    "#### TESTING"
   ]
  },
  {
   "cell_type": "code",
   "execution_count": null,
   "metadata": {},
   "outputs": [],
   "source": []
  },
  {
   "cell_type": "code",
   "execution_count": 6,
   "metadata": {},
   "outputs": [],
   "source": [
    "s = 'IA'\n",
    "r = 0"
   ]
  },
  {
   "cell_type": "code",
   "execution_count": 7,
   "metadata": {},
   "outputs": [
    {
     "name": "stdout",
     "output_type": "stream",
     "text": [
      "Loaded Universe with: GRO/IA_0_nowat.gro XTC/IA_0_nowat_res_center_last5.xtc\n"
     ]
    },
    {
     "name": "stderr",
     "output_type": "stream",
     "text": [
      "/home/au447022/anaconda3/lib/python3.7/site-packages/MDAnalysis/topology/guessers.py:80: UserWarning: Failed to guess the mass for the following atom types: A\n",
      "  warnings.warn(\"Failed to guess the mass for the following atom types: {}\".format(atom_type))\n",
      "/home/au447022/anaconda3/lib/python3.7/site-packages/MDAnalysis/topology/guessers.py:80: UserWarning: Failed to guess the mass for the following atom types: D\n",
      "  warnings.warn(\"Failed to guess the mass for the following atom types: {}\".format(atom_type))\n",
      "/home/au447022/anaconda3/lib/python3.7/site-packages/MDAnalysis/topology/guessers.py:80: UserWarning: Failed to guess the mass for the following atom types: G\n",
      "  warnings.warn(\"Failed to guess the mass for the following atom types: {}\".format(atom_type))\n",
      "/home/au447022/anaconda3/lib/python3.7/site-packages/MDAnalysis/topology/guessers.py:80: UserWarning: Failed to guess the mass for the following atom types: R\n",
      "  warnings.warn(\"Failed to guess the mass for the following atom types: {}\".format(atom_type))\n",
      "/home/au447022/anaconda3/lib/python3.7/site-packages/MDAnalysis/topology/guessers.py:80: UserWarning: Failed to guess the mass for the following atom types: T\n",
      "  warnings.warn(\"Failed to guess the mass for the following atom types: {}\".format(atom_type))\n"
     ]
    }
   ],
   "source": [
    "gro = 'GRO/{0:s}_{1:d}_nowat.gro'.format(s,r)\n",
    "xtc = 'XTC/{0:s}_{1:d}_nowat_res_center_fit_last5.xtc'.format(s,r)\n",
    "print (\"Loaded Universe with: GRO/{0:s}_{1:d}_nowat.gro XTC/{0:s}_{1:d}_nowat_res_center_last5.xtc\".format(s,r))\n",
    "u = md.Universe(gro,xtc)"
   ]
  },
  {
   "cell_type": "code",
   "execution_count": 8,
   "metadata": {},
   "outputs": [
    {
     "name": "stdout",
     "output_type": "stream",
     "text": [
      "protein selected\n",
      "membrane selected\n",
      "protein zone selected\n",
      "membrane zone selected\n",
      "Bulk selected\n",
      "TMD selected as group protein and resid 111-394\n",
      "Selections set\n"
     ]
    }
   ],
   "source": [
    "prot = u.select_atoms('name BB SC1 SC2 SC3 SC4')\n",
    "print (\"protein selected\")\n",
    "prot_rdf = prot.radius_of_gyration()+20\n",
    "prot_com = prot.center_of_mass()\n",
    "membrane = u.select_atoms('all and not (name BB SC1 SC2 SC3 SC4)')\n",
    "print (\"membrane selected\")\n",
    "protein_zone = u.select_atoms('cyzone {0:f} {1:f} {2:f} group protein'.format(prot_rdf, 60, -60), protein=prot, updating=True)\n",
    "print (\"protein zone selected\")\n",
    "memb_prot_zone = protein_zone.select_atoms('all and not group protein', protein=prot, updating=True)\n",
    "print (\"membrane zone selected\")\n",
    "bulk_selection = u.select_atoms('all and not group protein and not group protein_zone'\n",
    "                                .format(prot_rdf, 60, -60), protein=prot, protein_zone=protein_zone, updating=True)\n",
    "print (\"Bulk selected\")\n",
    "TMD = u.select_atoms('group protein and resid 111-394', protein=prot) #### UPDATE THIS\n",
    "print (\"TMD selected as group protein and resid 111-394\")\n",
    "TMD_resid = np.unique(TMD.resids)\n",
    "print ('Selections set')\n",
    "\n",
    "output_counts_all = []\n",
    "output_counts_all_bulk = []\n",
    "\n"
   ]
  },
  {
   "cell_type": "code",
   "execution_count": 16,
   "metadata": {},
   "outputs": [
    {
     "name": "stdout",
     "output_type": "stream",
     "text": [
      "frame 0\n",
      "frame 1000\n",
      "frame 2000\n",
      "frame 3000\n",
      "frame 4000\n",
      "frame 5000\n",
      "frame 6000\n",
      "frame 7000\n",
      "frame 8000\n",
      "frame 9000\n",
      "frame 10000\n",
      "frame 11000\n"
     ]
    }
   ],
   "source": [
    "stride = 1000\n",
    "\n",
    "for idx, ts in enumerate(u.trajectory[::stride]):\n",
    "    #print ('time',ts.time)\n",
    "    print ('frame', ts.frame)\n",
    "    counts_TMD_local = []\n",
    "    unique_bulk, counts_bulk = extract_no_beads_bulk (u)\n",
    "    #print (\"Counts extracted for bulk\")\n",
    "    out_bulk_local = assign_counts(u, unique_bulk, counts_bulk)\n",
    "    output_counts_all_bulk.append(out_bulk_local)\n",
    "    for indx, r in enumerate(TMD_resid):\n",
    "        #print ('resid', r)\n",
    "        sel = u.select_atoms('(cyzone {0:f} {1:f} {2:f} resid {3:d}) and not group protein'\n",
    "                                            .format(7, 7,-7, r), protein=prot)\n",
    "        #print ('selection made')\n",
    "        sel_res = sel.resnames\n",
    "        unique, counts = np.unique(sel_res, return_counts=True)\n",
    "        out_local = assign_counts(u, unique, counts)\n",
    "\n",
    "        counts_TMD_local.append(out_local)\n",
    "    output_counts_all.append(np.array(counts_TMD_local))\n",
    "\n",
    "COUNTS_PROT = np.array(output_counts_all) # [nframes, nresids, 2, nlipid_types]\n",
    "COUNTS_VIRTUAL_BS = np.array(output_counts_all_bulk) # [nframes, 2, nlipid_types]"
   ]
  },
  {
   "cell_type": "code",
   "execution_count": 17,
   "metadata": {},
   "outputs": [
    {
     "data": {
      "text/plain": [
       "(60, 2, 9)"
      ]
     },
     "execution_count": 17,
     "metadata": {},
     "output_type": "execute_result"
    }
   ],
   "source": [
    "np.array(output_counts_all_bulk).shape"
   ]
  },
  {
   "cell_type": "code",
   "execution_count": 18,
   "metadata": {},
   "outputs": [
    {
     "data": {
      "text/plain": [
       "(59, 284, 2, 9)"
      ]
     },
     "execution_count": 18,
     "metadata": {},
     "output_type": "execute_result"
    }
   ],
   "source": [
    "np.array(output_counts_all).shape"
   ]
  },
  {
   "cell_type": "code",
   "execution_count": null,
   "metadata": {},
   "outputs": [],
   "source": []
  }
 ],
 "metadata": {
  "kernelspec": {
   "display_name": "Python 3",
   "language": "python",
   "name": "python3"
  },
  "language_info": {
   "codemirror_mode": {
    "name": "ipython",
    "version": 3
   },
   "file_extension": ".py",
   "mimetype": "text/x-python",
   "name": "python",
   "nbconvert_exporter": "python",
   "pygments_lexer": "ipython3",
   "version": "3.7.3"
  }
 },
 "nbformat": 4,
 "nbformat_minor": 2
}
